{
 "cells": [
  {
   "cell_type": "markdown",
   "id": "5ec0ced9",
   "metadata": {},
   "source": [
    "<table>\n",
    "    <tr style=\"background-color:white;\">\n",
    "        <td width=\"60%\">\n",
    "            <div style=\"height: 25px;\"></div>\n",
    "            <div align=\"left\" style=\"color: #4b324e; font-size: 40px; font-weight: bold;\">Taller de Qiskit</div>\n",
    "        </td>\n",
    "        <td>\n",
    "            <img align=\"right\" src=\"data:image/png;base64,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\"/>\n",
    "        </td>\n",
    "    </tr>\n",
    "</table>\n",
    "\n",
    "$ \\newcommand{\\bra}[1]{\\langle #1|} $\n",
    "$ \\newcommand{\\ket}[1]{|#1\\rangle} $\n",
    "$ \\newcommand{\\braket}[2]{\\langle #1|#2\\rangle} $"
   ]
  },
  {
   "cell_type": "markdown",
   "id": "20977d88",
   "metadata": {},
   "source": [
    "<div align=\"center\" style=\"color: #EE2A6F; font-size: 30px; font-weight: bold;\">Qiskit Finance</div>"
   ]
  },
  {
   "cell_type": "markdown",
   "id": "6c07d54e",
   "metadata": {},
   "source": [
    "<div align=\"right\" style=\"font-size: 15px; font-weight: normal;\">Preparado por Claudia Zendejas-Morales</div>"
   ]
  },
  {
   "cell_type": "markdown",
   "id": "3ce55472",
   "metadata": {},
   "source": [
    "<a href=\"https://opensource.org/licenses/Apache-2.0\"><img align=\"right\" src=\"data:image/png;base64,iVBORw0KGgoAAAANSUhEUgAAAHgAAAAUCAMAAABxjAnBAAACXlBMVEVVVVVWVlZXV1dYWFhZWVlaWlpgYGBhYWFiYmJkZGRlZWVmZmZnZ2doaGhqampubm5vb29wcHBycnJ1dXV3d3d4eHh6enp9fX1+fn6AgICBgYGCgoKIiIiJiYmKioqOjo6QkJCRkZGSkpKTk5OVlZWXygCXygGYygKYywOZywSZywWZywaaywebzAqczAyczQ2dzQ6ezhKfzhOgzxahzxii0Bui0Byj0B6k0B+k0SCl0SKl0SOm0SSn0ien0iio0ymo0yqpqamp0yup0yyr1DCr1DGt1TWt1Tat1Teu1jiv1jqw1z2w1z6x1z+x10Cy2EGy2EKy2EO12Um22ky32k632k+4uLi421G521O6urq63FW63Fa63Fe73Fi83Vq83Vu93Vy93l6+3l++3mDB32bB4GjG4nPG4nTH43bIyMjKysrK5H7L5YDM5YLN5YTN5oXQ54zT6ZPU1NTU6ZXV1dXV6ZfW1tbX19fX6pzX653Y2NjY66Da2tra7KTa7KXb7afc7ajd3d3d7qze3t7e7q3e7q7e7q/f39/f77Dg4ODg77Th4eHi4uLj4+Pk5OTk8bzk8b7l5eXl8r/l8sDm5ubn5+fn88Pn88To6Ojo88bo88fp6enp9Mjp9Mnp9Mrq9Mvq9Mzr9c3r9c/s9dHt9tLt9tPt9tTu7u7u9tXv99fv99jw8PDw99nw99rw+Nvx8fHx+Nzx+N3y8vLy+N7y+N/y+eDz+eH09PT0+eP0+eT0+uX1+ub2+uj2+un2++r3++v3++z4++34++74/O/5/PD6/PL7/fT7/fb8/vj///9NRvkXAAAAAWJLR0TJar1nXAAAAitJREFUSMdjYCANqFILMIxaPGoxrS0+ycx2koNoi61P1uEw7ySGSO2OPdOdIUy7mTtm2mJYzMBMvI9z6o7qE2txsp5q+hwIc2W0asx8TIuBSLpxdo+UZHlzjRhQJLKsT4GBOXLK7CIWBqgYzOINbhOSgJZUTFgRrao6adu6CaaqqoELNi8LUD2ZvWVvrKqq/7SFczzgdrtvA1NWR9RU1Q+bYbGYZ7UQA59MIzuDcC9QRJRBcDmDXBUDgzgzF1QMarHXBtWUfqDFDqrm+w1ULVVV8wpUTfc4q1q4qZ6M0/bdrWqywFDVZQXc4spCMOWzFkis9cBisVImkKW4vKSkZAYjw0kGBsaTTAKbIlU44WJQi0vzVY1OmIGDdZGnalTr3HX1qvEtsKDWOKkRt3vy5MkbnY4dO2YPFEtbqAexeCXIYm9cFitlQUUgopzKkZu4YWIQi7UP7tq69XgG2OJVLkFrnFVjG1Tjm+BxfFIzoQMpkrNnGkIYNgfUVNUOW2OxmG+9AAOnzHZJBlZ5mMUi/AxMU0R4oWIQi8NBaSV8qepJA9XgjVqJbaqquQ2qFvtsVY1doBabHfJT1YkGW6BV3aQLokNDgb4NV41YgzVxyXZO7JaSqpk6IwxmsUT7lG5HBgaoGMTi1lSQgftdT07bOs9VVbdrzuSuBlXVkMWrlgRALVYNmLNuQzHEmyd37dy500+1tlZV1WnW5llOVChATg5UyXVytKwetRgfAAAQgF5r4k2ujwAAAABJRU5ErkJggg==\"></a>"
   ]
  },
  {
   "cell_type": "markdown",
   "id": "16c3f634",
   "metadata": {},
   "source": [
    "# Contenido\n",
    "\n",
    "1. [Introducción](#intro)\n",
    "    1. [Cartera](#intro.1)\n",
    "    2. [Problema de optimización](#intro.2)\n",
    "2. [Optimización de cartera](#secc1)\n",
    "   1. [Modelo](#secc1.1)\n",
    "   2. [Ejemplo: Cartera de acciones de la bolsa de mercado](#secc1.2)\n",
    "3. [Solución con Qiskit](#secc2)\n",
    "   1. [Definir la instancia del problema](#secc2.1)\n",
    "   2. [Referencia clásica, solución con NumPyMinimumEigensolver](#secc2.2)\n",
    "   3. [Solución con VQE](#secc2.3)\n",
    "   4. [Solución con QAOA](#secc2.4)\n",
    "4. [Usando datos financieros reales](#secc3)\n",
    "5. [Referencias](#secc4)"
   ]
  },
  {
   "cell_type": "markdown",
   "id": "5272ba5a",
   "metadata": {},
   "source": [
    "<a id=\"intro\"></a>\n",
    "# Introducción"
   ]
  },
  {
   "cell_type": "markdown",
   "id": "5b8e3fe4",
   "metadata": {},
   "source": [
    "Las **finanzas** estudian cómo los agentes económicos (empresas, familias o Estado) deben tomar decisiones de inversión, ahorro y gasto en condiciones de incertidumbre. Al momento de tomar estas decisiones los agentes pueden optar por diversos tipos de recursos financieros tales como: dinero, bonos, acciones o derivados, incluyendo la compra de bienes de capital como maquinarias, edificios y otras infraestructuras.\n",
    "\n",
    "Con el paso del tiempo, las instituciones financieras y sus productos se han ido evolucionando y modernizando. Han aparecido nuevos intermediarios distintos a los bancos tradicionales (como por ejemplo sociedades gestoras de carteras, instituciones de inversión colectiva, etc.) y también nuevos productos financieros que ofrecen multitud de opciones a los clientes.\n",
    "\n",
    "En cuanto a su desarrollo teórico, recién en el siglo XX las finanzas pasan a constituirse como un área de estudio propiamente dicha. Su origen puede encontrarse en los trabajos de [Irving Fisher](https://economipedia.com/definiciones/irving-fisher.html) en 1897 en donde se refiere a las finanzas como una nueva disciplina.\n",
    "\n",
    "Su ámbito de estudio se ha ido perfeccionando en el tiempo, con el desarrollo de teorías que intentan explicar la determinación óptima del precio de los activos, la rentabilidad esperada, las decisiones en escenarios de incertidumbre, etc.\n",
    "\n",
    "Por supuesto la resolución de problemas financieros se ha encontrado con la **Computación Cuántica**. En este notebook exploraremos un ejemplo de optimización y cómo resolverlo con Qsikit.\n",
    "\n",
    "Pero primero hablemos de lo que es una **cartera** en el ámbito financierto y la definición de un **problema de optimizacion**."
   ]
  },
  {
   "cell_type": "markdown",
   "id": "85ae166f",
   "metadata": {},
   "source": [
    "<a id=\"intro.1\"></a>\n",
    "## Cartera"
   ]
  },
  {
   "cell_type": "markdown",
   "id": "06db2cff",
   "metadata": {},
   "source": [
    "Una cartera financiera es un grupo de activos que tiene un inversor o una sociedad de inversión. Los activos de una cartera de inversión pueden ser de varios tipos: por ejemplo, acciones, bonos, materias primas o derivados.\n",
    "\n",
    "Por regla general, una cartera reflejará el perfil del inversor que la ha creado, en cuanto a su tolerancia al riesgo y a los componentes clave de estrategia de inversión que la forman.\n",
    "\n",
    "Un inversor que tenga como meta obtener beneficios a largo plazo con poco riesgo tendrá una cartera formada por acciones de empresas de prestigio, bonos o fondos de índices y realizará pocas compras y ventas a corto plazo. En cambio, un inversor en operaciones intradía tendrá una cartera con mucha más actividad, formada por inversiones en el mercado de divisas o posiciones largas y cortas en derivados con apalancamiento."
   ]
  },
  {
   "cell_type": "markdown",
   "id": "51d35f83",
   "metadata": {},
   "source": [
    "Un ejemplo, es cuando estás dispuesto a invertir en acciones de la bolsa de valores. Ya sea que tu mismo o que algún consejero financiero te proponga una cartera de inversión, es decir una lista de acciones, digamos, acciones de empresas famosas como Apple, IBM, Google, Tesla, entre muchas otras."
   ]
  },
  {
   "cell_type": "markdown",
   "id": "78097f7c",
   "metadata": {},
   "source": [
    "<a id=\"intro.2\"></a>\n",
    "## Problema de optimización"
   ]
  },
  {
   "cell_type": "markdown",
   "id": "02d79246",
   "metadata": {},
   "source": [
    "En matemáticas, ciencias de la computación y economía, un problema de optimización es el problema de encontrar la mejor solución a partir de todas las soluciones factibles.\n",
    "\n",
    "La forma estándar de un problema de optimización es\n",
    "\n",
    "\\begin{align*}\n",
    "\\texttt{minimizar} \\;\\;\\; &f(x)\\\\\n",
    "\\texttt{sujeto a} \\;\\;\\; &g_i(x)\\leq 0, \\;\\;\\;\\; i = 1,\\cdots ,m\\\\\n",
    "&h_j(x)=0, \\;\\;\\;\\; j = 1,\\cdots ,p\n",
    "\\end{align*}\n",
    "\n",
    "Donde,\n",
    "\n",
    "- $f:\\mathbb{R}^n\\rightarrow\\mathbb{R}$ es la **función objetivo** a ser minimizada sobre el vector $x$ de $n$ variables\n",
    "- $g_i(x)\\leq 0$ son llamadas restricciones de desigualdad\n",
    "- $h_j(x)= 0$ son llamadas restricciones de igualdad\n",
    "- $m\\geq 0$ y $p\\geq 0$\n",
    "\n",
    "Si $m=p=0$ el problema se trata de una optimización sin restriciones. Por convención, la forma estándar define un *problema de minimización*. Un *problema de maximización* puede ser abordado al multiplicar por $-1$ la función objetivo."
   ]
  },
  {
   "cell_type": "markdown",
   "id": "1dd9cb82",
   "metadata": {},
   "source": [
    "Por supuesto podemos aplicar estos modelos matemáticos a las finanzas, como ya se ha mencionado. Toda decisión financiera se realiza para maximizar o minimizar una función objetivo, generalmente relacionada con la rentabilidad o utilidades, debiendo respetar determinados requerimientos de espacio físico, o inversión, o tiempos, entre otros recursos."
   ]
  },
  {
   "cell_type": "markdown",
   "id": "3d327e2d",
   "metadata": {},
   "source": [
    "<a id=\"secc1\"></a>\n",
    "# Optimización de cartera"
   ]
  },
  {
   "cell_type": "markdown",
   "id": "70834882",
   "metadata": {},
   "source": [
    "Imagínate que tienes una cartera financiera en la que deseas invertir. Por supuesto lo que deseas es obtener los mejores rendimientos de tu inversión, pero no sabes qué variables considerar para lograrlo. ¿Deberías leer todo tipo de informes? ¿De todos los tipos posibles de activos? Es absurdo. Debe de haber un método para optimizar y elegir de forma eficiente tu cartera. De hecho, la hay: **la optimización de cartera**.\n",
    "\n",
    "Cuando hablamos de esto, significa el proceso de elección de los pesos de los diferentes activos para su cartera con la finalidad de obtener el mejor beneficio posible comparado con carteras de composiciones o perfiles de riesgo similares. Las principales proporciones que se tienen en cuenta son los rendimientos esperados y la volatilidad esperada. Los sistemas de optimización incluyen límites de volatilidad tolerada y pesos por activo.\n",
    "\n",
    "Esta optimización está relacionada con el modelo de frontera eficiente de [Markowitz](https://onlinelibrary.wiley.com/doi/abs/10.1111/j.1540-6261.1952.tb01525.x) que propone guiar tus inversiones maximizando los rendimientos y reduciendo el riesgo. La cuestión principal que apoya este modelo es la elección de activos con baja correlación o sin correlación. Una diversificación inteligente es la idea subyacente. Una cartera eficiente significa una cartera bien diversificada.\n",
    "\n",
    "Actualmente existen diferentes métodos y enfoques para resolver los problemas de optimización de cartera. Para más detalles visita [este enlace](https://es.wikipedia.org/wiki/Optimizaci%C3%B3n_de_la_cartera)."
   ]
  },
  {
   "cell_type": "markdown",
   "id": "17a440bd",
   "metadata": {},
   "source": [
    "Retomando el ejemplo de la cartera de acciones de la bolsa de valores, lo que deseamos ahora es que de entre todas las opciones existentes, elijamos el subconjunto de las acciones que nos convienen más."
   ]
  },
  {
   "cell_type": "markdown",
   "id": "cf9d8f0f",
   "metadata": {},
   "source": [
    "<a id=\"secc1.1\"></a>\n",
    "## Modelo"
   ]
  },
  {
   "cell_type": "markdown",
   "id": "186fdeaa",
   "metadata": {},
   "source": [
    "En este notebook vamos a resolver el **problema de optimización de la cartera de varianza media** para $n$ activos. El planteamiento matemático de este modelo es:\n",
    "\n",
    "\\begin{align*}\n",
    "\\min_{x \\in \\{0, 1\\}^n} \\;\\;\\; &  q x^T \\Sigma x - \\mu^T x\\\\\n",
    "\\text{sujeto a:} \\;\\;\\;& 1^T x = B\n",
    "\\end{align*}\n",
    "\n",
    "Donde usamos la siguiente notación:\n",
    "\n",
    "- $x \\in \\{0, 1\\}^n$ denota el vector de variables de decisión binarias, que indican qué activos elegir ($x_i = 1$) y cuáles no elegir ($x_i = 0$),\n",
    "- $\\mu \\in \\mathbb{R}^n$ define los rendimientos esperados de los activos,\n",
    "- $\\Sigma \\in \\mathbb{R}^{n \\times n}$ especifica las covarianzas entre los activos,\n",
    "- $q > 0$ controla el apetito por el riesgo de quien toma las decisiones,\n",
    "- $B$ denota el presupuesto, es decir, el número de activos que se seleccionarán de los $n$ disponibles.\n",
    "- La forma de expresar la transpuesta de algún vector o matriz se expresa con el superíndice $T$.\n",
    "\n",
    "Estamos asumiendo las siguientes simplificaciones:\n",
    "\n",
    "- todos los activos tienen el mismo precio (normalizado a $1$)\n",
    "- el presupuesto $B$ tiene que ser gastado, es decir, tenemos que seleccionar exactamente $B$ activos\n",
    "\n",
    "La restricción de igualdad $1^Tx=B$ se asigna a un [término de penalización](https://en.wikipedia.org/wiki/Penalty_method) $\\left(1^Tx-B\\right)$ que se escala mediante un parámetro y se resta de la función objetivo. El problema resultante se puede asignar a un Hamiltoniano cuyo estado fundamental corresponde a la solución óptima. Este notebook muestra cómo usar el Solucionador Propio Cuántico Variacional (Variational Quantum Eigensolver, [VQE](https://www.mustythoughts.com/variational-quantum-eigensolver-explained)) o el Algoritmo de Optimización Aproximada Cuántica (Quantum Approximate Optimization Algorithm, [QAOA](https://www.mustythoughts.com/quantum-approximate-optimization-algorithm-explained)) para encontrar la solución óptima para un conjunto de parámetros dado.\n",
    "\n",
    "Los experimentos en hardware cuántico real para este problema se informan, por ejemplo, en el siguiente artículo: [Improving Variational Quantum Optimization using CVaR. Barkoutsos et al. 2019](https://arxiv.org/abs/1907.04769)."
   ]
  },
  {
   "cell_type": "markdown",
   "id": "a26b31d1",
   "metadata": {},
   "source": [
    "<a id=\"secc1.2\"></a>\n",
    "## Ejemplo: Cartera de acciones de la bolsa de mercado"
   ]
  },
  {
   "cell_type": "markdown",
   "id": "be55602a",
   "metadata": {},
   "source": [
    "Como ya hemos mencionado, el ejemplo que resolvemos en este notebook con [Qiskit Finance](https://qiskit.org/documentation/finance/), consiste en plantear una cartera de acciones de la cual, una vez optimizada, podamos tomar una decisión informada en cuáles acciones nos conviene invertir."
   ]
  },
  {
   "cell_type": "markdown",
   "id": "0e91782a",
   "metadata": {},
   "source": [
    "<div class=\"alert alert-block alert-danger\">\n",
    "\n",
    "**Nota**: Esto es una simulación y no representa un consejo financiero. De hecho los datos usados aquí son números aleatorios que sirven como ejemplo solamente.\n",
    "    \n",
    "</div>"
   ]
  },
  {
   "cell_type": "markdown",
   "id": "fc27db3d",
   "metadata": {},
   "source": [
    "Entonces, de acuerdo al modelo, los **activos** en nuestro ejemplo son [acciones](https://es.wikipedia.org/wiki/Acci%C3%B3n_(finanzas)) de una [bolsa de valores](https://es.wikipedia.org/wiki/Bolsa_de_valores). La manera de identifiar una acción es con su [Ticker](https://en.wikipedia.org/wiki/Ticker_symbol) o [código bursátil](https://es.wikipedia.org/wiki/S%C3%ADmbolo_burs%C3%A1til), este código varia entre las diferentes bolsas de valores. Para fines de este notebook, llamaremos a los tickers simplemente _Company0_, _Company1_, _Company2_, etc.\n"
   ]
  },
  {
   "cell_type": "markdown",
   "id": "9bce6562",
   "metadata": {},
   "source": [
    "<a id=\"secc2\"></a>\n",
    "# Solución con Qiskit"
   ]
  },
  {
   "cell_type": "code",
   "execution_count": 1,
   "id": "e9b6b7f5",
   "metadata": {},
   "outputs": [],
   "source": [
    "from qiskit import Aer\n",
    "from qiskit.algorithms import VQE, QAOA, NumPyMinimumEigensolver\n",
    "from qiskit.algorithms.optimizers import COBYLA\n",
    "from qiskit.circuit.library import TwoLocal\n",
    "from qiskit.utils import QuantumInstance\n",
    "from qiskit_optimization.algorithms import MinimumEigenOptimizer\n",
    "from qiskit_optimization.converters import QuadraticProgramToQubo\n",
    "from qiskit_finance.applications.optimization import PortfolioOptimization\n",
    "from qiskit_finance.data_providers import RandomDataProvider\n",
    "from qiskit.utils import algorithm_globals\n",
    "import numpy as np\n",
    "import datetime\n",
    "import matplotlib.pyplot as plt"
   ]
  },
  {
   "cell_type": "markdown",
   "id": "288ee46e",
   "metadata": {},
   "source": [
    "<a id=\"secc2.1\"></a>\n",
    "## Definir la instancia del problema"
   ]
  },
  {
   "cell_type": "markdown",
   "id": "192c148d",
   "metadata": {},
   "source": [
    "Primero generemos los datos aleatorios que representarán nuestras [series de tiempo](https://en.wikipedia.org/wiki/Time_series) correspondientes a las acciones que queremos optimizar. Para esto utilizamos la clase `RandomDataProvider` que Qiskit nos provee.\n",
    "\n",
    "Para mantener las cosas simples, manejaremos una cartera de 4 acciones (activos), es decir, $n=4$."
   ]
  },
  {
   "cell_type": "code",
   "execution_count": 2,
   "id": "38c2510a",
   "metadata": {},
   "outputs": [],
   "source": [
    "# indicar el número de activos (= número de qubits)\n",
    "\n",
    "num_assets = 4  # variable 'n' en el modelo\n",
    "\n",
    "\n",
    "\n",
    "seed = 123      # una semilla para generar los datos aleatorios\n",
    "\n",
    "# Generar el rendimiento esperado y la matriz de covarianza a partir de series de tiempo (aleatorias)\n",
    "stocks = [(\"Company%s\" % i) for i in range(num_assets)]\n",
    "data = RandomDataProvider(tickers = stocks,\n",
    "                          start = datetime.datetime(2016,1,1),\n",
    "                          end = datetime.datetime(2016,1,30),\n",
    "                          seed = seed)\n",
    "data.run()\n",
    "mu = data.get_period_return_mean_vector()\n",
    "sigma = data.get_period_return_covariance_matrix()"
   ]
  },
  {
   "cell_type": "markdown",
   "id": "6ea21b92",
   "metadata": {},
   "source": [
    "Ahora grafiquemos las [series de tiempo](https://en.wikipedia.org/wiki/Time_series) que fueron generadas de manera aleatoria.\n",
    "Lo que se ve en la gráfica (con datos aleatorios, no reales) es la representación del precio de la acción durante un periodo de tiempo, es decir, en el eje horizontal tenemos fechas y en el eje vertical tenemos los precios de la acciones."
   ]
  },
  {
   "cell_type": "code",
   "execution_count": 3,
   "id": "05261d68",
   "metadata": {},
   "outputs": [
    {
     "data": {
      "image/png": "[encoded data removed]",
      "text/plain": [
       "<Figure size 432x288 with 1 Axes>"
      ]
     },
     "metadata": {
      "needs_background": "light"
     },
     "output_type": "display_data"
    }
   ],
   "source": [
    "for (cnt, s) in enumerate(stocks):\n",
    "    plt.plot(data._data[cnt], label=s)\n",
    "plt.legend()\n",
    "plt.title(\"Series de timepo de las acciones\")\n",
    "plt.xticks(rotation=90)\n",
    "plt.show()"
   ]
  },
  {
   "cell_type": "markdown",
   "id": "07a593b4",
   "metadata": {},
   "source": [
    "Ahora especifiquemos los valores del problema de optimización: Factor de riesgo $q=0.5$, presupuesto $B=n/2$, factor de escala para la penalización presupuestaria $p=n$."
   ]
  },
  {
   "cell_type": "code",
   "execution_count": 4,
   "id": "920d87e0",
   "metadata": {},
   "outputs": [],
   "source": [
    "q = 0.5                   # valor de riesgo\n",
    "budget = num_assets // 2  # presupuesto, usamos el doble '//' para asegurarnos de obtener un número entero (función piso)\n",
    "penalty = num_assets      # parámetro para escalar el término de penalización presupuestaria"
   ]
  },
  {
   "cell_type": "markdown",
   "id": "7c4c6e44",
   "metadata": {},
   "source": [
    "Ahora creamos el objeto que plantea el problema de optimización, esto lo hacemos con ayuda de la clase `PortfolioOptimization`, [aquí](https://qiskit.org/documentation/finance/stubs/qiskit_finance.applications.PortfolioOptimization.html) puedes consultar su API completa."
   ]
  },
  {
   "cell_type": "code",
   "execution_count": 5,
   "id": "36ce3cff",
   "metadata": {},
   "outputs": [],
   "source": [
    "# planteamiento del problema de optimización\n",
    "portfolio = PortfolioOptimization(expected_returns = mu, covariances = sigma, risk_factor = q, budget = budget)\n"
   ]
  },
  {
   "cell_type": "markdown",
   "id": "8bda8cab",
   "metadata": {},
   "source": [
    "Para poder resolver el problema con computación cuántica, debemos traducirlo a su representación de programa cuadrático restringido cuadráticamente ([Quadratically Constrained Quadratic Program](https://en.wikipedia.org/wiki/Quadratically_constrained_quadratic_program), QCQP), para un tutorial dedicado a esta representación dirígete a [este enlace](https://qiskit.org/documentation/tutorials/optimization/1_quadratic_program.html).\n",
    "\n",
    "Afortunadamente, Qiskit nos provee de un método que realiza esta tarea eficientemente: `to_quadratic_program`, el cual nos regresa una instancia de la clase `QuadraticProgram`, [aquí](https://qiskit.org/documentation/stubs/qiskit.optimization.QuadraticProgram.html) puedes ver su API completa."
   ]
  },
  {
   "cell_type": "code",
   "execution_count": 6,
   "id": "3920a68c",
   "metadata": {},
   "outputs": [
    {
     "data": {
      "text/plain": [
       "\\ This file has been generated by DOcplex\n",
       "\\ ENCODING=ISO-8859-1\n",
       "\\Problem name: Portfolio optimization\n",
       "\n",
       "Minimize\n",
       " obj: - 0.015284386652 x_0 + 0.000780952145 x_1 - 0.000517920547 x_2\n",
       "      - 0.000870005837 x_3 + [ 0.002541388592 x_0^2 + 0.000146804433 x_0*x_1\n",
       "      + 0.000257201062 x_0*x_2 - 0.000199722426 x_0*x_3 + 0.000258486713 x_1^2\n",
       "      + 0.000106085519 x_1*x_2 + 0.000088963242 x_1*x_3 + 0.000791504681 x_2^2\n",
       "      - 0.000247774763 x_2*x_3 + 0.000197892585 x_3^2 ]/2\n",
       "Subject To\n",
       " c0: x_0 + x_1 + x_2 + x_3 = 2\n",
       "\n",
       "Bounds\n",
       " 0 <= x_0 <= 1\n",
       " 0 <= x_1 <= 1\n",
       " 0 <= x_2 <= 1\n",
       " 0 <= x_3 <= 1\n",
       "\n",
       "Binaries\n",
       " x_0 x_1 x_2 x_3\n",
       "End"
      ]
     },
     "execution_count": 6,
     "metadata": {},
     "output_type": "execute_result"
    }
   ],
   "source": [
    "# generamos su correspondiente programa cuadrático \n",
    "qp = portfolio.to_quadratic_program()\n",
    "qp"
   ]
  },
  {
   "cell_type": "markdown",
   "id": "e08c64fb",
   "metadata": {},
   "source": [
    "Observemos que al imprimir los detalles de la instancia de `QuadraticProgram` generada, podemos confirmar cómo se está usando el modelo. Nos está indicando que se está buscando minimizar la función objetivo:\n",
    "\n",
    "\\begin{align*}\n",
    "f(x)= &- 0.015284386652 \\; x_0 + 0.000780952145 \\; x_1 - 0.000517920547 \\; x_2 - 0.000870005837 \\; x_3\\\\\n",
    "&+ \\frac{1}{2}\\big[ 0.002541388592 \\; x_0^2 + 0.000146804433 \\; x_0*x_1 + 0.000257201062 x_0*x_2 - 0.000199722426 x_0*x_3\\\\\n",
    "&\\; + 0.000258486713 \\; x_1^2 + 0.000106085519 \\; x_1*x_2 + 0.000088963242 \\; x_1*x_3\\\\\n",
    "&\\; + 0.000791504681 \\; x_2^2 - 0.000247774763 \\; x_2*x_3 + 0.000197892585 \\; x_3^2 \\big]\n",
    "\\end{align*}\n",
    "      \n",
    "Esta función contiene términos cuadráticos como es de esperarse pues ya se trata del problema QCQP.\n",
    "\n",
    "También podemos observar la lista de variables, las cuales van de $x_0$ hasta $x_3$, pues elegimos $n=4$ (recordemos que en Python los índices comienzan en $0$), estas cuatro variables están restringidas por $0\\leq x_i\\leq 1$, pero esto es una manera de expresar los valores que pueden tomar, porque estrictamente para este problema de optimización de cartera, las variables solo pueden tener uno de dos valores:\n",
    "- $x_i=1$ si es que es un activo **seleccionado**\n",
    "- $x_i=0$ si es que es un activo **no seleccionado**"
   ]
  },
  {
   "cell_type": "markdown",
   "id": "a8c20f35",
   "metadata": {},
   "source": [
    "Ahora definamos algunas funciones que nos ayudarán a imprimir los resultados de manera clara:"
   ]
  },
  {
   "cell_type": "code",
   "execution_count": 7,
   "id": "081e14c5",
   "metadata": {},
   "outputs": [],
   "source": [
    "def index_to_selection(i, num_assets):\n",
    "    s = \"{0:b}\".format(i).rjust(num_assets)\n",
    "    x = np.array([1 if s[i]=='1' else 0 for i in reversed(range(num_assets))])\n",
    "    return x\n",
    "\n",
    "def print_result(result):\n",
    "    selection = result.x\n",
    "    value = result.fval\n",
    "    print('Optimización: selección {}, valor {:.4f}'.format(selection, value))\n",
    "\n",
    "    eigenstate = result.min_eigen_solver_result.eigenstate\n",
    "    eigenvector = eigenstate if isinstance(eigenstate, np.ndarray) else eigenstate.to_matrix()\n",
    "    probabilities = np.abs(eigenvector)**2\n",
    "    i_sorted = reversed(np.argsort(probabilities))\n",
    "    print('\\n----------------- Resultado completo ---------------------')\n",
    "    print('')\n",
    "    print('selección\\tvalor\\t\\tprobabilidad')\n",
    "    print('------------------------------------------------------------')\n",
    "    for i in i_sorted:\n",
    "        x = index_to_selection(i, num_assets)\n",
    "        value = QuadraticProgramToQubo().convert(qp).objective.evaluate(x)\n",
    "        probability = probabilities[i]\n",
    "        print('%10s\\t%.4f\\t\\t%.4f' %(x, value, probability))"
   ]
  },
  {
   "cell_type": "markdown",
   "id": "5bebc671",
   "metadata": {},
   "source": [
    "<a id=\"secc2.2\"></a>\n",
    "## Referencia clásica, solución con NumPyMinimumEigensolver"
   ]
  },
  {
   "cell_type": "markdown",
   "id": "09dd9524",
   "metadata": {},
   "source": [
    "Resolvamos el problema. Primero clásicamente.\n",
    "\n",
    "Ahora podemos usar el problema que construimos anteriormente sin tener en cuenta los detalles de cómo se creó, de eso se encarga Qiskit. Configuramos el algoritmo para resolver con la clase `NumPyMinimumEigensolver`, de esta manera, tendremos una referencia clásica, algo con que comparar los resultados obtenidos con computación cuántica. El problema está fijado para [\"ising\"](https://arxiv.org/pdf/2009.09208.pdf). No se requiere backend, ya que se calcula de forma clásica sin utilizar el cálculo cuántico. El resultado se devuelve como un diccionario."
   ]
  },
  {
   "cell_type": "code",
   "execution_count": 8,
   "id": "834a23c3",
   "metadata": {},
   "outputs": [
    {
     "name": "stdout",
     "output_type": "stream",
     "text": [
      "Optimización: selección [1. 0. 0. 1.], valor -0.0149\n",
      "\n",
      "----------------- Resultado completo ---------------------\n",
      "\n",
      "selección\tvalor\t\tprobabilidad\n",
      "------------------------------------------------------------\n",
      " [1 0 0 1]\t-0.0149\t\t1.0000\n",
      " [1 1 1 1]\t4.0656\t\t0.0000\n",
      " [0 1 1 1]\t1.0199\t\t0.0000\n",
      " [1 0 1 1]\t1.0049\t\t0.0000\n",
      " [0 0 1 1]\t-0.0010\t\t0.0000\n",
      " [1 1 0 1]\t1.0060\t\t0.0000\n",
      " [0 1 0 1]\t0.0002\t\t0.0000\n",
      " [0 0 0 1]\t1.0191\t\t0.0000\n",
      " [1 1 1 0]\t1.0069\t\t0.0000\n",
      " [0 1 1 0]\t0.0008\t\t0.0000\n",
      " [1 0 1 0]\t-0.0140\t\t0.0000\n",
      " [0 0 1 0]\t1.0197\t\t0.0000\n",
      " [1 1 0 0]\t-0.0130\t\t0.0000\n",
      " [0 1 0 0]\t1.0208\t\t0.0000\n",
      " [1 0 0 0]\t1.0059\t\t0.0000\n",
      " [0 0 0 0]\t4.0795\t\t0.0000\n"
     ]
    }
   ],
   "source": [
    "exact_mes = NumPyMinimumEigensolver()                 # solucionador clásico\n",
    "exact_eigensolver = MinimumEigenOptimizer(exact_mes)  # lo enviamos al optimizador\n",
    "\n",
    "result = exact_eigensolver.solve(qp)                  # le pedimos que lo resuelva\n",
    "\n",
    "print_result(result)                                  # imprimimos el resultados"
   ]
  },
  {
   "cell_type": "markdown",
   "id": "da27a20e",
   "metadata": {},
   "source": [
    "En este resultado podemos observar la solución, la cual nos indica que la selección de acciones que optimizan nuestra cartera es,\n",
    "\n",
    "$$[1 \\; 0 \\; 0 \\; 1]$$\n",
    "\n",
    "Es decir, las acciones seleccionadas son la primera y la última, en nuestro ejemplo, la _Company0_ y la _Company3_. En la tabla se observan todas las combinaciones posibles de selección de acciones, pero vemos que la primera combinación nos da el valor **mínimo** de riesgo, que es lo que buscábamos.\n",
    "\n",
    "Ahora resolvamos este mismo problema con solucionadores cuánticos."
   ]
  },
  {
   "cell_type": "markdown",
   "id": "c1e680b3",
   "metadata": {},
   "source": [
    "<a id=\"secc2.3\"></a>\n",
    "## Solución con VQE"
   ]
  },
  {
   "cell_type": "markdown",
   "id": "ae176785",
   "metadata": {},
   "source": [
    "Ahora usemos el Solucionador Propio Cuántico Variacional (Variational Quantum Eigensolver, VQE) para resolver el problema. Especifiquemos el optimizador y la forma variacional que se utilizará.\n",
    "\n",
    "Nota: puedes cambiar a diferentes backends proporcionando el nombre del backend."
   ]
  },
  {
   "cell_type": "code",
   "execution_count": 9,
   "id": "ce97b230",
   "metadata": {},
   "outputs": [
    {
     "name": "stdout",
     "output_type": "stream",
     "text": [
      "Optimización: selección [1. 0. 0. 1.], valor -0.0149\n",
      "\n",
      "----------------- Resultado completo ---------------------\n",
      "\n",
      "selección\tvalor\t\tprobabilidad\n",
      "------------------------------------------------------------\n",
      " [1 0 0 1]\t-0.0149\t\t0.8311\n",
      " [0 0 1 1]\t-0.0010\t\t0.0946\n",
      " [1 1 0 0]\t-0.0130\t\t0.0703\n",
      " [0 1 1 0]\t0.0008\t\t0.0030\n",
      " [1 0 1 0]\t-0.0140\t\t0.0008\n",
      " [0 1 0 1]\t0.0002\t\t0.0001\n",
      " [0 0 1 0]\t1.0197\t\t0.0000\n",
      " [0 1 1 1]\t1.0199\t\t0.0000\n",
      " [1 0 1 1]\t1.0049\t\t0.0000\n",
      " [0 0 0 1]\t1.0191\t\t0.0000\n",
      " [0 1 0 0]\t1.0208\t\t0.0000\n",
      " [0 0 0 0]\t4.0795\t\t0.0000\n",
      " [1 0 0 0]\t1.0059\t\t0.0000\n",
      " [1 1 1 0]\t1.0069\t\t0.0000\n",
      " [1 1 1 1]\t4.0656\t\t0.0000\n",
      " [1 1 0 1]\t1.0060\t\t0.0000\n"
     ]
    }
   ],
   "source": [
    "algorithm_globals.random_seed = 1234\n",
    "backend = Aer.get_backend('statevector_simulator')     # backend (simulado)\n",
    "\n",
    "\n",
    "cobyla = COBYLA()                               # tipo de optimización a utilizar\n",
    "cobyla.set_options(maxiter=500)                 # indicamos un máximo de iteraciones (intentos para resolver el problema)\n",
    "\n",
    "# creamos un circuito parametrizado (es al que se le deben optimizar sus parámetros)\n",
    "ry = TwoLocal(num_assets, 'ry', 'cz', reps = 3, entanglement = 'full')\n",
    "\n",
    "# creamos una instancia cuántica con el backend creado\n",
    "quantum_instance = QuantumInstance(backend=backend, seed_simulator=seed, seed_transpiler=seed)\n",
    " \n",
    "# creamos una instancia de la clase VQE, indicándole el tipo de optimización y el circuito a optimizar\n",
    "vqe_mes = VQE(ry, optimizer=cobyla, quantum_instance=quantum_instance)\n",
    "\n",
    "# lo enviamos al optimizador\n",
    "vqe = MinimumEigenOptimizer(vqe_mes)\n",
    "\n",
    "# le pedimos que lo resuelva\n",
    "result = vqe.solve(qp)\n",
    "\n",
    "# imprimimos el resultados\n",
    "print_result(result)"
   ]
  },
  {
   "cell_type": "markdown",
   "id": "c3a30b1a",
   "metadata": {},
   "source": [
    "Con este método cuántico obtenemos el mismo resultado, las acciones que debemos elegir de la cartera son la primera y la última (_Company0_ y _Company3_)."
   ]
  },
  {
   "cell_type": "markdown",
   "id": "0fa540d3",
   "metadata": {},
   "source": [
    "<a id=\"secc2.4\"></a>\n",
    "## Solución con QAOA"
   ]
  },
  {
   "cell_type": "markdown",
   "id": "665fc6e2",
   "metadata": {},
   "source": [
    "También veamos un resultado utilizando el Algoritmo de Optimización Aproximada Cuántica (Quantum Approximate Optimization Algorithm, QAOA). Este es otro algoritmo variacional y utiliza una forma variacional interna que se crea en función del problema."
   ]
  },
  {
   "cell_type": "code",
   "execution_count": 10,
   "id": "f2b48baa",
   "metadata": {},
   "outputs": [
    {
     "name": "stdout",
     "output_type": "stream",
     "text": [
      "Optimización: selección [1. 0. 0. 1.], valor -0.0149\n",
      "\n",
      "----------------- Resultado completo ---------------------\n",
      "\n",
      "selección\tvalor\t\tprobabilidad\n",
      "------------------------------------------------------------\n",
      " [0 1 1 0]\t0.0008\t\t0.1710\n",
      " [0 1 0 1]\t0.0002\t\t0.1707\n",
      " [0 0 1 1]\t-0.0010\t\t0.1700\n",
      " [1 1 0 0]\t-0.0130\t\t0.1632\n",
      " [1 0 1 0]\t-0.0140\t\t0.1627\n",
      " [1 0 0 1]\t-0.0149\t\t0.1621\n",
      " [1 1 1 1]\t4.0656\t\t0.0001\n",
      " [0 0 0 0]\t4.0795\t\t0.0001\n",
      " [1 0 1 1]\t1.0049\t\t0.0000\n",
      " [1 1 0 1]\t1.0060\t\t0.0000\n",
      " [0 1 0 0]\t1.0208\t\t0.0000\n",
      " [0 0 1 0]\t1.0197\t\t0.0000\n",
      " [0 0 0 1]\t1.0191\t\t0.0000\n",
      " [1 1 1 0]\t1.0069\t\t0.0000\n",
      " [0 1 1 1]\t1.0199\t\t0.0000\n",
      " [1 0 0 0]\t1.0059\t\t0.0000\n"
     ]
    }
   ],
   "source": [
    "algorithm_globals.random_seed = 1234\n",
    "backend = Aer.get_backend('statevector_simulator')     # backend (simulado)\n",
    "\n",
    "cobyla = COBYLA()                               # tipo de optimización a utilizar\n",
    "cobyla.set_options(maxiter=250)                 # indicamos un máximo de iteraciones (intentos para resolver el problema)\n",
    "\n",
    "# creamos una instancia cuántica con el backend creado\n",
    "quantum_instance = QuantumInstance(backend=backend, seed_simulator=seed, seed_transpiler=seed)\n",
    "\n",
    "# creamos una instancia de la clase QAOA, indicándole el tipo de optimización y el circuito a optimizar\n",
    "qaoa_mes = QAOA(optimizer=cobyla, reps=3, quantum_instance=quantum_instance)\n",
    "\n",
    "# lo enviamos al optimizador\n",
    "qaoa = MinimumEigenOptimizer(qaoa_mes)\n",
    "\n",
    "# le pedimos que lo resuelva\n",
    "result = qaoa.solve(qp)\n",
    "\n",
    "# imprimimos el resultados\n",
    "print_result(result)"
   ]
  },
  {
   "cell_type": "markdown",
   "id": "ce1e640a",
   "metadata": {},
   "source": [
    "De igual manera obtenemos el mismo resultado, las acciones que debemos elegir de la cartera son la primera y la última (_Company0_ y _Company3_)."
   ]
  },
  {
   "cell_type": "markdown",
   "id": "28a7aac4",
   "metadata": {},
   "source": [
    "<a id=\"secc3\"></a>\n",
    "# Usando datos financieros reales"
   ]
  },
  {
   "cell_type": "markdown",
   "id": "8907d1d4",
   "metadata": {},
   "source": [
    "Si bien el acceso a datos en tiempo real generalmente requiere un pago, es posible acceder a precios de cierre **históricos** (_ajustados_) a través de Wikipedia y Quandl de forma gratuita, para ello debes registrarte en: https://www.quandl.com/?modal=register. Una vez que tengas tu token, utilízalo para establecer la variable `quandl_token`."
   ]
  },
  {
   "cell_type": "markdown",
   "id": "6b273e68",
   "metadata": {},
   "source": [
    "<div class=\"alert alert-block alert-danger\">\n",
    "\n",
    "**Nota**: Aunque se trate de datos reales en este ejemplo, sigue sin ser un consejo financiero, pues se trata de datos históircos ajustados, no tenemos control de que tan atrás en la historia nos esté dando los datos la plataforma _Quandl_ y desconocemos el _ajuste_ que hace.\n",
    "    \n",
    "</div>"
   ]
  },
  {
   "cell_type": "code",
   "execution_count": 11,
   "id": "e033fb32",
   "metadata": {},
   "outputs": [],
   "source": [
    "from qiskit_finance import QiskitFinanceError\n",
    "from qiskit_finance.data_providers import WikipediaDataProvider\n",
    "\n",
    "#quandl_token = \"\"   # Your token here"
   ]
  },
  {
   "cell_type": "markdown",
   "id": "5d397c97",
   "metadata": {},
   "source": [
    "Tomemos $n=5$ activos (acciones) para este ejemplo, tomaremos 5 ejemplos de tickers que define la bolsa de valores [NASDAQ](https://www.nasdaq.com/)"
   ]
  },
  {
   "cell_type": "code",
   "execution_count": 12,
   "id": "6db28abf",
   "metadata": {},
   "outputs": [],
   "source": [
    "stocks = [ \"AAPL\", \"F\", \"NFLX\", \"AMZN\", \"IBM\"]  # tickers de NASDAQ\n",
    "\n",
    "try:\n",
    "    wiki = WikipediaDataProvider(\n",
    "                     token = quandl_token,\n",
    "                     tickers = stocks,\n",
    "                     start = datetime.datetime(2016,1,1),\n",
    "                     end = datetime.datetime(2016,1,30))\n",
    "    wiki.run()\n",
    "except QiskitFinanceError as ex:\n",
    "    print(ex)\n",
    "    print(\"Error al tratar de obtener los datos.\")"
   ]
  },
  {
   "cell_type": "markdown",
   "id": "5d15a55a",
   "metadata": {},
   "source": [
    "Echemos un vistazo a las series de tiempo:"
   ]
  },
  {
   "cell_type": "code",
   "execution_count": 13,
   "id": "4e906504",
   "metadata": {},
   "outputs": [
    {
     "data": {
      "image/png": "[encoded data removed]",
      "text/plain": [
       "<Figure size 432x288 with 1 Axes>"
      ]
     },
     "metadata": {
      "needs_background": "light"
     },
     "output_type": "display_data"
    }
   ],
   "source": [
    "if wiki._data:\n",
    "    for (cnt, s) in enumerate(stocks):\n",
    "        plt.plot(wiki._data[cnt], label=s)\n",
    "    plt.legend()\n",
    "    plt.title(\"La evolución anual de los precios de las acciones:\")\n",
    "    plt.xticks(rotation=90)\n",
    "    plt.show()\n",
    "else:\n",
    "    print('No hay datos cargados en la variable \"wiki\".')"
   ]
  },
  {
   "cell_type": "markdown",
   "id": "5241dbf9",
   "metadata": {},
   "source": [
    "Como todos los activos deben tener el mismo orden de magnitud en sus precios, los datos deben estar normalizados, observemos la siguiente gráfica para ver cómo se ven las series de tiempo normalizadas."
   ]
  },
  {
   "cell_type": "code",
   "execution_count": 14,
   "id": "1f4e9d11",
   "metadata": {},
   "outputs": [
    {
     "data": {
      "image/png": "[encoded data removed]",
      "text/plain": [
       "<Figure size 432x288 with 1 Axes>"
      ]
     },
     "metadata": {
      "needs_background": "light"
     },
     "output_type": "display_data"
    }
   ],
   "source": [
    "if wiki._data:\n",
    "    for (cnt, s) in enumerate(stocks):\n",
    "        min_ = np.min(wiki._data[cnt])\n",
    "        max_ = np.max(wiki._data[cnt])\n",
    "        norm = (wiki._data[cnt] - min_)/(max_- min_)\n",
    "        plt.plot(norm, label=s)\n",
    "    plt.legend()\n",
    "    plt.title(\"La evolución anual normalizada de los precios de las acciones:\")\n",
    "    plt.xticks(rotation=90)\n",
    "    plt.show()\n",
    "else:\n",
    "    print('No hay datos cargados en la variable \"wiki\".')"
   ]
  },
  {
   "cell_type": "markdown",
   "id": "21c4bb43",
   "metadata": {},
   "source": [
    "Parámetros de distribución normal"
   ]
  },
  {
   "cell_type": "code",
   "execution_count": 15,
   "id": "4f336886",
   "metadata": {},
   "outputs": [],
   "source": [
    "mu = wiki.get_period_return_mean_vector()\n",
    "sigma = wiki.get_period_return_covariance_matrix()"
   ]
  },
  {
   "cell_type": "markdown",
   "id": "958e46c8",
   "metadata": {},
   "source": [
    "Resolvamos el problema. Con un solucionador clásico, tu puedes programar la soluciones cuánticas para este ejemplo."
   ]
  },
  {
   "cell_type": "code",
   "execution_count": 16,
   "id": "65f1df28",
   "metadata": {},
   "outputs": [],
   "source": [
    "# número de activos (tamaño de nuestro arreglo de tickers NASDAQ)\n",
    "num_assets = len(stocks)\n",
    "\n",
    "# establecer factor de riesgo\n",
    "q = 0.5\n",
    "\n",
    "# establecer presupuesto\n",
    "budget = 2\n",
    "\n",
    "# establecer parámetro para escalar el término de penalización presupuestaria\n",
    "penalty = num_assets"
   ]
  },
  {
   "cell_type": "code",
   "execution_count": 17,
   "id": "fdd7b4d6",
   "metadata": {},
   "outputs": [
    {
     "data": {
      "text/plain": [
       "\\ This file has been generated by DOcplex\n",
       "\\ ENCODING=ISO-8859-1\n",
       "\\Problem name: Portfolio optimization\n",
       "\n",
       "Minimize\n",
       " obj: 0.004003851233 x_0 + 0.006647566966 x_1 + 0.009129426904 x_2\n",
       "      + 0.003891398085 x_3 + 0.004622523360 x_4 + [ 0.000798336105 x_0^2\n",
       "      + 0.000677844604 x_0*x_1 + 0.000705589675 x_0*x_2 + 0.000772373590 x_0*x_3\n",
       "      + 0.000389553072 x_0*x_4 + 0.000433411296 x_1^2 + 0.000019367485 x_1*x_2\n",
       "      + 0.000355406478 x_1*x_3 + 0.000270086022 x_1*x_4 + 0.001749068336 x_2^2\n",
       "      + 0.001615693677 x_2*x_3 + 0.000176362381 x_2*x_4 + 0.001354803282 x_3^2\n",
       "      + 0.000262675516 x_3*x_4 + 0.000260455400 x_4^2 ]/2\n",
       "Subject To\n",
       " c0: x_0 + x_1 + x_2 + x_3 + x_4 = 2\n",
       "\n",
       "Bounds\n",
       " 0 <= x_0 <= 1\n",
       " 0 <= x_1 <= 1\n",
       " 0 <= x_2 <= 1\n",
       " 0 <= x_3 <= 1\n",
       " 0 <= x_4 <= 1\n",
       "\n",
       "Binaries\n",
       " x_0 x_1 x_2 x_3 x_4\n",
       "End"
      ]
     },
     "execution_count": 17,
     "metadata": {},
     "output_type": "execute_result"
    }
   ],
   "source": [
    "portfolio = PortfolioOptimization(expected_returns=mu, covariances=sigma, risk_factor=q, budget=budget)\n",
    "qp = portfolio.to_quadratic_program()\n",
    "qp"
   ]
  },
  {
   "cell_type": "code",
   "execution_count": 18,
   "id": "f9b3b227",
   "metadata": {},
   "outputs": [
    {
     "name": "stdout",
     "output_type": "stream",
     "text": [
      "Optimización: selección [1. 0. 0. 0. 1.], valor 0.0094\n",
      "\n",
      "----------------- Resultado completo ---------------------\n",
      "\n",
      "selección\tvalor\t\tprobabilidad\n",
      "------------------------------------------------------------\n",
      "[1 0 0 0 1]\t0.0094\t\t1.0000\n",
      "[1 1 1 1 1]\t9.3322\t\t0.0000\n",
      "[0 1 1 1 0]\t1.0556\t\t0.0000\n",
      "[1 0 0 0 0]\t1.0376\t\t0.0000\n",
      "[0 1 0 0 0]\t1.0401\t\t0.0000\n",
      "[1 1 0 0 0]\t0.0116\t\t0.0000\n",
      "[0 0 1 0 0]\t1.0432\t\t0.0000\n",
      "[1 0 1 0 0]\t0.0148\t\t0.0000\n",
      "[0 1 1 0 0]\t0.0169\t\t0.0000\n",
      "[1 1 1 0 0]\t1.0552\t\t0.0000\n",
      "[0 0 0 1 0]\t1.0378\t\t0.0000\n",
      "[1 0 0 1 0]\t0.0094\t\t0.0000\n",
      "[0 1 0 1 0]\t0.0116\t\t0.0000\n",
      "[1 1 0 1 0]\t1.0500\t\t0.0000\n",
      "[0 0 1 1 0]\t0.0154\t\t0.0000\n",
      "[1 0 1 1 0]\t1.0537\t\t0.0000\n",
      "[1 1 1 1 0]\t4.1608\t\t0.0000\n",
      "[0 1 1 1 1]\t4.1604\t\t0.0000\n",
      "[0 0 0 0 1]\t1.0380\t\t0.0000\n",
      "[0 1 0 0 1]\t0.0118\t\t0.0000\n",
      "[1 1 0 0 1]\t1.0499\t\t0.0000\n",
      "[0 0 1 0 1]\t0.0148\t\t0.0000\n",
      "[1 0 1 0 1]\t1.0530\t\t0.0000\n",
      "[0 1 1 0 1]\t1.0551\t\t0.0000\n",
      "[1 1 1 0 1]\t4.1600\t\t0.0000\n",
      "[0 0 0 1 1]\t0.0095\t\t0.0000\n",
      "[1 0 0 1 1]\t1.0477\t\t0.0000\n",
      "[0 1 0 1 1]\t1.0498\t\t0.0000\n",
      "[1 1 0 1 1]\t4.1548\t\t0.0000\n",
      "[0 0 1 1 1]\t1.0536\t\t0.0000\n",
      "[1 0 1 1 1]\t4.1586\t\t0.0000\n",
      "[0 0 0 0 0]\t4.1329\t\t0.0000\n"
     ]
    }
   ],
   "source": [
    "exact_mes = NumPyMinimumEigensolver()\n",
    "exact_eigensolver = MinimumEigenOptimizer(exact_mes)\n",
    "\n",
    "result_classical = exact_eigensolver.solve(qp)\n",
    "\n",
    "print_result(result_classical)"
   ]
  },
  {
   "cell_type": "markdown",
   "id": "9152fcde",
   "metadata": {},
   "source": [
    "La solución óptima es la del valor mínimo, que indica que se debe elegir el primer y último activo, es decir, `AAPL` e `IBM`.\n",
    "\n",
    "**Esto puede variar según los valores de la serie temporal, que cambian según el momento en que se esté ejecutando este notebook.**"
   ]
  },
  {
   "cell_type": "markdown",
   "id": "3ba02b46",
   "metadata": {},
   "source": [
    "<a id=\"secc4\"></a>\n",
    "# Referencias"
   ]
  },
  {
   "cell_type": "markdown",
   "id": "e152db04",
   "metadata": {},
   "source": [
    "- [1] Finanzas, https://economipedia.com/definiciones/finanzas.html\n",
    "- [2] Cartera, https://www.ig.com/es/glosario-trading/definicion-de-cartera\n",
    "- [3] Decisiones Financieras con Programación Lineal: Diferentes Eatados de la Naturaleza, http://nulan.mdp.edu.ar/987/1/00401.pdf\n",
    "- [4] Portfolio Optimization, https://qiskit.org/documentation/finance/tutorials/01_portfolio_optimization.html\n",
    "- [5] Loading and Processing Stock-Market Time-Series Data, https://qiskit.org/documentation/finance/tutorials/11_time_series.html"
   ]
  },
  {
   "cell_type": "markdown",
   "id": "45b839e3",
   "metadata": {},
   "source": [
    "<table width=\"100%\">\n",
    "    <tr style=\"background-color:white;\">\n",
    "        <td>\n",
    "            <div style=\"text-align: left;\">\n",
    "            <a href=\"01_Optimization.ipynb\" style=\"color: #EE2A6F; font-size: 15px; font-weight: normal;\">\n",
    "                &lt;&lt; Notebook anterior: 01_Optimization\n",
    "            </a>\n",
    "            </div>\n",
    "        </td>\n",
    "        <td>\n",
    "            <div style=\"text-align: right;\">\n",
    "            <a href=\"03_Nature.ipynb\" style=\"color: #EE2A6F; font-size: 15px; font-weight: normal;\">\n",
    "                Notebook siguiente: 03_Nature >>\n",
    "            </a>\n",
    "            </div>\n",
    "        </td>\n",
    "    </tr>\n",
    "</table>"
   ]
  },
  {
   "cell_type": "code",
   "execution_count": null,
   "id": "90a78546",
   "metadata": {},
   "outputs": [],
   "source": []
  }
 ],
 "metadata": {
  "kernelspec": {
   "display_name": "Python 3",
   "language": "python",
   "name": "python3"
  },
  "language_info": {
   "codemirror_mode": {
    "name": "ipython",
    "version": 3
   },
   "file_extension": ".py",
   "mimetype": "text/x-python",
   "name": "python",
   "nbconvert_exporter": "python",
   "pygments_lexer": "ipython3",
   "version": "3.9.5"
  }
 },
 "nbformat": 4,
 "nbformat_minor": 5
}
