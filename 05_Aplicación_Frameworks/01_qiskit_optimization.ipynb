{
 "cells": [
  {
   "cell_type": "markdown",
   "id": "further-resistance",
   "metadata": {},
   "source": [
    "<table>\n",
    "    <tr style=\"background-color:white;\">\n",
    "        <td width=\"60%\">\n",
    "            <div style=\"height: 25px;\"></div>\n",
    "            <div align=\"left\" style=\"color: #4b324e; font-size: 40px; font-weight: bold;\">Taller de Qiskit</div>\n",
    "        </td>\n",
    "        <td>\n",
    "            <img align=\"right\" src=\"data:image/png;base64,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\"/>\n",
    "        </td>\n",
    "    </tr>\n",
    "</table>\n",
    "\n",
    "$ \\newcommand{\\bra}[1]{\\langle #1|} $\n",
    "$ \\newcommand{\\ket}[1]{|#1\\rangle} $\n",
    "$ \\newcommand{\\braket}[2]{\\langle #1|#2\\rangle} $"
   ]
  },
  {
   "cell_type": "markdown",
   "id": "horizontal-release",
   "metadata": {},
   "source": [
    "<div align=\"center\" style=\"color: #EE2A6F; font-size: 30px; font-weight: bold;\">Qiskit Optimization</div>"
   ]
  },
  {
   "cell_type": "markdown",
   "id": "after-citizen",
   "metadata": {},
   "source": [
    "<div align=\"right\" style=\"font-size: 15px; font-weight: normal;\">Preparado por Diego Aguilar Muñoz</div>"
   ]
  },
  {
   "cell_type": "markdown",
   "id": "celtic-marina",
   "metadata": {},
   "source": [
    "<a href=\"https://opensource.org/licenses/Apache-2.0\"><img align=\"right\" src=\"data:image/png;base64,iVBORw0KGgoAAAANSUhEUgAAAHgAAAAUCAMAAABxjAnBAAACXlBMVEVVVVVWVlZXV1dYWFhZWVlaWlpgYGBhYWFiYmJkZGRlZWVmZmZnZ2doaGhqampubm5vb29wcHBycnJ1dXV3d3d4eHh6enp9fX1+fn6AgICBgYGCgoKIiIiJiYmKioqOjo6QkJCRkZGSkpKTk5OVlZWXygCXygGYygKYywOZywSZywWZywaaywebzAqczAyczQ2dzQ6ezhKfzhOgzxahzxii0Bui0Byj0B6k0B+k0SCl0SKl0SOm0SSn0ien0iio0ymo0yqpqamp0yup0yyr1DCr1DGt1TWt1Tat1Teu1jiv1jqw1z2w1z6x1z+x10Cy2EGy2EKy2EO12Um22ky32k632k+4uLi421G521O6urq63FW63Fa63Fe73Fi83Vq83Vu93Vy93l6+3l++3mDB32bB4GjG4nPG4nTH43bIyMjKysrK5H7L5YDM5YLN5YTN5oXQ54zT6ZPU1NTU6ZXV1dXV6ZfW1tbX19fX6pzX653Y2NjY66Da2tra7KTa7KXb7afc7ajd3d3d7qze3t7e7q3e7q7e7q/f39/f77Dg4ODg77Th4eHi4uLj4+Pk5OTk8bzk8b7l5eXl8r/l8sDm5ubn5+fn88Pn88To6Ojo88bo88fp6enp9Mjp9Mnp9Mrq9Mvq9Mzr9c3r9c/s9dHt9tLt9tPt9tTu7u7u9tXv99fv99jw8PDw99nw99rw+Nvx8fHx+Nzx+N3y8vLy+N7y+N/y+eDz+eH09PT0+eP0+eT0+uX1+ub2+uj2+un2++r3++v3++z4++34++74/O/5/PD6/PL7/fT7/fb8/vj///9NRvkXAAAAAWJLR0TJar1nXAAAAitJREFUSMdjYCANqFILMIxaPGoxrS0+ycx2koNoi61P1uEw7ySGSO2OPdOdIUy7mTtm2mJYzMBMvI9z6o7qE2txsp5q+hwIc2W0asx8TIuBSLpxdo+UZHlzjRhQJLKsT4GBOXLK7CIWBqgYzOINbhOSgJZUTFgRrao6adu6CaaqqoELNi8LUD2ZvWVvrKqq/7SFczzgdrtvA1NWR9RU1Q+bYbGYZ7UQA59MIzuDcC9QRJRBcDmDXBUDgzgzF1QMarHXBtWUfqDFDqrm+w1ULVVV8wpUTfc4q1q4qZ6M0/bdrWqywFDVZQXc4spCMOWzFkis9cBisVImkKW4vKSkZAYjw0kGBsaTTAKbIlU44WJQi0vzVY1OmIGDdZGnalTr3HX1qvEtsKDWOKkRt3vy5MkbnY4dO2YPFEtbqAexeCXIYm9cFitlQUUgopzKkZu4YWIQi7UP7tq69XgG2OJVLkFrnFVjG1Tjm+BxfFIzoQMpkrNnGkIYNgfUVNUOW2OxmG+9AAOnzHZJBlZ5mMUi/AxMU0R4oWIQi8NBaSV8qepJA9XgjVqJbaqquQ2qFvtsVY1doBabHfJT1YkGW6BV3aQLokNDgb4NV41YgzVxyXZO7JaSqpk6IwxmsUT7lG5HBgaoGMTi1lSQgftdT07bOs9VVbdrzuSuBlXVkMWrlgRALVYNmLNuQzHEmyd37dy500+1tlZV1WnW5llOVChATg5UyXVytKwetRgfAAAQgF5r4k2ujwAAAABJRU5ErkJggg==\"></a>"
   ]
  },
  {
   "cell_type": "markdown",
   "id": "blind-biography",
   "metadata": {},
   "source": [
    "# Contenido\n",
    "\n",
    "1. [Introducción](#intro)\n",
    "2. [Programas cuadráticos](#secc1)\n",
    "3. [Optimizador del algoritmo de Grover](#secc2)\n",
    "   1. [Búsqueda Adaptada de Grover (GAS)](#secc2.1)\n",
    "   2. [Minimizar un problema QUBO](#secc2.2)\n",
    "4. [Referencias](#secc3)"
   ]
  },
  {
   "cell_type": "markdown",
   "id": "smooth-underground",
   "metadata": {},
   "source": [
    "<a id=\"intro\"></a>\n",
    "# Introducción"
   ]
  },
  {
   "cell_type": "markdown",
   "id": "postal-finish",
   "metadata": {},
   "source": [
    "Qiskit Optimization es un modulo que cubre un amplio rango de optimizaciones. Desde modelado de alto nivel de problemas de optimización hasta algoritmos cuánticos de optimización listos para correr tanto en simuladores clásicos como dispositivos reales.\n",
    "\n",
    "Este módulo permite modelar fácilmente problemas cuadráticos por medio de <a href=\"https://ibmdecisionoptimization.github.io/docplex-doc/mp/index.html\">docplex</a>, permitiendo resolverlos con una gran variedad de algoritmos cuánticos variacionales como el Algoritmo de Optimización Aproximada Cuántica (Quantum Approximate Optimization Algorithm, QAOA) o la Búsqueda Adaptada de Grover (Grover Adaptive Search, GAS).\n",
    "\n",
    "Qiskit Optimization se divide en 3 principales submódulos:\n",
    "\n",
    "1. **Problems**: Define estructuras para modelar problemas de optimización tales como programas cuadráticos.\n",
    "\n",
    "2. **Algorithms**: Este submódulo se centra en algoritmos de optimización de problemas.\n",
    "\n",
    "3. **Converters**: Busca transformar diferentes programas cuadráticos a otras representaciones e interpretarlas.\n",
    "\n",
    "En este Notebook tendremos como objetivo aprender a modelar un programa cuadrático y aplicar un algoritmo de optimización, en este caso GAS."
   ]
  },
  {
   "cell_type": "code",
   "execution_count": 2,
   "id": "parental-latest",
   "metadata": {},
   "outputs": [],
   "source": [
    "from qiskit import BasicAer\n",
    "from qiskit.optimization import QuadraticProgram\n",
    "from qiskit.aqua.algorithms import NumPyMinimumEigensolver\n",
    "from qiskit.optimization.algorithms import GroverOptimizer, MinimumEigenOptimizer\n",
    "\n",
    "# Actualmente la versión de qiskit.optimization usada por Qiskit 0.28.0 muestra un mensaje de advertencia \n",
    "# (deprecation), lo suprimimos por comodidad\n",
    "import warnings\n",
    "warnings.filterwarnings(\"ignore\")"
   ]
  },
  {
   "cell_type": "markdown",
   "id": "grateful-character",
   "metadata": {},
   "source": [
    "<a id=\"secc1\"></a>\n",
    "# Programas cuadráticos"
   ]
  },
  {
   "cell_type": "markdown",
   "id": "split-employment",
   "metadata": {},
   "source": [
    "Qiskit Optimization introduce la clase `QuadraticProgram` para poder modelar programa cuadrático con constricciones cuadráticas. Este programa es tal que:\n",
    "\n",
    " Minimiza $$x^\\top Q_0 x + c^\\top x$$\n",
    "\n",
    " sujeto a $$\\begin{align*} & Ax \\leq b \\\\ & x^\\top Q_i x + a_i^\\top x \\leq r_i \\\\ & l_i \\leq x_i \\leq u_i \\end{align*}$$\n",
    "\n",
    " Donde $Q_i$ son matrices de $n \\times n$. A es una matriz de $m \\times n$, $x$ y $c$ son vectores n-dimensionales, b es un vector m-dimensional y $x$ puede ser una variable binaria, entera o continua. Es importante recordar que $x^\\top$ representa la transpuesta del vector $x$.\n",
    "\n",
    " Para aprender a modelar un programa cuadrático, podemos empezar creando un modelo vacío\n"
   ]
  },
  {
   "cell_type": "code",
   "execution_count": 3,
   "id": "loved-celtic",
   "metadata": {},
   "outputs": [
    {
     "name": "stdout",
     "output_type": "stream",
     "text": [
      "\\ This file has been generated by DOcplex\n",
      "\\ ENCODING=ISO-8859-1\n",
      "\\Problem name: problema\n",
      "\n",
      "Minimize\n",
      " obj:\n",
      "Subject To\n",
      "\n",
      "Bounds\n",
      "End\n",
      "\n"
     ]
    }
   ],
   "source": [
    "# Definimos un modelo llamado \"problema\"\n",
    "\n",
    "modelo = QuadraticProgram('problema')\n",
    "\n",
    "# Podemos observar los componentes de nuestro modelo\n",
    "print(modelo.export_as_lp_string())"
   ]
  },
  {
   "cell_type": "markdown",
   "id": "aboriginal-renewal",
   "metadata": {},
   "source": [
    "`QuadraticProgram` acepta 3 tipos de variables: Variables binarias, enteros o variables contínuas. Es importante que al declarar alguna variable se especifique el nombre, tipo, el límite inferior y el límite superior. Una forma muy cómoda de visualizar el modelo es en formato LP (Para más información del formato LP puedes revisar este <a href=\"https://www.ibm.com/docs/en/icos/12.7.1.0?topic=cplex-lp-file-format-algebraic-representation\">enlace</a>). En este formato `Binaries` representan variables binarias y `Generals` representan enteros. Si hay variables que no se encuentran en ninguno de estos 2, son variables continuas, a menos que se especifique sus límites serán de 0 a infinito. Es importante notar que por especificaciones del formato LP, ningún nombre puede tener 'e' o 'E' como primer caracter."
   ]
  },
  {
   "cell_type": "code",
   "execution_count": 4,
   "id": "roman-advantage",
   "metadata": {},
   "outputs": [
    {
     "name": "stdout",
     "output_type": "stream",
     "text": [
      "\\ This file has been generated by DOcplex\n",
      "\\ ENCODING=ISO-8859-1\n",
      "\\Problem name: problema\n",
      "\n",
      "Minimize\n",
      " obj:\n",
      "Subject To\n",
      "\n",
      "Bounds\n",
      " 0 <= x <= 1\n",
      " -1 <= y <= 5\n",
      " -1 <= z <= 5\n",
      "\n",
      "Binaries\n",
      " x\n",
      "\n",
      "Generals\n",
      " y\n",
      "End\n",
      "\n"
     ]
    }
   ],
   "source": [
    "# Añadimos variables a nuestro modelo\n",
    "modelo.binary_var(name='x')\n",
    "modelo.integer_var(name='y', lowerbound=-1, upperbound=5)\n",
    "modelo.continuous_var(name='z', lowerbound=-1, upperbound=5)\n",
    "\n",
    "# Observamos los componentes de nuestro modelo\n",
    "print(modelo.export_as_lp_string())"
   ]
  },
  {
   "cell_type": "markdown",
   "id": "continued-inventory",
   "metadata": {},
   "source": [
    "Podemos definir la función objetivo utilizando `QuadraticProgram.minimize` o `QuadraticProgram.maximize`. Esto nos permite agregar constantes, términos lineales o cuadráticos por medio de listas, matrices o diccionarios. En el siguiente ejemplo mostramos cómo definir la función objetivo por medio de diccionarios. Para el término líneal, la clave del diccionario corresponde al nombre de la variable y su valor son los coeficientes. Para el término cuadrático, las claves corresponden a las 2 variables multiplicadas y su valor vuelven a ser los coeficientes.\n",
    "\n",
    "Es importante notar que de acuerdo al formato LP, la parte cuadrática va a estar multiplicada por un factor de $\\frac{1}{2}$. Por lo tanto, al imprimirla en este formato primero se va a multiplicar por 2 y después dividirla entre 2."
   ]
  },
  {
   "cell_type": "code",
   "execution_count": 5,
   "id": "meaning-contractor",
   "metadata": {},
   "outputs": [
    {
     "name": "stdout",
     "output_type": "stream",
     "text": [
      "\\ This file has been generated by DOcplex\n",
      "\\ ENCODING=ISO-8859-1\n",
      "\\Problem name: problema\n",
      "\n",
      "Minimize\n",
      " obj: x + [ 4 x*y - 2 z^2 ]/2 + 3\n",
      "Subject To\n",
      "\n",
      "Bounds\n",
      " 0 <= x <= 1\n",
      " -1 <= y <= 5\n",
      " -1 <= z <= 5\n",
      "\n",
      "Binaries\n",
      " x\n",
      "\n",
      "Generals\n",
      " y\n",
      "End\n",
      "\n"
     ]
    }
   ],
   "source": [
    "# Agregamos la función objetivo utilizando diccionarios\n",
    "modelo.minimize(constant=3, linear={'x': 1}, quadratic={('x', 'y'): 2, ('z', 'z'): -1})\n",
    "\n",
    "# Visualizamos el modelo\n",
    "print(modelo.export_as_lp_string())"
   ]
  },
  {
   "cell_type": "markdown",
   "id": "geographic-freedom",
   "metadata": {},
   "source": [
    "En el siguiente ejemplo mostramos cómo definir una función objetivo utilizando arreglos. Para el término lineal el arreglo corresponde al vector $c$ en la expresión matemmática. Para el término cuadrático, el arreglo corresponde a la matriz $Q$. Es importante notar que el orden de las variables va conforme fueron declaradas en pasos anteriores."
   ]
  },
  {
   "cell_type": "code",
   "execution_count": 6,
   "id": "purple-capability",
   "metadata": {},
   "outputs": [
    {
     "name": "stdout",
     "output_type": "stream",
     "text": [
      "\\ This file has been generated by DOcplex\n",
      "\\ ENCODING=ISO-8859-1\n",
      "\\Problem name: problema\n",
      "\n",
      "Minimize\n",
      " obj: x + [ 4 x*y - 2 z^2 ]/2 + 3\n",
      "Subject To\n",
      "\n",
      "Bounds\n",
      " 0 <= x <= 1\n",
      " -1 <= y <= 5\n",
      " -1 <= z <= 5\n",
      "\n",
      "Binaries\n",
      " x\n",
      "\n",
      "Generals\n",
      " y\n",
      "End\n",
      "\n"
     ]
    }
   ],
   "source": [
    "# Agregamos una función objetivo utilizando arreglos\n",
    "modelo.minimize(constant=3, linear=[1,0,0], quadratic=[[0,1,0],[1,0,0],[0,0,-1]])\n",
    "\n",
    "# Visualizamos el modelo\n",
    "print(modelo.export_as_lp_string())"
   ]
  },
  {
   "cell_type": "markdown",
   "id": "modular-church",
   "metadata": {},
   "source": [
    "Se pueden obtener los valores de la constante, término lineal y cuadrático utilizando `Quadratic.objective.{constant, lineal, quadratic}` respectivamente. En el caso del término lineal y cuadrático, se obtiene una matriz de densidad (`to_array`), una matriz de esparcimiento (`coefficients`) y un diccionario (`to_dict`). Para los diccionarios, se puede especificar si se ocupan indices o nombres como clave. Es importante notar que los términos cuadráticos se guardan en una notación comprimida, es decir `{('x', 'y'): 1, ('y','x'): 2}` se guarda como `{('x', 'y'): 3}`. Se puede obtener el término cuadrático como una matriz simétrica utilizando `to_array(symmetric=True)` o `to_dict(symmetric=True)`."
   ]
  },
  {
   "cell_type": "code",
   "execution_count": 7,
   "id": "satisfactory-engine",
   "metadata": {},
   "outputs": [
    {
     "name": "stdout",
     "output_type": "stream",
     "text": [
      "constante:\t\t\t 3\n",
      "linear diccionario:\t\t\t {0: 1}\n",
      "linear arreglo:\t\t\t [1 0 0]\n",
      "Término lineal como matriz de esparcimiento:\n",
      "   (0, 0)\t1 \n",
      "\n",
      "Término cuadrático con índices:\t {(0, 1): 2, (2, 2): -1}\n",
      "Término cuadrático con nombres:\t\t {('x', 'y'): 2, ('z', 'z'): -1}\n",
      "Término cuadrático simétrico con nombres:\t {('y', 'x'): 1, ('x', 'y'): 1, ('z', 'z'): -1}\n",
      "Término cuadrático como :\n",
      " [[ 0  2  0]\n",
      " [ 0  0  0]\n",
      " [ 0  0 -1]] \n",
      "\n",
      "Término cuadrático como matriz simétrica:\n",
      " [[ 0  1  0]\n",
      " [ 1  0  0]\n",
      " [ 0  0 -1]] \n",
      "\n",
      "Término cuadrático como matriz de esparcimiento:\n",
      "   (0, 1)\t2\n",
      "  (2, 2)\t-1\n"
     ]
    }
   ],
   "source": [
    "# Imprimimos la constante\n",
    "print('constante:\\t\\t\\t', modelo.objective.constant)\n",
    "# Imprimimos el término lineal como diccionario\n",
    "print('linear diccionario:\\t\\t\\t', modelo.objective.linear.to_dict())\n",
    "# Imprimimos el término lineal como arreglo\n",
    "print('linear arreglo:\\t\\t\\t', modelo.objective.linear.to_array())\n",
    "# Imprimimos el término lineal como matriz de esparcimiento\n",
    "print('Término lineal como matriz de esparcimiento:\\n', modelo.objective.linear.coefficients, '\\n')\n",
    "# Imprimimos el término cuadrático como diccionario con índices\n",
    "print('Término cuadrático con índices:\\t', modelo.objective.quadratic.to_dict())\n",
    "# Imprimimos el término cuadrático como diccionario con nombres de las variables\n",
    "print('Término cuadrático con nombres:\\t\\t', modelo.objective.quadratic.to_dict(use_name=True))\n",
    "# Imprimimos el término cuadrático simétrico con nombres\n",
    "print('Término cuadrático simétrico con nombres:\\t', modelo.objective.quadratic.to_dict(use_name=True, symmetric=True))\n",
    "# Imprimimos el término cuadrático como matriz\n",
    "print('Término cuadrático como :\\n', modelo.objective.quadratic.to_array(),'\\n')\n",
    "# Imprimimos el término cuadrático como matriz simétrica\n",
    "print('Término cuadrático como matriz simétrica:\\n', modelo.objective.quadratic.to_array(symmetric=True),'\\n')\n",
    "# Imprimimos el término cuadrático como matriz de esparcimiento\n",
    "print('Término cuadrático como matriz de esparcimiento:\\n', modelo.objective.quadratic.coefficients)\n"
   ]
  },
  {
   "cell_type": "markdown",
   "id": "printable-immune",
   "metadata": {},
   "source": [
    "Se pueden agredar constricciones lineales utilizando el método `lineal_constraint()` cuyo argumento toma el nombre, expresión matemática, sentido y su *valor del lado derecho* (RHS). Por ejemplo:"
   ]
  },
  {
   "cell_type": "code",
   "execution_count": 8,
   "id": "attempted-entry",
   "metadata": {},
   "outputs": [
    {
     "name": "stdout",
     "output_type": "stream",
     "text": [
      "\\ This file has been generated by DOcplex\n",
      "\\ ENCODING=ISO-8859-1\n",
      "\\Problem name: problema\n",
      "\n",
      "Minimize\n",
      " obj: x + [ 4 x*y - 2 z^2 ]/2 + 3\n",
      "Subject To\n",
      " lin: x + 2 y = 3\n",
      " lin_leq: x + 2 y <= 3\n",
      " lin_geq: x + 2 y >= 3\n",
      "\n",
      "Bounds\n",
      " 0 <= x <= 1\n",
      " -1 <= y <= 5\n",
      " -1 <= z <= 5\n",
      "\n",
      "Binaries\n",
      " x\n",
      "\n",
      "Generals\n",
      " y\n",
      "End\n",
      "\n"
     ]
    }
   ],
   "source": [
    "# Añadimos constantes lineales\n",
    "modelo.linear_constraint(linear={'x': 1, 'y': 2}, sense='==', rhs=3, name='lin')\n",
    "modelo.linear_constraint(linear={'x': 1, 'y': 2}, sense='<=', rhs=3, name='lin_leq')\n",
    "modelo.linear_constraint(linear={'x': 1, 'y': 2}, sense='>=', rhs=3, name='lin_geq')\n",
    "\n",
    "#Visualizamos el modelo\n",
    "print(modelo.export_as_lp_string())"
   ]
  },
  {
   "cell_type": "markdown",
   "id": "funny-future",
   "metadata": {},
   "source": [
    "De manera análoga para añadir constricciones cuadráticas se utiliza el método `quadratic_constraint`. Por ejemplo"
   ]
  },
  {
   "cell_type": "code",
   "execution_count": 9,
   "id": "understood-turkey",
   "metadata": {},
   "outputs": [
    {
     "name": "stdout",
     "output_type": "stream",
     "text": [
      "\\ This file has been generated by DOcplex\n",
      "\\ ENCODING=ISO-8859-1\n",
      "\\Problem name: problema\n",
      "\n",
      "Minimize\n",
      " obj: x + [ 4 x*y - 2 z^2 ]/2 + 3\n",
      "Subject To\n",
      " lin: x + 2 y = 3\n",
      " lin_leq: x + 2 y <= 3\n",
      " lin_geq: x + 2 y >= 3\n",
      " quad_eq: [ x^2 - y*z ] + x + y = 1\n",
      " quad_leq: [ x^2 - y*z ] + x + y <= 1\n",
      " quad_geq: [ x^2 - y*z ] + x + y >= 1\n",
      "\n",
      "Bounds\n",
      " 0 <= x <= 1\n",
      " -1 <= y <= 5\n",
      " -1 <= z <= 5\n",
      "\n",
      "Binaries\n",
      " x\n",
      "\n",
      "Generals\n",
      " y\n",
      "End\n",
      "\n"
     ]
    }
   ],
   "source": [
    "# Añadimos las constricciones cuadráticas\n",
    "modelo.quadratic_constraint(linear={'x': 1, 'y': 1}, quadratic={('x', 'x'): 1, ('y', 'z'): -1}, sense='==', rhs=1, name='quad_eq')\n",
    "modelo.quadratic_constraint(linear={'x': 1, 'y': 1}, quadratic={('x', 'x'): 1, ('y', 'z'): -1}, sense='<=', rhs=1, name='quad_leq')\n",
    "modelo.quadratic_constraint(linear={'x': 1, 'y': 1}, quadratic={('x', 'x'): 1, ('y', 'z'): -1}, sense='>=', rhs=1, name='quad_geq')\n",
    "\n",
    "#Visualizamos el modelo\n",
    "print(modelo.export_as_lp_string())"
   ]
  },
  {
   "cell_type": "markdown",
   "id": "pressing-principle",
   "metadata": {},
   "source": [
    "Para remover constricciones se ocupa el método `remove_linear_constraint()` o `remove_quadratic_constraint()` respectivamente. El argumento de cada método será el nombre de la constricción que se busca eliminar"
   ]
  },
  {
   "cell_type": "code",
   "execution_count": 10,
   "id": "touched-sodium",
   "metadata": {},
   "outputs": [
    {
     "name": "stdout",
     "output_type": "stream",
     "text": [
      "\\ This file has been generated by DOcplex\n",
      "\\ ENCODING=ISO-8859-1\n",
      "\\Problem name: problema\n",
      "\n",
      "Minimize\n",
      " obj: x + [ 4 x*y - 2 z^2 ]/2 + 3\n",
      "Subject To\n",
      " lin_leq: x + 2 y <= 3\n",
      " lin_geq: x + 2 y >= 3\n",
      " quad_eq: [ x^2 - y*z ] + x + y = 1\n",
      " quad_geq: [ x^2 - y*z ] + x + y >= 1\n",
      "\n",
      "Bounds\n",
      " 0 <= x <= 1\n",
      " -1 <= y <= 5\n",
      " -1 <= z <= 5\n",
      "\n",
      "Binaries\n",
      " x\n",
      "\n",
      "Generals\n",
      " y\n",
      "End\n",
      "\n"
     ]
    }
   ],
   "source": [
    "# Remove constraints\n",
    "modelo.remove_linear_constraint('lin')\n",
    "modelo.remove_quadratic_constraint('quad_leq')\n",
    "\n",
    "# Visualizamos el modelo\n",
    "print(modelo.export_as_lp_string())"
   ]
  },
  {
   "cell_type": "markdown",
   "id": "headed-philippines",
   "metadata": {},
   "source": [
    "Finalmente, `QuadraticProgram` nos permite sustituir variables con constantes u otras variables. Para esto se utiliza el método `substitute_variables(constants=..., variables=...)`. Por ejemplo"
   ]
  },
  {
   "cell_type": "code",
   "execution_count": 11,
   "id": "eleven-algebra",
   "metadata": {},
   "outputs": [
    {
     "name": "stdout",
     "output_type": "stream",
     "text": [
      "\\ This file has been generated by DOcplex\n",
      "\\ ENCODING=ISO-8859-1\n",
      "\\Problem name: problema\n",
      "\n",
      "Minimize\n",
      " obj: [ - 2 z^2 ]/2 + 3\n",
      "Subject To\n",
      " lin_leq: - 2 z <= 3\n",
      " lin_geq: - 2 z >= 3\n",
      " quad_eq: [ z^2 ] - z = 1\n",
      " quad_geq: [ z^2 ] - z >= 1\n",
      "\n",
      "Bounds\n",
      " -1 <= z <= 1\n",
      "End\n",
      "\n"
     ]
    }
   ],
   "source": [
    "# Sustitiuimos la variable x por la constante 0 y la variable y por -z \n",
    "substitucion = modelo.substitute_variables(constants={'x': 0}, variables={'y': ('z', -1)})\n",
    "\n",
    "# Visualizamos el nuevo modelo\n",
    "print(substitucion.export_as_lp_string())"
   ]
  },
  {
   "cell_type": "markdown",
   "id": "electrical-amino",
   "metadata": {},
   "source": [
    "<a id=\"secc2\"></a>\n",
    "# Optimizador del algoritmo de Grover"
   ]
  },
  {
   "cell_type": "markdown",
   "id": "conceptual-level",
   "metadata": {},
   "source": [
    "La Búsqueda Adaptada de Grover (Grover Adaptive Search, GAS) ha sido explorada como una posible solución de problemas de optimización combinatoria junto con algorimos variacionales como el Solucionador Propio Cuántico Cariacional (Variational Quantum Eigensolver, <a href=\"https://www.mustythoughts.com/variational-quantum-eigensolver-explained\">VQE</a>) y el Algoritmo de Optimización Aproximada Cuántica (Quantum Approximate Optimization Algorithm, <a href=\"https://www.mustythoughts.com/quantum-approximate-optimization-algorithm-explained\">QAOA</a>). Este algoritmo aplica iterativamente la búsqueda de Grover para encontrar el valor óptimo de una función objetivo, utilizando el valor mejor conocido de la iteración anterior como límite. El oráculo adaptativo utilizado en GAS reconoce todos los valores por encima o debajo del límite actual, disminuyendo el tamaño de la búsqueda en cada iteración hasta encontrar un valor óptimo.\n",
    "\n",
    "Para implementar este algoritmo vamos a utilizar el componente `GroverOptimizer` de Qiskit Optimization para minimizar un problema cuadrático binario sin constricciones (Quantum Unbounded Binary Operation QUBO)."
   ]
  },
  {
   "cell_type": "markdown",
   "id": "soviet-albany",
   "metadata": {},
   "source": [
    "<a id=\"secc2.1\"></a>\n",
    "## Búsqueda Adaptada de Grover (GAS)"
   ]
  },
  {
   "cell_type": "markdown",
   "id": "caring-organic",
   "metadata": {},
   "source": [
    "Sabemos que la búsqueda de Grover se compone de 3 ingredientes:\n",
    "\n",
    "1. Operador para preparación de estado $A$ que busca construir una superposición de todos los estados en el espacio de búsqueda\n",
    "2. El oráculo $O$, que reconoce los estados de interés y multiplica sus amplitudes por -1.\n",
    "3. El operador de difusión de Grover $D$, que multiplica la amplitud del estado $|0>_n$ por -1.\n",
    "\n",
    "`GroverOptimizer` utiliza `QuadraticProgramToNegativeValueOracle` para contruir $A_y$ de forma que prepara un registro de n qubits representando una superposición equitativa de todos los $|x>_n$ y un registro de $m$ qubits para representar una aproximación del correspondiente $|Q(x) - y>_m$ donde $Q(x)$ es la función que se busca minimizar y $y$ es el valor límite de la iteración anterior. Esto significa que todos los estados con $Q(x) - y$ negativa van a ser marcados por el oráculo. Formalmente `QuadraticProgramToNegativeValueOracle` produce:\n",
    "\n",
    "$$ \\begin{align*} A_y |0>_n |0>_m & = \\frac{1}{\\sqrt{2^n}} \\sum_{x = 0}^{2^n-1} |x>_n |Q(x)-y>_m  \\\\ O |x>_n |z>_m & = sign(z) |x>_n |z>_m \\end{align*}$$\n",
    "\n",
    "En cada iteración se actualiza el límite $y$, por lo que $A_y$ cambia de forma que los valores de la función disminuyen o aumentan (dependiendo si se maximiza o minimiza) por y. Si quieres conocer con mayor detalle el funcionamiento de este algoritmo puedes revisar el siguiente <a href=\"https://arxiv.org/abs/1912.04088\">artículo</a>."
   ]
  },
  {
   "cell_type": "markdown",
   "id": "dedicated-bridges",
   "metadata": {},
   "source": [
    "<a id=\"secc2.2\"></a>\n",
    "## Minimizar un problema QUBO"
   ]
  },
  {
   "cell_type": "markdown",
   "id": "spoken-harrison",
   "metadata": {},
   "source": [
    "Para este ejemplo podemos resolver el siguiente problema de minimización:\n",
    "\n",
    "$$ min_{x \\in \\{ 0, 1\\}^3} -2xz-yz-x+2y-3z $$\n",
    "\n",
    "Podemos empezar definiendo el modelo de nuestro problema cuadrático como aprendimos en la sección anterior"
   ]
  },
  {
   "cell_type": "code",
   "execution_count": 12,
   "id": "sufficient-conversion",
   "metadata": {},
   "outputs": [
    {
     "name": "stdout",
     "output_type": "stream",
     "text": [
      "\\ This file has been generated by DOcplex\n",
      "\\ ENCODING=ISO-8859-1\n",
      "\\Problem name: QUBO\n",
      "\n",
      "Minimize\n",
      " obj: - x + 2 y - 3 z + [ - 4 x*z - 2 y*z ]/2\n",
      "Subject To\n",
      "\n",
      "Bounds\n",
      " 0 <= x <= 1\n",
      " 0 <= y <= 1\n",
      " 0 <= z <= 1\n",
      "\n",
      "Binaries\n",
      " x y z\n",
      "End\n",
      "\n"
     ]
    }
   ],
   "source": [
    "# Definimos nuestro modelo\n",
    "ejemplo = QuadraticProgram('QUBO')\n",
    "\n",
    "# Añadimos nuestras variables binarias\n",
    "ejemplo.binary_var(name='x')\n",
    "ejemplo.binary_var(name='y')\n",
    "ejemplo.binary_var(name='z')\n",
    "\n",
    "#Añadimos la función objetivo\n",
    "ejemplo.minimize(constant=0, linear={'x': -1, 'y':2, 'z':-3}, quadratic={('x', 'z'): -2, ('y', 'z'): -1})\n",
    "\n",
    "# Visualizamos el modelo\n",
    "print(ejemplo.export_as_lp_string())"
   ]
  },
  {
   "cell_type": "markdown",
   "id": "ready-sunrise",
   "metadata": {},
   "source": [
    "El siguiente paso es creal el `GroverOptimizer` que utiliza 6 qubits para codificar el valor y terminará después de 10 iteraciones del GAS sin progreso, es decir, sin modificar el valor de $y$. Para aplicar el optimizador a nuestro problema utilizamos el método `solve()` y regresa los resultados al ejecutar el algoritmo."
   ]
  },
  {
   "cell_type": "code",
   "execution_count": 13,
   "id": "native-sterling",
   "metadata": {},
   "outputs": [
    {
     "name": "stdout",
     "output_type": "stream",
     "text": [
      "f(x) = [1. 0. 1.]\n",
      "fval = -6.0\n"
     ]
    }
   ],
   "source": [
    "#Definimos el Backend sobre el cual vamos a ejecutar el programa\n",
    "backend = BasicAer.get_backend('statevector_simulator')\n",
    "\n",
    "# Definimos el optimizador de Grover\n",
    "grover_opti = GroverOptimizer(6, num_iterations=10, quantum_instance=backend)\n",
    "\n",
    "# Obtenemos los resultados de la ejecución en nuestro problema\n",
    "resultados = grover_opti.solve(ejemplo)\n",
    "\n",
    "# Imprimimos la solución de [x, y, z]\n",
    "print(\"f(x) = {}\".format(resultados.x))\n",
    "\n",
    "# Imprimimos el valor objetivo óptimo\n",
    "print(\"fval = {}\".format(resultados.fval))"
   ]
  },
  {
   "cell_type": "markdown",
   "id": "found-queensland",
   "metadata": {},
   "source": [
    "Por lo tanto los resultados de la optimización son $x=1$, $y=0$, $z=1$ y un valor objetivo óptimo de -6.\n",
    "\n",
    "Podemos verificar este resultado utilizando `MinimumEigenOptimizer` en Qiskit ya que es un método exacto para obtener una minimización de un QUBO. Para más información de este método puedes consultar el siguiente <a href=\"https://qiskit.org/documentation/tutorials/optimization/3_minimum_eigen_optimizer.html\">enlace</a>."
   ]
  },
  {
   "cell_type": "code",
   "execution_count": 14,
   "id": "inclusive-husband",
   "metadata": {},
   "outputs": [
    {
     "name": "stdout",
     "output_type": "stream",
     "text": [
      "x=[1. 0. 1.]\n",
      "fval=-6.0\n"
     ]
    }
   ],
   "source": [
    "# Definimos el optimizador exacto\n",
    "solución = MinimumEigenOptimizer(NumPyMinimumEigensolver())\n",
    "\n",
    "# Obtenemos los resultados\n",
    "resultado_e = solución.solve(ejemplo)\n",
    "\n",
    "# Imprimimos la solución de [x, y, z]\n",
    "print(\"x={}\".format(resultado_e.x))\n",
    "\n",
    "# Imprimimos la el valor objetivo óptimo\n",
    "print(\"fval={}\".format(resultado_e.fval))"
   ]
  },
  {
   "cell_type": "markdown",
   "id": "combined-quantity",
   "metadata": {},
   "source": [
    "Por lo que `GroverOptimizer` nos entrega el mismo resultado que solucionando con `MinimumEigenOptimizer`"
   ]
  },
  {
   "cell_type": "markdown",
   "id": "hairy-suspension",
   "metadata": {},
   "source": [
    "<a id=\"secc3\"></a>\n",
    "# Referencias"
   ]
  },
  {
   "cell_type": "markdown",
   "id": "blank-danish",
   "metadata": {},
   "source": [
    "[1] Qiskit Development Team. Qiskit Documentation: Qiskit's optimization module. Consultado en https://qiskit.org/documentation/apidoc/qiskit_optimization.html\n",
    "\n",
    "[2] Qiskit Development Team. Qiskit Tutorials: Quadratic Programs. Consultado en https://qiskit.org/documentation/tutorials/optimization/1_quadratic_program.html\n",
    "\n",
    "[3] Qiskit Development Team. Qiskit Tutorials: Grover Optimizer. Consultado en https://qiskit.org/documentation/tutorials/optimization/4_grover_optimizer.html"
   ]
  },
  {
   "cell_type": "markdown",
   "id": "peaceful-packet",
   "metadata": {},
   "source": [
    "<table width=\"100%\">\n",
    "    <tr style=\"background-color:white;\">\n",
    "        <td>\n",
    "            <div style=\"text-align: right;\">\n",
    "            <a href=\"02_qiskit_finance.ipynb\" style=\"color: #EE2A6F; font-size: 15px; font-weight: normal;\">\n",
    "                Notebook siguiente: Qiskit Finance >>\n",
    "            </a>\n",
    "            </div>\n",
    "        </td>\n",
    "    </tr>\n",
    "</table>"
   ]
  }
 ],
 "metadata": {
  "kernelspec": {
   "display_name": "Python 3",
   "language": "python",
   "name": "python3"
  },
  "language_info": {
   "codemirror_mode": {
    "name": "ipython",
    "version": 3
   },
   "file_extension": ".py",
   "mimetype": "text/x-python",
   "name": "python",
   "nbconvert_exporter": "python",
   "pygments_lexer": "ipython3",
   "version": "3.8.10"
  }
 },
 "nbformat": 4,
 "nbformat_minor": 5
}
