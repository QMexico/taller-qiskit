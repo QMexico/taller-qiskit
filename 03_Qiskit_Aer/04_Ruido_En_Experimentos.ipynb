{
 "cells": [
  {
   "cell_type": "markdown",
   "id": "5ec0ced9",
   "metadata": {},
   "source": [
    "<table>\n",
    "    <tr style=\"background-color:white;\">\n",
    "        <td width=\"60%\">\n",
    "            <div style=\"height: 25px;\"></div>\n",
    "            <div align=\"left\" style=\"color: #4b324e; font-size: 40px; font-weight: bold;\">Taller de Qiskit</div>\n",
    "        </td>\n",
    "        <td>\n",
    "            <img align=\"right\" src=\"data:image/png;base64,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\"/>\n",
    "        </td>\n",
    "    </tr>\n",
    "</table>\n",
    "\n",
    "$ \\newcommand{\\bra}[1]{\\langle #1|} $\n",
    "$ \\newcommand{\\ket}[1]{|#1\\rangle} $\n",
    "$ \\newcommand{\\braket}[2]{\\langle #1|#2\\rangle} $"
   ]
  },
  {
   "cell_type": "markdown",
   "id": "20977d88",
   "metadata": {},
   "source": [
    "<div align=\"center\" style=\"color: #EE2A6F; font-size: 30px; font-weight: bold;\">Ruido en los Experimentos</div>"
   ]
  },
  {
   "cell_type": "markdown",
   "id": "6c07d54e",
   "metadata": {},
   "source": [
    "<div align=\"right\" style=\"font-size: 15px; font-weight: normal;\">Preparado por Claudia Zendejas-Morales</div>"
   ]
  },
  {
   "cell_type": "markdown",
   "id": "3ce55472",
   "metadata": {},
   "source": [
    "<a href=\"https://opensource.org/licenses/Apache-2.0\"><img align=\"right\" src=\"data:image/png;base64,iVBORw0KGgoAAAANSUhEUgAAAHgAAAAUCAMAAABxjAnBAAACXlBMVEVVVVVWVlZXV1dYWFhZWVlaWlpgYGBhYWFiYmJkZGRlZWVmZmZnZ2doaGhqampubm5vb29wcHBycnJ1dXV3d3d4eHh6enp9fX1+fn6AgICBgYGCgoKIiIiJiYmKioqOjo6QkJCRkZGSkpKTk5OVlZWXygCXygGYygKYywOZywSZywWZywaaywebzAqczAyczQ2dzQ6ezhKfzhOgzxahzxii0Bui0Byj0B6k0B+k0SCl0SKl0SOm0SSn0ien0iio0ymo0yqpqamp0yup0yyr1DCr1DGt1TWt1Tat1Teu1jiv1jqw1z2w1z6x1z+x10Cy2EGy2EKy2EO12Um22ky32k632k+4uLi421G521O6urq63FW63Fa63Fe73Fi83Vq83Vu93Vy93l6+3l++3mDB32bB4GjG4nPG4nTH43bIyMjKysrK5H7L5YDM5YLN5YTN5oXQ54zT6ZPU1NTU6ZXV1dXV6ZfW1tbX19fX6pzX653Y2NjY66Da2tra7KTa7KXb7afc7ajd3d3d7qze3t7e7q3e7q7e7q/f39/f77Dg4ODg77Th4eHi4uLj4+Pk5OTk8bzk8b7l5eXl8r/l8sDm5ubn5+fn88Pn88To6Ojo88bo88fp6enp9Mjp9Mnp9Mrq9Mvq9Mzr9c3r9c/s9dHt9tLt9tPt9tTu7u7u9tXv99fv99jw8PDw99nw99rw+Nvx8fHx+Nzx+N3y8vLy+N7y+N/y+eDz+eH09PT0+eP0+eT0+uX1+ub2+uj2+un2++r3++v3++z4++34++74/O/5/PD6/PL7/fT7/fb8/vj///9NRvkXAAAAAWJLR0TJar1nXAAAAitJREFUSMdjYCANqFILMIxaPGoxrS0+ycx2koNoi61P1uEw7ySGSO2OPdOdIUy7mTtm2mJYzMBMvI9z6o7qE2txsp5q+hwIc2W0asx8TIuBSLpxdo+UZHlzjRhQJLKsT4GBOXLK7CIWBqgYzOINbhOSgJZUTFgRrao6adu6CaaqqoELNi8LUD2ZvWVvrKqq/7SFczzgdrtvA1NWR9RU1Q+bYbGYZ7UQA59MIzuDcC9QRJRBcDmDXBUDgzgzF1QMarHXBtWUfqDFDqrm+w1ULVVV8wpUTfc4q1q4qZ6M0/bdrWqywFDVZQXc4spCMOWzFkis9cBisVImkKW4vKSkZAYjw0kGBsaTTAKbIlU44WJQi0vzVY1OmIGDdZGnalTr3HX1qvEtsKDWOKkRt3vy5MkbnY4dO2YPFEtbqAexeCXIYm9cFitlQUUgopzKkZu4YWIQi7UP7tq69XgG2OJVLkFrnFVjG1Tjm+BxfFIzoQMpkrNnGkIYNgfUVNUOW2OxmG+9AAOnzHZJBlZ5mMUi/AxMU0R4oWIQi8NBaSV8qepJA9XgjVqJbaqquQ2qFvtsVY1doBabHfJT1YkGW6BV3aQLokNDgb4NV41YgzVxyXZO7JaSqpk6IwxmsUT7lG5HBgaoGMTi1lSQgftdT07bOs9VVbdrzuSuBlXVkMWrlgRALVYNmLNuQzHEmyd37dy500+1tlZV1WnW5llOVChATg5UyXVytKwetRgfAAAQgF5r4k2ujwAAAABJRU5ErkJggg==\"></a>"
   ]
  },
  {
   "cell_type": "markdown",
   "id": "16c3f634",
   "metadata": {},
   "source": [
    "# Contenido\n",
    "\n",
    "1. [Introducción](#intro)\n",
    "   1. [Canal cuántico](#intro.1)\n",
    "2. [Construir modelos de ruido](#secc1)\n",
    "   1. [Errores cuánticos con Qiskit](#secc1.1)\n",
    "      1. [Combinación de errores cuánticos](#secc1.1.1)\n",
    "      2. [Ejemplo](#secc1.1.2)\n",
    "      3. [Conversión a operadores QuantumChannel](#secc1.1.3)\n",
    "      4. [Error de lectura](#secc1.1.4)\n",
    "   2. [Agregar errores a un Modelo de Ruido](#secc1.2)\n",
    "      1. [Error cuántico en todos los qubits](#secc1.2.1)\n",
    "      2. [Error cuántico específico de un qubit](#secc1.2.2)\n",
    "      3. [Error cuántico no local](#secc1.2.3)\n",
    "   3. [Ejecutar un simulador ruidoso con un modelo de ruido](#secc1.3)\n",
    "3. [Modelos de ruido en simuladores](#secc2)\n",
    "   1. [Simulación ideal](#secc2.1)\n",
    "   2. [Modelo básico de ruido de error de inversión de bits](#secc2.2)\n",
    "   3. [Modelo de relajación térmica $T_1\\;/\\;T_2$](#secc2.3)\n",
    "4. [Modelos de ruido obtenidos de los dispositivos reales](#secc3)\n",
    "   1. [Backend de imitación de Terra](#secc3.1)\n",
    "5. [Referencias](#secc4)"
   ]
  },
  {
   "cell_type": "markdown",
   "id": "5272ba5a",
   "metadata": {},
   "source": [
    "<a id=\"intro\"></a>\n",
    "# Introducción"
   ]
  },
  {
   "cell_type": "markdown",
   "id": "1dd9cb82",
   "metadata": {},
   "source": [
    "¿Por qué hacer computadoras cuánticas es realmente difícil? Por el **ruido**. Cuando escuchamos esa palabra probablemente pensamos en sonidos fuertes como el ruido del tráfico que dificulta la concentración. Nos referimos a algo un poco diferente aquí; el ruido cuántico describe todas las cosas que causan interferencia en una computadora cuántica.\n",
    "\n",
    "Al igual que una llamada de teléfono móvil puede sufrir interferencias que provocan que la llamada se interrumpa, una computadora cuántica es susceptible a interferencias de muchos tipos de fuentes, como señales electromagnéticas provenientes del Wi-Fi o perturbaciones en el campo magnético de la Tierra. Cuando los qubits en una computadora cuántica están expuestos a este tipo de ruido, la información que contienen se degrada de la misma manera que la calidad del sonido se degrada por la interferencia en una llamada. Esto se conoce como **[decoherencia](https://es.wikipedia.org/wiki/Decoherencia_cu%C3%A1ntica#:~:text=La%20decoherencia%20cu%C3%A1ntica%20es%20el,f%C3%ADsico%20cl%C3%A1sico%20(no%20entrelazado))**.\n",
    "\n",
    "Cuando un qubit está inactivo, es decir, no se está usando en algún cálculo, su estado puede verse afectado por interferencias. Pero cuando estamos realizando una operación de lógica cuántica, como una pequeña rotación, también podemos sufrir errores que hacen que el qubit rote en una cantidad o dirección incorrecta. En cualquier caso, el estado cuántico no termina donde se espera, y con el tiempo se puede aleatorizar o incluso borrar por completo, lo que claramente no es algo bueno cuando ese estado cuántico en realidad representaba información.\n",
    "\n",
    "En comparación con las computadoras estándar, las computadoras cuánticas son extremadamente sensibles a este tipo de ruido. Un transistor típico en un microprocesador puede funcionar durante aproximadamente mil millones de años a mil millones de operaciones por segundo, sin sufrir nunca una falla de hardware. Por el contrario, los bits cuánticos típicos se aleatorizan en aproximadamente una milésima de segundo. Esa es una gran diferencia.\n",
    "\n",
    "Los algoritmos cuánticos necesitan ejecutar muchas operaciones en una gran cantidad de qubits. La decoherencia hace que la información en nuestros qubits se vuelva aleatoria, y esto conduce a errores en los resultados de los algoritmos. Cuanto mayor sea la influencia del ruido, más corto será el algoritmo que se puede ejecutar. \n",
    "\n",
    "Las computadoras cuánticas de hoy son intrínsecamente ruidosas. Cada operación en un circuito cuántico tiene el potencial de introducir errores, lo que hace que los resultados del cálculo difieran de lo esperado. Para desarrollar mejores algoritmos que sean más robustos contra los efectos de los errores, es necesario tener la capacidad de simular circuitos cuánticos ruidosos de una manera conveniente y rentable y esto se logra al agregar modelos de ruido a nuestra simulación.\n",
    "Los modelos de ruido se utilizan para representar varios efectos de ruido que provocan errores en los circuitos cuánticos y así poder considerar sus efectos. \n"
   ]
  },
  {
   "cell_type": "markdown",
   "id": "1257d12f",
   "metadata": {},
   "source": [
    "<a id=\"intro.1\"></a>\n",
    "## Canal cuántico"
   ]
  },
  {
   "cell_type": "markdown",
   "id": "2b8bfc4c",
   "metadata": {},
   "source": [
    "En la [teoría de la información cuántica](https://arxiv.org/pdf/quant-ph/0412063.pdf), un canal cuántico es un canal de comunicación que puede transmitir información cuántica, así como información clásica. Un ejemplo de información cuántica es el estado de un qubit. Un ejemplo de información clásica es un documento de texto transmitido a través de Internet.\n",
    "\n",
    "Más formalmente, los canales cuánticos son mapas de conservación de trazas [completamente positivas](https://en.wikipedia.org/wiki/Completely_positive_map) (CP) entre espacios de operadores. En otras palabras, un **canal cuántico es solo una operación cuántica** vista no solo como la dinámica reducida de un sistema, sino como una tubería destinada a transportar información cuántica. (Algunos autores usan el término \"operación cuántica\" para incluir también mapas de disminución de trazas mientras reservan el \"canal cuántico\" para mapas que preservan estrictamente las trazas).\n",
    "\n",
    "<br>\n",
    "\n",
    "<br>\n",
    "\n",
    "Ates de comenzar, efectuamos las importaciones necesarias:"
   ]
  },
  {
   "cell_type": "code",
   "execution_count": 1,
   "id": "645178e0",
   "metadata": {},
   "outputs": [],
   "source": [
    "import numpy as np\n",
    "from qiskit import QuantumCircuit, transpile\n",
    "from qiskit.quantum_info import Kraus, SuperOp\n",
    "from qiskit.providers.aer import AerSimulator\n",
    "from qiskit.tools.visualization import plot_histogram\n",
    "\n",
    "# Importar el módulo de ruido desde Qiskit Aer\n",
    "from qiskit.providers.aer.noise import NoiseModel\n",
    "from qiskit.providers.aer.noise import QuantumError, ReadoutError\n",
    "from qiskit.providers.aer.noise import pauli_error\n",
    "from qiskit.providers.aer.noise import depolarizing_error\n",
    "from qiskit.providers.aer.noise import thermal_relaxation_error"
   ]
  },
  {
   "cell_type": "markdown",
   "id": "3d327e2d",
   "metadata": {},
   "source": [
    "<a id=\"secc1\"></a>\n",
    "# Construir modelos de ruido"
   ]
  },
  {
   "cell_type": "markdown",
   "id": "17a440bd",
   "metadata": {},
   "source": [
    "Para crear modelos personalizados de ruido para simuladores ruidoso usamos el módulo `noise` de Qiskit Aer, existen 3 clases clave para esto:\n",
    "\n",
    "- La clase `NoiseModel` que almacena el modelo de ruido para simuladores ruidosos\n",
    "- La clase `QuantumError` la cual describe los errores de compuerta [CPTP](https://arxiv.org/pdf/quant-ph/0101003.pdf) los cuales pueden ser aplicados tanto antes de una compuerta o una instrucción de reestablecimeinto (reset), como después de las instruciones de medición\n",
    "- La clase `ReadoutError` la cual describe errores de lectura clásicos"
   ]
  },
  {
   "cell_type": "markdown",
   "id": "cf9d8f0f",
   "metadata": {},
   "source": [
    "<a id=\"secc1.1\"></a>\n",
    "## Errores cuánticos con Qiskit"
   ]
  },
  {
   "cell_type": "markdown",
   "id": "186fdeaa",
   "metadata": {},
   "source": [
    "En lugar de tratar directamente con el objeto `QuantumError`, existen muchas funciones auxiliares para generar automáticamente un tipo específico de error cuántico parametrizado. Estos están contenidos en el módulo de ruido e incluyen funciones para muchos tipos de errores comunes utilizados en la investigación de la computación cuántica. Los nombres de algunas de las funciones y el tipo de error que devuelven son:\n",
    "\n",
    "- `pauli_error`: un canal de error de n-qubits de Pauli (matriz unitaria mixta) dado como una lista de Paulis y probabilidades\n",
    "- `depolarizing_error`: un canal de error de despolarización de n-qubits parametrizado por una probabilidad de despolarización $p$.\n",
    "- `thermal_relaxation_error`: un canal de relajación térmica de un solo qubit parametrizado por las constantes de tiempo de relajación $T_1$, $T_2$, el tiempo de compuerta $t$ y la población térmica del estado excitado $p_1$.\n",
    "\n",
    "Para conocer todas las funciones puedes explorar la [API de los Modelos de Ruido](https://qiskit.org/documentation/apidoc/aer_noise.html)."
   ]
  },
  {
   "cell_type": "markdown",
   "id": "a26b31d1",
   "metadata": {},
   "source": [
    "<a id=\"secc1.1.1\"></a>\n",
    "### Combinación de errores cuánticos"
   ]
  },
  {
   "cell_type": "markdown",
   "id": "fc27db3d",
   "metadata": {},
   "source": [
    "Las instancias de `QuantumError` se pueden combinar mediante el uso de composición, producto tensorial y expansión tensorial (producto tensorial de orden inverso) para producir nuevos `QuantumErrors` como:\n",
    "\n",
    "- Composición: $\\mathcal{E}(\\rho) = \\mathcal{E}_2\\left(\\mathcal{E}_1\\left(\\rho\\right)\\right)$ como `error = error1.compose(error2)`\n",
    "- Producto tensorial: $\\mathcal{E}(\\rho) = \\left(\\mathcal{E}_1\\otimes\\mathcal{E}_2\\right)\\left(\\rho\\right)$ como `error error1.tensor(error2)`\n",
    "- Expansión tensorial: $\\mathcal{E}(\\rho) = \\left(\\mathcal{E}_2\\otimes\\mathcal{E}_1\\right)\\left(\\rho\\right)$ como `error error1.expand(error2)`"
   ]
  },
  {
   "cell_type": "markdown",
   "id": "071e3e6c",
   "metadata": {},
   "source": [
    "<a id=\"secc1.1.2\"></a>\n",
    "### Ejemplo"
   ]
  },
  {
   "cell_type": "markdown",
   "id": "fe216374",
   "metadata": {},
   "source": [
    "Por ejemplo, para construir un $5\\%$ de error de inversión de bit de un solo qubit:"
   ]
  },
  {
   "cell_type": "code",
   "execution_count": 2,
   "id": "2ac514d7",
   "metadata": {},
   "outputs": [
    {
     "name": "stdout",
     "output_type": "stream",
     "text": [
      "QuantumError on 1 qubits. Noise circuits:\n",
      "  P(0) = 0.05, QasmQobjInstructions = [[{'name': 'x', 'qubits': [0]}]\n",
      "  P(1) = 0.95, QasmQobjInstructions = [[{'name': 'id', 'qubits': [0]}]\n",
      "QuantumError on 1 qubits. Noise circuits:\n",
      "  P(0) = 0.05, QasmQobjInstructions = [[{'name': 'z', 'qubits': [0]}]\n",
      "  P(1) = 0.95, QasmQobjInstructions = [[{'name': 'id', 'qubits': [0]}]\n"
     ]
    }
   ],
   "source": [
    "# Construir un bit-flip de 1 qubit y errores de cambio de fase\n",
    "p_error = 0.05                                                        # error deseado\n",
    "bit_flip = pauli_error([('X', p_error), ('I', 1 - p_error)])          # definir un error de inversión de bit\n",
    "phase_flip = pauli_error([('Z', p_error), ('I', 1 - p_error)])        # definir un error de inversión de fase\n",
    "print(bit_flip)                                                       # imprimir sus detalles\n",
    "print(phase_flip)"
   ]
  },
  {
   "cell_type": "code",
   "execution_count": 3,
   "id": "befb8162",
   "metadata": {},
   "outputs": [
    {
     "name": "stdout",
     "output_type": "stream",
     "text": [
      "QuantumError on 1 qubits. Noise circuits:\n",
      "  P(0) = 0.0025000000000000005, QasmQobjInstructions = [[{'name': 'x', 'qubits': [0]}, {'name': 'z', 'qubits': [0]}]\n",
      "  P(1) = 0.0475, QasmQobjInstructions = [[{'name': 'x', 'qubits': [0]}]\n",
      "  P(2) = 0.0475, QasmQobjInstructions = [[{'name': 'z', 'qubits': [0]}]\n",
      "  P(3) = 0.9025, QasmQobjInstructions = [[{'name': 'id', 'qubits': [0]}]\n"
     ]
    }
   ],
   "source": [
    "# Componer dos errores de inversión de bits y de fase\n",
    "bitphase_flip = bit_flip.compose(phase_flip)                          # ambos errores en un solo objeto\n",
    "print(bitphase_flip)"
   ]
  },
  {
   "cell_type": "code",
   "execution_count": 4,
   "id": "898d69c2",
   "metadata": {},
   "outputs": [
    {
     "name": "stdout",
     "output_type": "stream",
     "text": [
      "QuantumError on 2 qubits. Noise circuits:\n",
      "  P(0) = 0.0025000000000000005, QasmQobjInstructions = [[{'name': 'x', 'qubits': [0]}, {'name': 'z', 'qubits': [1]}]\n",
      "  P(1) = 0.0475, QasmQobjInstructions = [[{'name': 'z', 'qubits': [1]}]\n",
      "  P(2) = 0.0475, QasmQobjInstructions = [[{'name': 'x', 'qubits': [0]}]\n",
      "  P(3) = 0.9025, QasmQobjInstructions = [[{'name': 'id', 'qubits': [1]}]\n"
     ]
    }
   ],
   "source": [
    "# Producto tensorial: errores de inversión de dos bits e inversión de fase \n",
    "# con inversión de bits en el qubit-0, inversión de fase en el qubit-1\n",
    "error2 = phase_flip.tensor(bit_flip)\n",
    "print(error2)"
   ]
  },
  {
   "cell_type": "markdown",
   "id": "9bce6562",
   "metadata": {},
   "source": [
    "<a id=\"secc1.1.3\"></a>\n",
    "### Conversión a operadores QuantumChannel"
   ]
  },
  {
   "cell_type": "markdown",
   "id": "ab25def0",
   "metadata": {},
   "source": [
    "También podemos convertir entre objetos `QuantumError` de Qiskit Aer y objetos `QuantumChannel` de Qiskit Terra.\n",
    "\n",
    "Por ejemplo, convirtamos el canal cuántico (error) de inversión de bit, `bit_flip`, a una representación de [Kraus](https://en.wikipedia.org/wiki/Quantum_operation#Kraus_operators):"
   ]
  },
  {
   "cell_type": "code",
   "execution_count": 5,
   "id": "e9b6b7f5",
   "metadata": {},
   "outputs": [
    {
     "name": "stdout",
     "output_type": "stream",
     "text": [
      "Kraus([[[ 9.74679434e-01+0.j,  0.00000000e+00+0.j],\n",
      "        [-1.20234617e-16+0.j,  9.74679434e-01+0.j]],\n",
      "\n",
      "       [[ 2.62045272e-16+0.j,  2.23606798e-01+0.j],\n",
      "        [ 2.23606798e-01+0.j, -2.84112242e-16+0.j]]],\n",
      "      input_dims=(2,), output_dims=(2,))\n"
     ]
    }
   ],
   "source": [
    "# Convertir a un operador Kraus \n",
    "bit_flip_kraus = Kraus(bit_flip)                                      # convertimos el error de inversión de bit\n",
    "print(bit_flip_kraus)                                                 # veamos su representación"
   ]
  },
  {
   "cell_type": "markdown",
   "id": "392fa38f",
   "metadata": {},
   "source": [
    "Ahora convirtamos el canal cuántico (error) `phase_flip` a una representación de [superoperador](https://en.wikipedia.org/wiki/Superoperator):"
   ]
  },
  {
   "cell_type": "code",
   "execution_count": 6,
   "id": "38c2510a",
   "metadata": {},
   "outputs": [
    {
     "name": "stdout",
     "output_type": "stream",
     "text": [
      "SuperOp([[1. +0.j, 0. +0.j, 0. +0.j, 0. +0.j],\n",
      "         [0. +0.j, 0.9+0.j, 0. +0.j, 0. +0.j],\n",
      "         [0. +0.j, 0. +0.j, 0.9+0.j, 0. +0.j],\n",
      "         [0. +0.j, 0. +0.j, 0. +0.j, 1. +0.j]],\n",
      "        input_dims=(2,), output_dims=(2,))\n"
     ]
    }
   ],
   "source": [
    "# Convertir a superoperador\n",
    "phase_flip_sop = SuperOp(phase_flip)\n",
    "print(phase_flip_sop)"
   ]
  },
  {
   "cell_type": "code",
   "execution_count": 7,
   "id": "5cb4a115",
   "metadata": {},
   "outputs": [
    {
     "name": "stdout",
     "output_type": "stream",
     "text": [
      "QuantumError on 1 qubits. Noise circuits:\n",
      "  P(0) = 0.049999999999999996, QasmQobjInstructions = [[{'name': 'x', 'qubits': [0]}]\n",
      "  P(1) = 0.9500000000000001, QasmQobjInstructions = [[{'name': 'id', 'qubits': [0]}]\n"
     ]
    },
    {
     "data": {
      "text/plain": [
       "True"
      ]
     },
     "execution_count": 7,
     "metadata": {},
     "output_type": "execute_result"
    }
   ],
   "source": [
    "# Convertir de nuevo a un error cuántico\n",
    "print(QuantumError(bit_flip_kraus))                                  # lo regresamos un tipo QuantumError\n",
    "\n",
    "# verificar que la conversión es equivalente al error original\n",
    "QuantumError(bit_flip_kraus) == bit_flip                             # si es!"
   ]
  },
  {
   "cell_type": "markdown",
   "id": "16b4ccb4",
   "metadata": {},
   "source": [
    "<a id=\"secc1.1.4\"></a>\n",
    "### Error de lectura"
   ]
  },
  {
   "cell_type": "markdown",
   "id": "e5b3f18a",
   "metadata": {},
   "source": [
    "Los errores de lectura clásicos se especifican mediante una lista de vectores de probabilidades de asignación $P(A|B)$:\n",
    "\n",
    "- $A$ es el valor del bit clásico almacenado\n",
    "\n",
    "- $B$ es el valor del bit verdadero devuelto por la medición\n",
    "\n",
    "Por ejemplo, para 1 qubits: $P (A | B) = \\big[P (A | 0), P (A | 1)\\big]$.\n",
    "\n",
    "Usamos la clase `ReadoutError` para crear un error de lectura que podamos usar en nuestro modelo de ruido."
   ]
  },
  {
   "cell_type": "code",
   "execution_count": 8,
   "id": "66c72df4",
   "metadata": {},
   "outputs": [
    {
     "data": {
      "text/plain": [
       "ReadoutError([[0.95 0.05]\n",
       " [0.1  0.9 ]])"
      ]
     },
     "execution_count": 8,
     "metadata": {},
     "output_type": "execute_result"
    }
   ],
   "source": [
    "# Probabilidades de la medición asignadas incorrectamente\n",
    "p0given1 = 0.1\n",
    "p1given0 = 0.05\n",
    "\n",
    "ReadoutError([[1 - p1given0, p1given0], [p0given1, 1 - p0given1]])"
   ]
  },
  {
   "cell_type": "markdown",
   "id": "7fe95578",
   "metadata": {},
   "source": [
    "Los errores de lectura también se pueden combinar usando `compose`, `tensor` y `expand` como con los errores cuánticos."
   ]
  },
  {
   "cell_type": "markdown",
   "id": "fa60811e",
   "metadata": {},
   "source": [
    "<a id=\"secc1.2\"></a>\n",
    "## Agregar errores a un Modelo de Ruido"
   ]
  },
  {
   "cell_type": "markdown",
   "id": "c867b5e7",
   "metadata": {},
   "source": [
    "Al agregar un error cuántico a un modelo de ruido, debemos especificar el tipo de instrucción sobre la que actúa y a qué qubits aplicarlo. Hay tres casos de errores cuánticos:\n",
    "\n",
    "- Error cuántico en todos los qubits\n",
    "- Error cuántico específico de un qubit\n",
    "- Error cuántico no local"
   ]
  },
  {
   "cell_type": "markdown",
   "id": "ba441350",
   "metadata": {},
   "source": [
    "<a id=\"secc1.2.1\"></a>\n",
    "### Error cuántico en todos los qubits"
   ]
  },
  {
   "cell_type": "markdown",
   "id": "d7a22bdc",
   "metadata": {},
   "source": [
    "Esto aplica el mismo error a cualquier ocurrencia de una instrucción, sin importar en qué qubits actúe.\n",
    "\n",
    "Se agrega como `noise_model.add_all_qubit_quantum_error(error, instrucciones)`:"
   ]
  },
  {
   "cell_type": "code",
   "execution_count": 9,
   "id": "e33bd5fe",
   "metadata": {},
   "outputs": [
    {
     "name": "stdout",
     "output_type": "stream",
     "text": [
      "NoiseModel:\n",
      "  Basis gates: ['cx', 'id', 'u1', 'u2', 'u3']\n",
      "  Instructions with noise: ['u3', 'u2', 'u1']\n",
      "  All-qubits errors: ['u1', 'u2', 'u3']\n"
     ]
    }
   ],
   "source": [
    "# Crear un modelo de ruido vacío\n",
    "noise_model = NoiseModel()\n",
    "\n",
    "# Agrega el error de despolarización a todas las compuertas de un qubit: u1, u2, u3 individuales\n",
    "error = depolarizing_error(0.05, 1)\n",
    "noise_model.add_all_qubit_quantum_error(error, ['u1', 'u2', 'u3'])\n",
    "\n",
    "# Imprimir información del modelo de ruido\n",
    "print(noise_model)"
   ]
  },
  {
   "cell_type": "markdown",
   "id": "942644eb",
   "metadata": {},
   "source": [
    "<a id=\"secc1.2.2\"></a>\n",
    "### Error cuántico específico de un qubit"
   ]
  },
  {
   "cell_type": "markdown",
   "id": "b4fdb1a3",
   "metadata": {},
   "source": [
    "Esto aplica el error a cualquier ocurrencia de una instrucción que actúe sobre una lista específica de qubits. Ten en cuenta que el orden de los qubits importa: para una compuerta de 2 qubits, un error aplicado a los qubits $[0, 1]$ es diferente al que se aplica a los qubits $[1, 0]$, por ejemplo.\n",
    "\n",
    "Se agrega como `noise_model.add_quantum_error(error, instrucciones, qubits)`:"
   ]
  },
  {
   "cell_type": "code",
   "execution_count": 10,
   "id": "def847a7",
   "metadata": {},
   "outputs": [
    {
     "name": "stdout",
     "output_type": "stream",
     "text": [
      "NoiseModel:\n",
      "  Basis gates: ['cx', 'id', 'u1', 'u2', 'u3']\n",
      "  Instructions with noise: ['u3', 'u2', 'u1']\n",
      "  Qubits with noise: [0]\n",
      "  Specific qubit errors: [('u1', [0]), ('u2', [0]), ('u3', [0])]\n"
     ]
    }
   ],
   "source": [
    "# Crear un modelo de ruido vacío\n",
    "noise_model = NoiseModel()\n",
    "\n",
    "# Agrega el error de despolarización a todas las compuertas de un qubit: u1, u2, u3 en el qubit 0 solamente\n",
    "error = depolarizing_error(0.05, 1)\n",
    "noise_model.add_quantum_error(error, ['u1', 'u2', 'u3'], [0])\n",
    "\n",
    "# Imprimir información del modelo de ruido\n",
    "print(noise_model)"
   ]
  },
  {
   "cell_type": "markdown",
   "id": "6f39b43e",
   "metadata": {},
   "source": [
    "<a id=\"secc1.2.3\"></a>\n",
    "### Error cuántico no local"
   ]
  },
  {
   "cell_type": "markdown",
   "id": "c03a6650",
   "metadata": {},
   "source": [
    "Esto aplica un error a un conjunto específico de qubits de ruido después de cualquier ocurrencia de una instrucción que actúa sobre un qubit de compuerta específico.\n",
    "\n",
    "Se agrega como `noise_model.add_nonlocal_quantum_error(error, instructions, instr_qubits, error_qubits)`:"
   ]
  },
  {
   "cell_type": "code",
   "execution_count": 11,
   "id": "3e10f6c7",
   "metadata": {},
   "outputs": [
    {
     "name": "stdout",
     "output_type": "stream",
     "text": [
      "NoiseModel:\n",
      "  Basis gates: ['cx', 'id', 'u1', 'u2', 'u3']\n",
      "  Instructions with noise: ['u3', 'u2', 'u1']\n",
      "  Qubits with noise: [0, 2]\n",
      "  Non-local specific qubit errors: [('u1', [0], [2]), ('u2', [0], [2]), ('u3', [0], [2])]\n"
     ]
    }
   ],
   "source": [
    "# Crear un modelo de ruido vacío\n",
    "noise_model = NoiseModel()\n",
    "\n",
    "# Agrega un error de despolarización en el qubit 2 para todas las compuertas de un solo qubit u1, u2, u3 en el qubit 0\n",
    "error = depolarizing_error(0.05, 1)\n",
    "noise_model.add_nonlocal_quantum_error(error, ['u1', 'u2', 'u3'], [0], [2])\n",
    "\n",
    "# Imprimir información del modelo de ruido\n",
    "print(noise_model)"
   ]
  },
  {
   "cell_type": "markdown",
   "id": "600aa7a8",
   "metadata": {},
   "source": [
    "<a id=\"secc1.3\"></a>\n",
    "## Ejecutar un simulador ruidoso con un modelo de ruido"
   ]
  },
  {
   "cell_type": "markdown",
   "id": "933ee024",
   "metadata": {},
   "source": [
    "La instrucción `AerSimulator(noise_model = noise_model)` devuelve un simulador configurado con el modelo de ruido especificado. Además de configurar el modelo de ruido del simulador, también sustituye las compuertas base del simulador, por las compuertas del modelo de ruido."
   ]
  },
  {
   "cell_type": "markdown",
   "id": "7b36f347",
   "metadata": {},
   "source": [
    "<a id=\"secc2\"></a>\n",
    "# Modelos de ruido en simuladores"
   ]
  },
  {
   "cell_type": "markdown",
   "id": "49d81a99",
   "metadata": {},
   "source": [
    "A continuación, daremos algunos ejemplos de modelos de ruido que ejecutaremos en simuladores. Para nuestras demostraciones usaremos un circuito de prueba simple que genera un estado [GHZ](https://en.wikipedia.org/wiki/Greenberger%E2%80%93Horne%E2%80%93Zeilinger_state) de $n$ qubits."
   ]
  },
  {
   "cell_type": "code",
   "execution_count": 12,
   "id": "289b0ec0",
   "metadata": {},
   "outputs": [
    {
     "data": {
      "image/png": "[encoded data removed]",
      "text/plain": [
       "<Figure size 658.679x325.08 with 1 Axes>"
      ]
     },
     "execution_count": 12,
     "metadata": {},
     "output_type": "execute_result"
    }
   ],
   "source": [
    "# Especificación del sistema, en este caso será un estado GHZ\n",
    "n_qubits = 4                                   # cantidad de qubits\n",
    "circ = QuantumCircuit(n_qubits)                # crear circuito\n",
    "\n",
    "# Probar el circuito\n",
    "circ.h(0)                                      # compuerta inicial del estado GHZ\n",
    "for qubit in range(n_qubits - 1):              # agrgar tantos CNOTs como qubits - 1\n",
    "    circ.cx(qubit, qubit + 1)\n",
    "circ.measure_all()                             # medir todos los qubits\n",
    "\n",
    "circ.draw('mpl')                               # mostrar el circuito"
   ]
  },
  {
   "cell_type": "markdown",
   "id": "23a63685",
   "metadata": {},
   "source": [
    "<a id=\"secc2.1\"></a>\n",
    "## Simulación ideal"
   ]
  },
  {
   "cell_type": "code",
   "execution_count": 13,
   "id": "79c95c2e",
   "metadata": {},
   "outputs": [
    {
     "data": {
      "image/png": "[encoded data removed]",
      "text/plain": [
       "<Figure size 504x360 with 1 Axes>"
      ]
     },
     "execution_count": 13,
     "metadata": {},
     "output_type": "execute_result"
    }
   ],
   "source": [
    "# Simulación ideal y su ejecución\n",
    "sim_ideal = AerSimulator()\n",
    "\n",
    "result_ideal = sim_ideal.run(circ).result()\n",
    "\n",
    "plot_histogram(result_ideal.get_counts(0))"
   ]
  },
  {
   "cell_type": "markdown",
   "id": "807d7cbb",
   "metadata": {},
   "source": [
    "<a id=\"secc2.2\"></a>\n",
    "## Modelo básico de ruido de error de inversión de bits"
   ]
  },
  {
   "cell_type": "markdown",
   "id": "7e2c253e",
   "metadata": {},
   "source": [
    "Consideremos un ejemplo simple de juguete de modelo de ruido común en la investigación de la teoría de la información cuántica:\n",
    "\n",
    "- Al aplicar una sola compuerta de un qubit, cambiar el estado del qubit con probabilidad `p_gate1`.\n",
    "- Al aplicar una compuerta de 2 qubits, aplicar errores de un solo qubit a cada qubit.\n",
    "- Al restablecer un qubit, restablecer a $1$ en lugar de $0$ con probabilidad `p_reset`.\n",
    "- Al medir un qubit, cambiar el estado del qubit con probabilidad `p_meas`."
   ]
  },
  {
   "cell_type": "code",
   "execution_count": 14,
   "id": "593d0f86",
   "metadata": {},
   "outputs": [
    {
     "name": "stdout",
     "output_type": "stream",
     "text": [
      "NoiseModel:\n",
      "  Basis gates: ['cx', 'id', 'u1', 'u2', 'u3']\n",
      "  Instructions with noise: ['reset', 'u2', 'measure', 'cx', 'u3', 'u1']\n",
      "  All-qubits errors: ['reset', 'measure', 'u1', 'u2', 'u3', 'cx']\n"
     ]
    }
   ],
   "source": [
    "# Probabilidades de error de ejemplo\n",
    "p_reset = 0.03\n",
    "p_meas = 0.1\n",
    "p_gate1 = 0.05\n",
    "\n",
    "# objetos QuantumError\n",
    "error_reset = pauli_error([('X', p_reset), ('I', 1 - p_reset)])\n",
    "error_meas = pauli_error([('X',p_meas), ('I', 1 - p_meas)])\n",
    "error_gate1 = pauli_error([('X',p_gate1), ('I', 1 - p_gate1)])\n",
    "error_gate2 = error_gate1.tensor(error_gate1)\n",
    "\n",
    "# Agregar errores al modelo de ruido\n",
    "noise_bit_flip = NoiseModel()\n",
    "noise_bit_flip.add_all_qubit_quantum_error(error_reset, \"reset\")\n",
    "noise_bit_flip.add_all_qubit_quantum_error(error_meas, \"measure\")\n",
    "noise_bit_flip.add_all_qubit_quantum_error(error_gate1, [\"u1\", \"u2\", \"u3\"])\n",
    "noise_bit_flip.add_all_qubit_quantum_error(error_gate2, [\"cx\"])\n",
    "\n",
    "# Mostrar la información del modelo de ruido\n",
    "print(noise_bit_flip)"
   ]
  },
  {
   "cell_type": "markdown",
   "id": "3abad396",
   "metadata": {},
   "source": [
    "Ahora ejecutemos la simulación ruidosa:"
   ]
  },
  {
   "cell_type": "markdown",
   "id": "c8ccf864",
   "metadata": {},
   "source": [
    "<div class=\"alert alert-block alert-danger\">\n",
    "Importante: Cuando se ejecutan simulaciones ruidosas, es fundamental transpilar el circuito para el backend para que el circuito se transpile con las compuertas base ruidosas correctas configuradas para el backend.\n",
    "\n",
    "</div>"
   ]
  },
  {
   "cell_type": "code",
   "execution_count": 15,
   "id": "78be36d4",
   "metadata": {},
   "outputs": [
    {
     "data": {
      "image/png": "[encoded data removed]",
      "text/plain": [
       "<Figure size 504x360 with 1 Axes>"
      ]
     },
     "execution_count": 15,
     "metadata": {},
     "output_type": "execute_result"
    }
   ],
   "source": [
    "# Crear backend de simulador ruidoso\n",
    "sim_noise = AerSimulator(noise_model=noise_bit_flip)                         # le indicamos el modelo de ruido\n",
    "\n",
    "# Transpilamos el circuito para este simulador ruidoso en específico\n",
    "circ_tnoise = transpile(circ, sim_noise)\n",
    "\n",
    "# Ejecutar y obtener conteos\n",
    "result_bit_flip = sim_noise.run(circ_tnoise).result()\n",
    "counts_bit_flip = result_bit_flip.get_counts(0)\n",
    "\n",
    "# Graficar los resultados con ruido\n",
    "plot_histogram(counts_bit_flip)"
   ]
  },
  {
   "cell_type": "markdown",
   "id": "b66b59ca",
   "metadata": {},
   "source": [
    "<a id=\"secc2.3\"></a>\n",
    "## Modelo de relajación térmica $T_1\\;/\\;T_2$"
   ]
  },
  {
   "cell_type": "markdown",
   "id": "08348743",
   "metadata": {},
   "source": [
    "Ahora consideremos un modelo de error más realista basado en la relajación térmica:\n",
    "\n",
    "- Cada qubit está parametrizado por una constante de tiempo de relajación térmica $T_1$ y una constante de tiempo de desfase $T_2$.\n",
    "- Ten en cuenta que debemos tener que $T_2\\leq T_1$\n",
    "- Las tasas de error en las instrucciones están determinadas por los tiempos de compuerta y los valores de qubit $T_1$, $T_2$."
   ]
  },
  {
   "cell_type": "code",
   "execution_count": 16,
   "id": "a81322b2",
   "metadata": {},
   "outputs": [
    {
     "name": "stdout",
     "output_type": "stream",
     "text": [
      "NoiseModel:\n",
      "  Basis gates: ['cx', 'id', 'u2', 'u3']\n",
      "  Instructions with noise: ['reset', 'u2', 'measure', 'cx', 'u3']\n",
      "  Qubits with noise: [0, 1, 2, 3]\n",
      "  Specific qubit errors: [('reset', [0]), ('reset', [1]), ('reset', [2]), ('reset', [3]), ('measure', [0]), ('measure', [1]), ('measure', [2]), ('measure', [3]), ('u2', [0]), ('u2', [1]), ('u2', [2]), ('u2', [3]), ('u3', [0]), ('u3', [1]), ('u3', [2]), ('u3', [3]), ('cx', [0, 0]), ('cx', [0, 1]), ('cx', [0, 2]), ('cx', [0, 3]), ('cx', [1, 0]), ('cx', [1, 1]), ('cx', [1, 2]), ('cx', [1, 3]), ('cx', [2, 0]), ('cx', [2, 1]), ('cx', [2, 2]), ('cx', [2, 3]), ('cx', [3, 0]), ('cx', [3, 1]), ('cx', [3, 2]), ('cx', [3, 3])]\n"
     ]
    }
   ],
   "source": [
    "# Valores de T1 y T2 para los qubits 0-3\n",
    "T1s = np.random.normal(50e3, 10e3, 4)      # Muestreado de la media de distribución normal 50 microsegundos\n",
    "T2s = np.random.normal(70e3, 10e3, 4)      # Muestreado de la media de distribución normal 50 microsegundos\n",
    "\n",
    "\n",
    "\n",
    "# Truncar de manera aleatoria T2s <= T1s\n",
    "T2s = np.array([min(T2s[j], 2 * T1s[j]) for j in range(4)])\n",
    "\n",
    "# Tiempos de instrucción (en nanosegundos)\n",
    "time_u1 = 0                                # compuerta virtual\n",
    "time_u2 = 50                               # pulso sencillo X90\n",
    "time_u3 = 100                              # dos pulsos X90\n",
    "time_cx = 300\n",
    "time_reset = 1000                          # 1 microsegundo\n",
    "time_measure = 1000                        # 1 microsegundo\n",
    "\n",
    "\n",
    "\n",
    "# objetos QuantumError\n",
    "errors_reset = [thermal_relaxation_error(t1, t2, time_reset)\n",
    "                for t1, t2 in zip(T1s, T2s)]\n",
    "errors_measure = [thermal_relaxation_error(t1, t2, time_measure)\n",
    "                  for t1, t2 in zip(T1s, T2s)]\n",
    "errors_u1  = [thermal_relaxation_error(t1, t2, time_u1)\n",
    "              for t1, t2 in zip(T1s, T2s)]\n",
    "errors_u2  = [thermal_relaxation_error(t1, t2, time_u2)\n",
    "              for t1, t2 in zip(T1s, T2s)]\n",
    "errors_u3  = [thermal_relaxation_error(t1, t2, time_u3)\n",
    "              for t1, t2 in zip(T1s, T2s)]\n",
    "errors_cx = [[thermal_relaxation_error(t1a, t2a, time_cx).expand(\n",
    "             thermal_relaxation_error(t1b, t2b, time_cx))\n",
    "              for t1a, t2a in zip(T1s, T2s)]\n",
    "               for t1b, t2b in zip(T1s, T2s)]\n",
    "\n",
    "\n",
    "# Agregar los errores al modelo de ruido\n",
    "noise_thermal = NoiseModel()\n",
    "for j in range(4):\n",
    "    noise_thermal.add_quantum_error(errors_reset[j], \"reset\", [j])\n",
    "    noise_thermal.add_quantum_error(errors_measure[j], \"measure\", [j])\n",
    "    noise_thermal.add_quantum_error(errors_u1[j], \"u1\", [j])\n",
    "    noise_thermal.add_quantum_error(errors_u2[j], \"u2\", [j])\n",
    "    noise_thermal.add_quantum_error(errors_u3[j], \"u3\", [j])\n",
    "    for k in range(4):\n",
    "        noise_thermal.add_quantum_error(errors_cx[j][k], \"cx\", [j, k])\n",
    "\n",
    "# Mostrar información del modelo de ruido construido\n",
    "print(noise_thermal)"
   ]
  },
  {
   "cell_type": "markdown",
   "id": "dcb6ff06",
   "metadata": {},
   "source": [
    "Ahora ejecutemos la sumilación ruidosa:"
   ]
  },
  {
   "cell_type": "code",
   "execution_count": 17,
   "id": "d944bf97",
   "metadata": {},
   "outputs": [
    {
     "data": {
      "image/png": "[encoded data removed]",
      "text/plain": [
       "<Figure size 504x360 with 1 Axes>"
      ]
     },
     "execution_count": 17,
     "metadata": {},
     "output_type": "execute_result"
    }
   ],
   "source": [
    "# Ejecutar la simulación ruidosa\n",
    "sim_thermal = AerSimulator(noise_model=noise_thermal)                      # le indicamos el modelo de ruido\n",
    "\n",
    "# Transpilamos el circuito para este simulador ruidoso en específico\n",
    "circ_tthermal = transpile(circ, sim_thermal)\n",
    "\n",
    "# Ejecutar y obtener conteos\n",
    "result_thermal = sim_thermal.run(circ_tthermal).result()\n",
    "counts_thermal = result_thermal.get_counts(0)\n",
    "\n",
    "# Graficar los resultados con ruido\n",
    "plot_histogram(counts_thermal)"
   ]
  },
  {
   "cell_type": "markdown",
   "id": "b736b8ce",
   "metadata": {},
   "source": [
    "<a id=\"secc3\"></a>\n",
    "# Modelos de ruido obtenidos de los dispositivos reales"
   ]
  },
  {
   "cell_type": "markdown",
   "id": "8d88a769",
   "metadata": {},
   "source": [
    "El módulo de ruido de Qiskit Aer es capaz de generar automáticamente un modelo de ruido básico a partir de un dispositivo de hardware IBMQ y utiliza este modelo para realizar simulaciones ruidosas de `QuantumCircuits` para estudiar los efectos de los errores que ocurren en dispositivos reales, sin tener que ejecutar nuestros circuitos ahí.\n",
    "\n",
    "Ten en cuenta que estos modelos automáticos son solo una aproximación de los errores reales que ocurren en los dispositivos reales, debido al hecho de que deben construirse a partir de un conjunto limitado de parámetros de entrada relacionados con las tasas de error promedio en las compuertas. El estudio de errores cuánticos en dispositivos reales es un área activa de investigación."
   ]
  },
  {
   "cell_type": "markdown",
   "id": "77b7ed19",
   "metadata": {},
   "source": [
    "Este modelo ruidoso generado a partir de un disositivo real se genera usando la información de calibración reportada en el objeto `BackendProperties` de un dispositivo y tiene en cuenta:\n",
    "\n",
    "- La probabilidad `gate_error` de cada compuerta base en cada qubit.\n",
    "- `gate_length` de cada compuerta base en cada qubit.\n",
    "- Las constantes de tiempo de relajación $T_1$, $T_2$ de cada qubit.\n",
    "- La probabilidad de error de lectura de cada qubit."
   ]
  },
  {
   "cell_type": "markdown",
   "id": "1c38eb4d",
   "metadata": {},
   "source": [
    "<a id=\"secc3.1\"></a>\n",
    "## Backend de imitación de Terra"
   ]
  },
  {
   "cell_type": "markdown",
   "id": "ea4463bc",
   "metadata": {},
   "source": [
    "En Qiskit existen backends que son la **imitación** de dispositivos reales, que existen actualmente o que existieron en algún momento.\n",
    "\n",
    "De estos es posible obtener sus datos de ruido real, para ello se utiliza la fecha almacenada en Qiskit Terra. Uno de ellos es el dispositivo `ibmq_vigo`."
   ]
  },
  {
   "cell_type": "code",
   "execution_count": 18,
   "id": "ca73e66f",
   "metadata": {},
   "outputs": [],
   "source": [
    "from qiskit.test.mock import FakeVigo\n",
    "device_backend = FakeVigo()"
   ]
  },
  {
   "cell_type": "markdown",
   "id": "ab62323b",
   "metadata": {},
   "source": [
    "Ahora construimos un circuito de prueba para comparar la salida del dispositivo real con la salida ruidosa simulada en el Qiskit Aer `AerSimulator`. Prepararemos un estado GHZ de 3 qubits expresado como $\\tfrac{1}{2}\\left(\\ket{000} + \\ket{111}\\right)$ en los qubits $0$, $1$ y $2$. Antes de ejecutar con ruido o en el dispositivo mostramos la salida ideal esperada sin ruido."
   ]
  },
  {
   "cell_type": "code",
   "execution_count": 19,
   "id": "2be62d98",
   "metadata": {},
   "outputs": [
    {
     "data": {
      "image/png": "[encoded data removed]",
      "text/plain": [
       "<Figure size 504x360 with 1 Axes>"
      ]
     },
     "execution_count": 19,
     "metadata": {},
     "output_type": "execute_result"
    }
   ],
   "source": [
    "# Construir el circuito cuántico\n",
    "circ = QuantumCircuit(3, 3)\n",
    "circ.h(0)\n",
    "circ.cx(0, 1)\n",
    "circ.cx(1, 2)\n",
    "circ.measure([0, 1, 2], [0, 1, 2])\n",
    "\n",
    "sim_ideal = AerSimulator()\n",
    "\n",
    "# Ejecutar y obtener conteos\n",
    "result = sim_ideal.run(transpile(circ, sim_ideal)).result()\n",
    "counts = result.get_counts(0)\n",
    "\n",
    "# Mostrar resultados\n",
    "plot_histogram(counts, title='Conteos ideales para un estado GHZ de 3 qubits')"
   ]
  },
  {
   "cell_type": "markdown",
   "id": "bce0a7bc",
   "metadata": {},
   "source": [
    "Ahora generemos un simulador que imite un dispositivo. Para ello usamos el método `from_backend()`:"
   ]
  },
  {
   "cell_type": "code",
   "execution_count": 20,
   "id": "661ac42c",
   "metadata": {},
   "outputs": [
    {
     "data": {
      "text/plain": [
       "AerSimulator('aer_simulator(fake_vigo)'\n",
       "             noise_model=<NoiseModel on ['sx', 'measure', 'cx', 'id', 'x']>)"
      ]
     },
     "execution_count": 20,
     "metadata": {},
     "output_type": "execute_result"
    }
   ],
   "source": [
    "sim_vigo = AerSimulator.from_backend(device_backend)\n",
    "\n",
    "sim_vigo"
   ]
  },
  {
   "cell_type": "markdown",
   "id": "67d8de87",
   "metadata": {},
   "source": [
    "Al almacenar las propiedades del dispositivo en `sim_vigo`, nos aseguramos de que se utilicen las compuertas base adecuadas y el mapa de acoplamiento al compilar circuitos para la simulación, imitando así de forma más precisa las compuertas que se ejecutarán en un dispositivo real. Además, `sim_vigo` contiene un modelo de ruido aproximado que consta de:\n",
    "\n",
    "- Errores de compuerta de un solo qubit que consisten en un error de despolarización de un qubit seguido de un error de relajación térmica de un solo qubit.\n",
    "- Errores de compuerta de dos qubits que consisten en un error de despolarización de dos qubits seguido de errores de relajación térmica de un solo qubit en ambos qubits de la compuerta.\n",
    "- Errores de lectura de un solo qubit en el valor de bit clásico obtenido a partir de mediciones en qubits individuales.\n",
    "\n",
    "Para los errores de compuerta, el parámetro de error de los errores de relajación térmica se deriva utilizando la función `thermal_relaxation_error` del módulo `aer.noise.errors`, junto con los parámetros individuales del qubit $T_1$ y $T_2$, y el parámetro `gate_time` de las propiedades del backend del dispositivo. La probabilidad del error de despolarización se establece entonces de modo que la falta de [fidelidad](https://www.fisicalab.com/apartado/medidas-precision#fidelidad) de la compuerta promedio combinada con el error de despolarización seguida de la relajación térmica sea igual al valor de error de la compuerta de las propiedades del backend.\n",
    "\n",
    "Para los errores de lectura, la probabilidad de que el valor de bit clásico registrado se desvíe del resultado real después de una medición viene dada por el `qubit readout_errors`."
   ]
  },
  {
   "cell_type": "markdown",
   "id": "c4e10d9f",
   "metadata": {},
   "source": [
    "Ejecutemos el simulador de ruido:"
   ]
  },
  {
   "cell_type": "code",
   "execution_count": 21,
   "id": "99edf899",
   "metadata": {},
   "outputs": [
    {
     "data": {
      "image/png": "[encoded data removed]",
      "text/plain": [
       "<Figure size 504x360 with 1 Axes>"
      ]
     },
     "execution_count": 21,
     "metadata": {},
     "output_type": "execute_result"
    }
   ],
   "source": [
    "# Transpilar el circuito para las compuertas base ruidosas\n",
    "tcirc = transpile(circ, sim_vigo)\n",
    "\n",
    "\n",
    "# Ejecutar una simulación ruidosa y obtener los recuentos\n",
    "result_noise = sim_vigo.run(tcirc).result()\n",
    "counts_noise = result_noise.get_counts(0)\n",
    "\n",
    "plot_histogram(counts_noise, title=\"Conteos para el estado GHZ de 3 qubits con el modelo de ruido de un dispositivo\")"
   ]
  },
  {
   "cell_type": "markdown",
   "id": "0698c2c8",
   "metadata": {},
   "source": [
    "Si se omite la transpilación, el ruido, del modelo de ruido del dispositivo, no se aplicará a las compuertas en el circuito que no están soportadas por el backend imitado, sin importar si están soportadas por el simulador."
   ]
  },
  {
   "cell_type": "markdown",
   "id": "f97132e1",
   "metadata": {},
   "source": [
    "**Nota**: Aquí utilizamos un simulador que imita un dispositivo real (mismas característias de ruido) por comodidad, pues de esta manera no necesitamos una cuenta de IBM Quantum Experience para ejecutar el contendio de este notebook. Tu puedes ejecutar tus circuitos al mimetizar el ruido de un dispositivo real, del mismo modo como lo hicimos con `sim_vigo`.\n",
    "\n",
    "<br>"
   ]
  },
  {
   "cell_type": "markdown",
   "id": "b71d4220",
   "metadata": {},
   "source": [
    "<div class=\"alert alert-block alert-success\">\n",
    "\n",
    "**Importante**\n",
    "\n",
    "Es posible corregir los errores generados, ya sea de manera manual (personalizados) o al copiarlos de un dispositivo real, esto con ayuda de **Qiskit Ignis**, que es el módulo siguiente de este Taller.\n",
    "\n",
    "</div>"
   ]
  },
  {
   "cell_type": "markdown",
   "id": "62fe1690",
   "metadata": {},
   "source": [
    "<a id=\"secc4\"></a>\n",
    "# Referencias"
   ]
  },
  {
   "cell_type": "markdown",
   "id": "b73591d6",
   "metadata": {},
   "source": [
    "- [1] Harper, R., Flammia, S.T. & Wallman, J.J. Efficient learning of quantum noise. Nat. Phys. 16, 1184–1188 (2020). https://doi.org/10.1038/s41567-020-0992-8\n",
    "- [2] Stefano Bevacqua. History of supercomputing. Consultado en: https://www.eni.com/en-IT/technologies/history-of-supercomputing.html\n",
    "- [3] HPC wire. Amazon Braket Introduces Quantum Circuit Noise Simulator, DM1. Consultado en : https://www.hpcwire.com/off-the-wire/amazon-braket-introduces-quantum-circuit-noise-simulator-dm1/\n",
    "- [4] Qiskit Development team. Tutoriales: Building Noise Models. Consultado en: https://qiskit.org/documentation/tutorials/simulators/3_building_noise_models.html\n",
    "- [5] Qiskit Development team. Tutoriales: Device backend noise model simulations. Consultado en: https://qiskit.org/documentation/tutorials/simulators/2_device_noise_simulation.html"
   ]
  },
  {
   "cell_type": "markdown",
   "id": "5c435de9",
   "metadata": {},
   "source": [
    "<table width=\"100%\">\n",
    "    <tr style=\"background-color:white;\">\n",
    "        <td>\n",
    "            <div style=\"text-align: left;\">\n",
    "            <a href=\"03_Dispositivo_Real.ipynb\" style=\"color: #EE2A6F; font-size: 15px; font-weight: normal;\">\n",
    "                &lt;&lt; Notebook anterior: 03_Dispositivo_Real\n",
    "            </a>\n",
    "            </div>\n",
    "        </td>\n",
    "    </tr>\n",
    "</table>"
   ]
  }
 ],
 "metadata": {
  "kernelspec": {
   "display_name": "Python 3",
   "language": "python",
   "name": "python3"
  },
  "language_info": {
   "codemirror_mode": {
    "name": "ipython",
    "version": 3
   },
   "file_extension": ".py",
   "mimetype": "text/x-python",
   "name": "python",
   "nbconvert_exporter": "python",
   "pygments_lexer": "ipython3",
   "version": "3.9.5"
  }
 },
 "nbformat": 4,
 "nbformat_minor": 5
}
