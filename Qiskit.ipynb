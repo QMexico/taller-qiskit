{
 "cells": [
  {
   "cell_type": "markdown",
   "metadata": {},
   "source": [
    "# ¡Empezando con los cuantos!\n",
    "\n",
    "Comencemos pensando en cómo pueden operar las computadoras cuánticas; primero pensamos en sistemas clásicos, con una mente binaria decimos \"es\" o \"no es\"; bueno, tal vez todos aquí también estén pensando eso, pero ¿qué dices si te dicen que puede haber una tercera condición, \"es y luego no, pero puede ser de nuevo\"!\n",
    "\n",
    "Para hacer eso, tenemos que estudiar la primera condición, todo programa o sistema clásico que sea reversible (es decir, un programa clásico hecho solo por operadores reversibles) es también un programa cuántico. Dándonos la oportunidad de realizar programas con solo operador NOT."
   ]
  },
  {
   "cell_type": "markdown",
   "metadata": {},
   "source": [
    "# Nuestro primer circuito cuántico\n",
    "\n",
    "A partir de ahora, marcamos cada programa con la siguiente línea debido a la importación de cada biblioteca para nuestro código:\n",
    "\n",
    "desde qiskit importar QuantumRegister, ClassicalRegister, QuantumCircuit"
   ]
  },
  {
   "cell_type": "code",
   "execution_count": 15,
   "metadata": {},
   "outputs": [],
   "source": [
    "# ---------------------------------------------------------------------\n",
    "#   DEFINING QISKIT IN OUR CODE\n",
    "#----------------------------------------------------------------------\n",
    "#A quantum circuit is composed by quantum and classical bits in Qiskit.\n",
    "# here are the objects that we use to create a quantum circuit in qiskit\n",
    "from qiskit import QuantumRegister, ClassicalRegister, QuantumCircuit\n",
    "\n",
    "#----------------------------------------------------------------------\n",
    "#   QUANTUM BIT REGISTER\n",
    "#----------------------------------------------------------------------\n",
    "# We want to use a register for know how many qbits are used in our circuit\n",
    "q =  QuantumRegister(1,\"qreg\") # For the first parameter we use a single Qbit but it could be more\n",
    "# the second parameter is optional but used for register a name to our Qbits\n",
    "\n",
    "#----------------------------------------------------------------------\n",
    "#   CLASSICAL BIT REGISTER\n",
    "#----------------------------------------------------------------------\n",
    "#Once we create a register for our circuit we must retrive the information they send\n",
    "#For this work we will measure classically each Qbit in their own circuit\n",
    "#     The measurement result is stored classically.\n",
    "#     Therefore, we also use a classical regiser with classical bit(s)\n",
    "c = ClassicalRegister(1,\"creg\") # The number of Classical Bits and Qbits must match\n",
    "# As same as first, second parameter is optional, just for naming our Cbits\n",
    "\n",
    "#----------------------------------------------------------------------\n",
    "#   QUANTUM CIRCUIT\n",
    "#----------------------------------------------------------------------\n",
    "#With both of ours registers, its time create our circuit \n",
    "#As you migth see, declaration is simple, just remeber the order of the parameters\n",
    "qc = QuantumCircuit(q,c)\n"
   ]
  },
  {
   "cell_type": "markdown",
   "metadata": {},
   "source": [
    "Con esta parte del código ponemos a disposición el circuito con el que operar, hablando de operar, comencemos aplicando un operador NOT al circuito que acabamos de crear."
   ]
  },
  {
   "cell_type": "code",
   "execution_count": 16,
   "metadata": {},
   "outputs": [
    {
     "name": "stdout",
     "output_type": "stream",
     "text": [
      "The design of the circuit is done.\n"
     ]
    }
   ],
   "source": [
    "#----------------------------------------------------------------------\n",
    "#   NOT OPERATOR\n",
    "#----------------------------------------------------------------------\n",
    "# Remember that opperators just apply on quantum bits, also can be named as \"gates\"\n",
    "# we apply NOT operator represented as \"x\" in qiskit\n",
    "# operator is a part of the circuit, and we should specify the quantum bit as its parameter\n",
    "qc.x(q[0]) # (quantum) bits are enumerated starting from 0\n",
    "# NOT operator or x-gate is applied to the first qubit of the quantum register\n",
    "#Thus, each Quantum register can be interpreted as an array of Qbits\n",
    "\n",
    "#----------------------------------------------------------------------\n",
    "#   QUANTUM MEASURING AND CLASSICAL REGISTER\n",
    "#----------------------------------------------------------------------\n",
    "# measurement is defined by associating a Qbit to a Cbit\n",
    "qc.measure(q[0],c[0])\n",
    "# after the measurement, the observed value of the quantum bit is stored in the classical bit\n",
    "\n",
    "# we run our codes until now, and then draw our circuit\n",
    "print(\"The design of the circuit is done.\") "
   ]
  },
  {
   "cell_type": "markdown",
   "metadata": {},
   "source": [
    "# ¿Dónde está mi circuito? Visualiza el circuito\n",
    "\n",
    "Poder observar es una cualidad que nos ayudará a encontrar errores y ver el comportamiento del circuito.\n",
    "\n",
    "Podemos utilizar dos métodos, ambos nos muestran la misma información en el tiempo."
   ]
  },
  {
   "cell_type": "code",
   "execution_count": 17,
   "metadata": {},
   "outputs": [
    {
     "data": {
      "text/html": [
       "<pre style=\"word-wrap: normal;white-space: pre;background: #fff0;line-height: 1.1;font-family: &quot;Courier New&quot;,Courier,monospace\">        ┌───┐┌─┐\n",
       "qreg_0: ┤ X ├┤M├\n",
       "        └───┘└╥┘\n",
       "creg: 1/══════╩═\n",
       "              0 </pre>"
      ],
      "text/plain": [
       "        ┌───┐┌─┐\n",
       "qreg_0: ┤ X ├┤M├\n",
       "        └───┘└╥┘\n",
       "creg: 1/══════╩═\n",
       "              0 "
      ]
     },
     "execution_count": 17,
     "metadata": {},
     "output_type": "execute_result"
    }
   ],
   "source": [
    "#------------------------------------------------------------------------\n",
    "#  SIMPLE METHOD\n",
    "#------------------------------------------------------------------------\n",
    "#We can use a simple method by definiting the circuit in ASCII art\n",
    "#This method is inside qiskit library\n",
    "qc.draw()\n",
    "\n",
    "#re-execute this cell if circuit is NOT displayed"
   ]
  },
  {
   "cell_type": "code",
   "execution_count": 18,
   "metadata": {},
   "outputs": [
    {
     "data": {
      "image/png": "[encoded data removed]",
      "text/plain": [
       "<Figure size 228.341x144.48 with 1 Axes>"
      ]
     },
     "execution_count": 18,
     "metadata": {},
     "output_type": "execute_result"
    }
   ],
   "source": [
    "#------------------------------------------------------------------------\n",
    "#  AESTHETIC METHOD\n",
    "#------------------------------------------------------------------------\n",
    "#We can use a more colorful and defined circuit with matplotlib\n",
    "#Difference is just on the details showed\n",
    "#We need the matplotlib library\n",
    "#DECLARATION:\n",
    "#        mycircuit.draw(output), default=ASCII output,'mpl' = Matplotlib output\n",
    "qc.draw('mpl')\n",
    "\n",
    "#re-execute this cell if circuit is NOT displayed, matplotlib library is not necesary"
   ]
  },
  {
   "cell_type": "markdown",
   "metadata": {},
   "source": [
    "Ahora puede ver en nuestro diagrama que nuestro Qbit y Cbit comienza en 0.\n",
    "\n",
    "Como convención en computación cuántica (o mecánica), el estado 0 se denota como $ \\ ket {0} $. Esta notación se llama notación ket o de Dirac.\n",
    "\n",
    "Cada bit cuántico se representa como una única línea recta. Cada bit clásico se representa como una línea recta doble. Como conexión por cable.\n",
    "\n",
    "Preste atención a las casillas, son las medidas requeridas en el código como en el diagrama. Las puertas u operadores están representados por su letra mayúscula mientras que las medidas son las diminutas con una \"M\" en el interior. "
   ]
  },
  {
   "cell_type": "markdown",
   "metadata": {},
   "source": [
    "# ¡Arde bebe arde!\n",
    "## Ejecutando el circuito\n",
    "\n",
    "Hoy en día, podemos obtener acceso a una computación cuántica real mediante el uso de un simulador en la nube (como IBM Quantum Experience) o ingresando a una empresa que tenga uno utilizable (como Google), pero como solo podemos ejecutar un simple Código Python, comencemos usando un simulador local en una computadora normal."
   ]
  },
  {
   "cell_type": "code",
   "execution_count": 19,
   "metadata": {},
   "outputs": [
    {
     "name": "stdout",
     "output_type": "stream",
     "text": [
      "{'1': 1024}\n"
     ]
    }
   ],
   "source": [
    "#------------------------------------------------------------------------\n",
    "#  USING THE CIRCUIT EXECUTER LIBRARY\n",
    "#------------------------------------------------------------------------\n",
    "#If we want to execute our circuit, we must use \"execute\" and \"Aer\"\n",
    "#Both of them available in the Qiskit library\n",
    "#    execute: Runs the simulator\n",
    "#    Aer: Gives a space for the simulator\n",
    "from qiskit import execute, Aer\n",
    "\n",
    "#------------------------------------------------------------------------\n",
    "#  USING THE CIRCUIT EXECUTER LIBRARY\n",
    "#------------------------------------------------------------------------\n",
    "# we create a job object for execution of the circuit\n",
    "# there are three parameters\n",
    "#     job = execute(mycircuit , backend , shots)\n",
    "#     1. mycircuit: the name of the circuit you created\n",
    "#     2. backend: the backend on which it will be executed: we will use local simulator(qasm_simulator)\n",
    "#     3. shots: how many times it will be executed, by default it is 1024\n",
    "job = execute(qc,Aer.get_backend('qasm_simulator'),shots=1024)\n",
    "\n",
    "#------------------------------------------------------------------------\n",
    "#  GETTING RESULTS\n",
    "#------------------------------------------------------------------------\n",
    "# we can get the result of the outcome as follows\n",
    "counts = job.result().get_counts(qc)\n",
    "print(counts) #Finish we have the amount of times measured, and so the result"
   ]
  },
  {
   "cell_type": "markdown",
   "metadata": {},
   "source": [
    "Simple ¿no? ahora el resultado de nuestro circuito se mide 1024.\n",
    "\n",
    "Puede ver el resultado en pares como {'Rd': Rr} donde:\n",
    "     Rd: cada par mostrado (es decir, 00,01,10,11)\n",
    "     Rr: con qué frecuencia se midieron los resultados (es decir, 962,243,111)"
   ]
  },
  {
   "cell_type": "code",
   "execution_count": 20,
   "metadata": {},
   "outputs": [
    {
     "data": {
      "image/png": "[encoded data removed]",
      "text/plain": [
       "<Figure size 504x360 with 1 Axes>"
      ]
     },
     "execution_count": 20,
     "metadata": {},
     "output_type": "execute_result"
    }
   ],
   "source": [
    "#------------------------------------------------------------------------\n",
    "#  USING AN HISTORIGRAM FOR QISKIT\n",
    "#------------------------------------------------------------------------\n",
    "    # we can show the result by using histogram as follows\n",
    "from qiskit.visualization import plot_histogram\n",
    "plot_histogram(counts)"
   ]
  },
  {
   "cell_type": "markdown",
   "metadata": {},
   "source": [
    "# Lenguaje de máquina ... ¿para ordenadores cuánticos?\n",
    "## Lenguaje de ensamblaje cuántico\n",
    "\n",
    "En la ejecución anterior, usamos \"qasm_simulator\". Aquí \"qasm\" significa Open Quantum Assembly Language. Nuestro circuito se convierte a código qasm antes de ejecutarse en simuladores o computadoras cuánticas reales.\n",
    "\n",
    "Wikipedia (26 de marzo de 2021): es una representación intermedia de instrucciones cuánticas. El lenguaje se describió por primera vez en un artículo publicado en julio de 2017, y se lanzó una implementación de código fuente de referencia como parte del kit de software de información cuántica de IBM (Qiskit) para su uso con su plataforma de computación cuántica en la nube IBM Q Experience. lenguajes de descripción de hardware tradicionales como Verilog."
   ]
  },
  {
   "cell_type": "code",
   "execution_count": 21,
   "metadata": {},
   "outputs": [
    {
     "name": "stdout",
     "output_type": "stream",
     "text": [
      "OPENQASM 2.0;\n",
      "include \"qelib1.inc\";\n",
      "qreg qreg[1];\n",
      "creg creg[1];\n",
      "x qreg[0];\n",
      "measure qreg[0] -> creg[0];\n",
      "\n"
     ]
    }
   ],
   "source": [
    "#------------------------------------------------------------------------\n",
    "#  PRINTING THE QASM CODE\n",
    "#------------------------------------------------------------------------\n",
    "#This code is like a down level language programming, but for quantum!\n",
    "print(qc.qasm())"
   ]
  },
  {
   "cell_type": "markdown",
   "metadata": {},
   "source": [
    " \n",
    "# ¿Solo uno? ¡Agreguemos más de uno!\n",
    "## Diseñando un circuito Qubit múltiple \n",
    "Podemos diseñar un nuevo circuito con más de un circuito, propongamos 3"
   ]
  },
  {
   "cell_type": "code",
   "execution_count": 7,
   "metadata": {},
   "outputs": [
    {
     "name": "stdout",
     "output_type": "stream",
     "text": [
      "Look at my circuit!\n"
     ]
    },
    {
     "data": {
      "image/png": "[encoded data removed]",
      "text/plain": [
       "<Figure size 482.412x264.88 with 1 Axes>"
      ]
     },
     "execution_count": 7,
     "metadata": {},
     "output_type": "execute_result"
    }
   ],
   "source": [
    "#------------------------------------------------------------------------\n",
    "#  3 QUANTUM BITS CIRCUIT CODE\n",
    "#------------------------------------------------------------------------\n",
    "\n",
    "# import all objects and methods at once\n",
    "from qiskit import QuantumRegister, ClassicalRegister, QuantumCircuit, execute, Aer\n",
    "import matplotlib.pyplot as plt\n",
    "\n",
    "# define quantum and classical registers and then quantum circuit\n",
    "q2 = QuantumRegister(3,\"qreg\")\n",
    "c2 = ClassicalRegister(3,\"creg\")\n",
    "qc2 = QuantumCircuit(q2,c2)\n",
    "\n",
    "#------------------------------------------------------------------------\n",
    "#  APPLYING SOME OPERATORS\n",
    "#------------------------------------------------------------------------\n",
    "\n",
    "#Apply X-Gate to the three Qbits\n",
    "qc2.x(q2[0])\n",
    "qc2.x(q2[1])\n",
    "qc2.x(q2[2])\n",
    "\n",
    "#Apply X-Gate to the first Qbit 1 time\n",
    "qc2.x(q2[0])\n",
    "\n",
    "\n",
    "#Apply X-Gate to the second Qbit 1 time\n",
    "qc2.x(q2[1])\n",
    "\n",
    "\n",
    "#Apply X-Gate to the third Qbits 1 time\n",
    "qc2.x(q2[2])\n",
    "\n",
    "#------------------------------------------------------------------------\n",
    "#  GETTING AN UPGRADE FOR OUR CIRCUIT\n",
    "#------------------------------------------------------------------------\n",
    "\n",
    "# define a barrier (for a better visualization)\n",
    "qc2.barrier()\n",
    "\n",
    "#------------------------------------------------------------------------\n",
    "#  SHOWING THE CIRCUIT\n",
    "#------------------------------------------------------------------------\n",
    "\n",
    "# if the sizes of quantum and classical registers are the same, we can define measurements with a single line of code\n",
    "qc2.measure(q2,c2)\n",
    "# then quantum bits and classical bits are associated with respect to their indices\n",
    "\n",
    "# run the codes until now, and then draw our circuit\n",
    "print(\"Look at my circuit!\")\n",
    "\n",
    "qc2.draw('mpl')\n",
    "# re-execute this cell if the circuit diagram does not appear"
   ]
  },
  {
   "cell_type": "markdown",
   "metadata": {},
   "source": [
    "Como puede ver, el orden de las puertas aplicadas no se ve afectado por el tiempo. por lo que podemos apilar las puertas aplicadas a nuestro circuito solo cuidando por orden y medición. También puede ver que el orden de los bits cuánticos es de arriba a abajo: qreg [0], qreg [1], qreg [2].\n",
    "\n",
    "Pero, si te gusta, podemos revertirlo."
   ]
  },
  {
   "cell_type": "code",
   "execution_count": 24,
   "metadata": {},
   "outputs": [
    {
     "data": {
      "image/png": "[encoded data removed]",
      "text/plain": [
       "<Figure size 482.412x264.88 with 1 Axes>"
      ]
     },
     "execution_count": 24,
     "metadata": {},
     "output_type": "execute_result"
    }
   ],
   "source": [
    "#------------------------------------------------------------------------\n",
    "#  REVERSING BITS METHOD \n",
    "#------------------------------------------------------------------------\n",
    "#        mycircuit.draw(output,reverse_bits=True or False) by default reverse_bits = False\n",
    "qc2.draw('mpl',reverse_bits=True)\n",
    "# re-execute this cell if the circuit diagram does not appear"
   ]
  },
  {
   "cell_type": "markdown",
   "metadata": {},
   "source": [
    "# Tarea y ejercicios\n",
    "Vamos a ponernos en forma en qiskit haciendo algunos ejercicios interesantes a continuación."
   ]
  },
  {
   "cell_type": "markdown",
   "metadata": {},
   "source": [
    "## Tarea 1\n",
    "\n",
    "Como queremos aplicar lo aprendido aquí, vamos a adivinar el resultado del circuito.\n",
    "\n",
    "Ponga este código en ejecución y compare lo que adivina y el circuito."
   ]
  },
  {
   "cell_type": "code",
   "execution_count": 34,
   "metadata": {},
   "outputs": [
    {
     "name": "stdout",
     "output_type": "stream",
     "text": [
      "{'000': 100}\n"
     ]
    }
   ],
   "source": [
    "job = execute(qc2,Aer.get_backend('qasm_simulator'),shots=100)\n",
    "counts = job.result().get_counts(qc2)\n",
    "print(counts)"
   ]
  },
  {
   "cell_type": "markdown",
   "metadata": {},
   "source": [
    "## Pero, ¿qué significan estos números?\n",
    "\n",
    "Mientras estemos hablando de programación y lenguaje máquina, podemos interpretar la medida leyendo el orden de los Qbits:\n",
    "\n",
    "                                 qreg [2], qreg [1], qreg [0].\n",
    "                                \n",
    "Por un sistema o circuito de \"X\" número de Qbits es el mismo orden y lectura. Que recuerda un número binario, solo formado por Qbits y medido por registros clásicos.\n",
    "\n",
    "Esto significa que el primer byte es el bit menos significativo (LSB) y el último byte es el bit más significativo (MSB), por ejemplo, el número: 101, el primer \"1\" tenía un valor de 1 pero el último \"1\" tenía un valor de 4, coinciden juntos es igual al número 5 en nuestra lectura normal.\n",
    "\n",
    "En otras palabras, hablamos de un sistema en el que cada posición es múltiplo de 2:\n",
    "\n",
    "Por ejemplo, $$15$$ = $$1.$$ $$ 2 ^ 2 $$ + $$1.$$$$ 2 ^ 2 $$ + $$1.$$$$ 2 ^ 2$$ + $$1.$$$$2 ^ 2$$ = $$ 1111 $$\n",
    "\n",
    "o para un registro clásico = creg [3] = 1, creg [2] = 1, creg [1] = 1 y creg [0] = 1."
   ]
  },
  {
   "cell_type": "markdown",
   "metadata": {},
   "source": [
    "## Tarea 2\n",
    "\n",
    "¿Estás un poco cansado de crear un sistema numérico cuántico definido? ¡Tengo la solución!\n",
    "\n",
    "hagamos un algoritmo aleatorio para Python, que cumpla con las siguientes condiciones:\n",
    "\n",
    "     * Generar números aleatorios entre 2 y 20\n",
    "     * Imprime una lista de números aleatorios"
   ]
  },
  {
   "cell_type": "code",
   "execution_count": null,
   "metadata": {},
   "outputs": [],
   "source": [
    "#Write your solution here!"
   ]
  },
  {
   "cell_type": "markdown",
   "metadata": {},
   "source": [
    "## Tarea 3\n",
    "\n",
    "Implemente su última solución de código en un nuevo circuito cuántico que genera una salida aleatoria para números aleatorios de Qbits.\n",
    "* RECUERDA:\n",
    "     + Los bits cuánticos y los bits clásicos deben coincidir\n",
    "     + Podemos implementar un solo circuito Qbit\n",
    "     + Trace la salida usando mpl\n",
    "     + Se deben implementar al menos 3 puertas\n",
    "     + Cada implementación de puerta debe usar un separador\n",
    "    "
   ]
  },
  {
   "cell_type": "code",
   "execution_count": null,
   "metadata": {},
   "outputs": [],
   "source": [
    "#Write your solution here!"
   ]
  }
 ],
 "metadata": {
  "kernelspec": {
   "display_name": "Python 3",
   "language": "python",
   "name": "python3"
  },
  "language_info": {
   "codemirror_mode": {
    "name": "ipython",
    "version": 3
   },
   "file_extension": ".py",
   "mimetype": "text/x-python",
   "name": "python",
   "nbconvert_exporter": "python",
   "pygments_lexer": "ipython3",
   "version": "3.7.6"
  }
 },
 "nbformat": 4,
 "nbformat_minor": 2
}
