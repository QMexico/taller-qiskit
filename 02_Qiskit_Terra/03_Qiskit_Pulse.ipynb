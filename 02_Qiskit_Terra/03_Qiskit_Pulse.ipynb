{
 "cells": [
  {
   "cell_type": "markdown",
   "id": "nearby-concord",
   "metadata": {},
   "source": [
    "<table>\n",
    "    <tr style=\"background-color:white;\">\n",
    "        <td width=\"60%\">\n",
    "            <div style=\"height: 25px;\"></div>\n",
    "            <div align=\"left\" style=\"color: #4b324e; font-size: 40px; font-weight: bold;\">Taller de Qiskit</div>\n",
    "        </td>\n",
    "        <td>\n",
    "            <img align=\"right\" src=\"data:image/png;base64,iVBORw0KGgoAAAANSUhEUgAAAWgAAACSCAYAAAEfnGCIAAAACXBIWXMAAAWJAAAFiQFtaJ36AAAgAElEQVR4nO2dC5hN1fvH3zP1f3JJiEpGhZQkIpcJuYQaNTEmSkQldJdbLrk2FCIkEREqlF8poybXKZLk1qDkkkIuKeRO/X6Z83+++5y1Z+291z5n73P2PrdZn+eZZ87Z17X3Xufd73rXe/F4vV7i0HyJQTxo0sX+dsV6YxlKO5Nioik2QaObxFWL4+JO755lWCRsdN2bUijlphT1+7Ejx6j6tTXcbZwJeXvfN67wer1NvBzVrrnVa0agdV7d+jNnznpT66cG3D5UDHd662+bTa8a66ze8XpV6tOh/YfDvtMgb0VTzXdNo8PtAl9uXGH7GJ9/vCjoNknNv9Qu4LtHsMcPvl7xtXD54oXZhmMc+O2Aput89lGWt07lusp3fNZ3LbZO1I4Ly+9UP9tutNk2bHnPrj00y9d/s45b97y67eCeA4XH/Pj9/wRti6bRP23dFnajQV3/HWPL9fvge2q9VOG+61Z/p/xnT86ru8uGRgdqVDDOnD4jPAb7zBrPvr86ZJThQvD3665fgrbB0GizhovuWCTQ32WvSOQRJ/YymrdWpUEgUegmSeU7GY8uutOxQt763sKWMH06XlRThbhVTck/Iugc5bZYoYLSVr8Ewd/KWO3bfl5nbY3HPu1JircfIdob8g/Ru6GPs00RkPdVunB56I0+metc68y4cFq4QthovU4craEW9Gjv+YPG5foFjWs2Nryy2fdgCjt/cU5dqHeN8TVuGLmsyl1leoAFHy4wXbd39x7N90+WfRxaK3UYRi3k0z1s8efhP5XN9doXrwGePnVa+T+456CAh7aqNerPZfuH2KzOXQHXH/3zKNWveofyOWvB58p/dCvWXfT/wZTXJqvf0T07pj+sOaZojGgLNkzSX/3eX/aqd49X/EV31sp63vwgGrnYflz6A015bbLmGCePn1A+z53+vnDfYI0O1hbbd1rU6GAnw9MR3WX2uVGNRsLl+vOYNhomgnb3PmjYUN8Y0cFc4eT24I1mQEroh/r850g02uwcjnQPt8j7+mHhkT1e3fxFPJDE5jHiCA8/3IoHlHbG2+xWPBKXM3LxCO7tu3FpX4pHojLzqZ/1iVfsXMfFFrbRgFHF8WMnhevmZ8+jKtVuToibaAWMpnCzhWNYPVbs6XZmLS5cuKBsq59Osasc/rT1J+XPbB0b2UWbvHMHLF1PwB6NKf2/z/1ja6YlKSlJ3R5j61BnadqltVf+6/d/a9wUOn3qFM2Z9WHUZoB4PIWTiZIzgvdssx7NjzLDIdhcsQjs8/nHi7wZzVsbXBj4ke/B3w7GRK8GF75spfyZYWpZghx2osc0S22szEPaJa1NS/pk+acatwv05pKliiuf6zWoTS0a3Bt2+5wi6c4sxSTt/fFV4RFdn4lrntqMftm11/L2EDe4iTzzZsxRvr018W3VmDvtgxmabXgzIQmszatzVguXMyAm+e/Mmo1lk8e+qX4OZrn2HvnWZIWJ6MBPc8/Pv4b9k7IjOmAY1m+Plx6W8d4i/LFFvg16Pwf9tqK2mbkuWL0mTIQHEokBtQ4c8Py586Y7BwP7v//2u4atzBqkt+vyy0UXxx4C6PpQF0s3JtBnfh28dI4dOaYs27Jxi7Jsw7cbxOfY/3nQ905Q9W7y2DdtvxRxswLtEzErayT470lL14MhOEaGX1mVn4z6jVKoZes05duLvYeqy0eOH073tW0VULWzrOTHAVavxdbI0OzGpbVtJVwejh4dD9jpMOjR5Yloj4VtJWEgrXeR4SQTHWy2Qt5w5xHOsJDfbGrp5SgRAtMmxPEJfiU/MnzM36PlTQ4P2AiO++9lCXYkdqNnE5ExTEcSLsfZzZYvw8gQl66w8chjcemNEo9EJWAhEj7WbmP3GqJzoyPhF+4yuAY7NzsuQ3BiAcVX3kaHsWVU2v7DT9QurYNwHaaYArmyJywHsonKpTl3o5mJdNGXn1L5ShUM61PrpSrbFCpyCa3fsa5A3GPVr8PCjQ4qOphL/vqd3ykmT9FNBkvXLlXWwz3BiYiQ7T9sN11uti6mCTQrAL/0UFwO0pu2CmuGBVEDbJ5QT7RCkE2xMI3lDeaKHs4F8XkA9Fj16wgU683nJIg2Vm60qejAz//q5KtC/jEyMRIqtzeqb9jz7Nlz6uf+z/WLGUHhKV4zqMNjQBkNuRsOeFB1uSwxdih1RSnD1u9NnU3Va1alMZNG0tbcbWG1zUk8dcYFPZqrejQelN1evWHNes33fb/uUz/Dgeb16ROpdr26YbdtSK9Bjserer97ynSd8EbDhatMGGIjHLq0f4LS29ynHuH1URM0Ryt9ZWnlj/yBjaEyYsIrjk4cKwOYM7vM14sWwoWrR59nHWuEXZ7u/Yyyx4ChL1DO0pXK5zOnzxiO8tH7/9F8Zy5bgYKPzdzDzPZfkb1MXcb2CwgGMCJEb0hoCwO693fkXW7Xm5Tf/sgfR9TvCBzlc/PovV3xmcUj804/8JQSxWHqzyXy6WaOQPt+2eNduewr5XP/Z/uatj2YS5gBnNApXdXOjUa0bbAwYbNjB/Or69CyfcBjBzv+8P4vBdThERUZ6EYLRUe/4QMcEQH//nvB1vajh79GlSobR57nObVOBF5sZPLTJ7+q+cPmn5TQDzP6DemtWbM652vN9yGjhwWU6d5/DgV0pnFV67itYi2aPGuSrX0mzXxT873sNWVo5OCRptufOnGSOjzui9THjeD/GLjxcFUzM4iBMSPGa743bNbIeqMFWRH1mN5oNMwJ9adhs4aWtmMaRPI1yZrlS9YsUVMliLijemM1QGnM0NHqFkf+OKL8Z70d/oAweImuiT0U0csOwVEMZI4sXOQSwzbI5BjUNcxUqPhlFF4gTiOSZa8ONX8vmPlqP6Fz1eX9os3SAFbzpxA0W6eXwwjvYMsgpw2c3B6+rcMb4s0O9iJNJLdd5Vr+ezLodkFlNH5WiGexIkY6t31U3Q7m1QLD/10W9Eotz4IjpmMg5wc9avxw5f+KpTmUszR/ZoXPwZro/tHKddzUx9IMS0gZO1iCFvy1bpauDhQYWFYQPP7tXIdrfh2J7vGPa4B51IrljtzUoxPZ059h9SaTHRktCQ/p1xEZZGKUCOGRPdp9MkmX4Fic7UQSDhOJ6CUyiWGRYiR8thCRZigtutE8mEdq7MipJRLn6OwPBzIg6tDY8FF58yVxQk0iUgfHfIeWEeGSeEaJT2ZKdGvZmSVxjiKZpZ1DkkicjMsSoxKJCcULjIEUs3uJkrE6nkGpKDefhbT4SyIK8j8rTjAupcS3nXI+HODlufbb7wxZd6+/sTzVq3+7Y/7YkhinXBp5TvxI3sNLHfftsZWS1CpwL362c3fh1jdXq0wNGtWnitf7HPp/P3SYvln1DX2/Yatwe5biNFyYNEiUVKiJAKIEWQCbU8/FsQ6t78SIlQ033hbOv5vWb1G/h9O5ZYeOTZRit6gde1ExX9L+MAm7Q8PLfOob05XPCOpY51ImFGRb+f3gH8rn9DZpSrirHZzo0IiRbtkkv9owKr1WuqlS0P34ykCITO3QtWPIbUhE2LOx45JrRlgdmnnzu9mR9bRulk6//uwLvrfjDuxEh+7VracaJk3+siT6ihkiRLGOEvHz8SRnkKeKWF21QkhWDqgX7CGt3fZNxDozWJiTRZv3fq98RhuCFfx2CtThZp2Zdci1azbSwd+MFct5WGgi34n12TEk+YLGe/BT81wFFrDdoZHtjunKeEhFi10a8cfBlzpDbJilhA5hMmqIT8VBzhueRR8F1vv4IoSsRhKykEgEz9XfqfN2jFPs1aFgu0OzSHVkFow2SL4HzCwqTgHdGdIYTJ/nGy907PyQ8h/5hsxg0hlJn8ArE/OD05EdIJpYKfQVDTwN3lfO6l3TKaSz2+rQfJixWQbHSFKocCH1bCxrgRsM6jVQOSrGCoWLFlE+P9ipnXomqCN6zp45q0rnFum+8n8s9xP5szBEC7xlYxVl4uWWYUrrQpl4sdWhZ894T/mf1rpFzNwOFoKetSB0vSsQB/cfVFPqLf9umbolftAsOU6rphmGI9zb0NeJn+6hVS/e+cBcokcKpDNh+WJikjKNKam8T0Lb7dS2ZgpZasA7BMkro8VVyWVdPXP3x59TP19WorhmHQqzmr22mXR+oNODmuV1GuSnQmzRoIWST0dPt/ZdaZ1fxSH/TCo/u/rU893omRfyk+OxNpQtV4aWfKs9HluHY3y6YqFhuahTsxLOZvD74Br44rR67m11N41+c4zpejO8yXcT7X3f9n62JDRuCpg4LnYynMyd6bto1jYnQVKn3Tt96kSwMcP9d+VLaaY7Q8/m1QwGS0uJjoA3AA86Gjpzx8ceUqUoOiIvUWH379Wth7oXliP9/KEDh9WOyluicjYs13RmM1iRXnRmTGLpM3/xbVgw5yNlW1zDq2+M1KznCwR/sWiZ9UyMjP+dUnXopMbB281j2w4dLJNMpGHtQf46lhlMRCh2aF76mF0v9Gemciz+JluJm7inQZr6PfnaZMM+h/YfUstqw2oyJ2uu8lmf0ScY+jbpZ2sDpfwXPUe2DOXEJ0yfGPDswfrBiAGZtHP7Lho3dTzdlZIacFs96rOqOZaoVC3L94NCcU6CJMDrFOneIml/FoFJFvI/uECdORQwqGOdmVkpRPCD45+376ScJb4fDKSwqDOTkh+xrKJ/Q/pDP0cHx7J1a/LvZygCY9+v2sFpqDnRL700sCl26yax3w0PklyGgtqZ4ZFnszNTKGY7VlXl/Ll/lOnoaPHMI0+rM4ZuFB5hgzrirBRmsIHfsAGZan7Jrt27BdwH+jfjrfFTlE/8dL5dqw0kJhJ84seNHwPLqmrndZ/iVxUwwA5kCaleq7qqNqUEyG3/19G/VEk+bGTw61FnC8ukWsuxJiDkqW9+4BAN9WPMsNE0Z9aH9l9jFlUO9iCs+F7s3rGb7r+7rfq9WWoTmjD9dcvnAF9uXKHq2/pBGTppcrmrNQNDdt1Ittqszl3KZ+jdehdcswGjmcoQyFNSf+7FC7+g/s8P1Kxjbx6erJxPqMINFQMe0yl/jrB8OfiLr3jDdcq0tJs82b4rXVmmDI2Y8DKdOXWaLr2smOWz2enQfIWisuXKUvGSxQNur9+nRMnidHW54NYXfSWkKtWqBN0nlkE6/l3bf6a6DVKodr3alluqduZLypKn4ZywrtAR91He4w58/+smuvjii8JqGCMvL49qlL9NsyyUN4J0H41NVPdRh56N4w7++tcl/KLnLZonrAck4u/zf1N603TVVZQBMxKzAIRSsE926NgDdUxZiU2nnovjIVh8R8PA4qlHnqY7azWzdQx0WFRa0BcBYB06nIpmktjA++OrjndmcisEyy30dtpI+0NLHOJAtuJR58bziKuob334VSw72UhMOLbJtc5M8SahJQnE/05ZKpxiF5kKTJJQMJXjXflYJQmAWivhMX+6eYkkXilJslSCJAHQlKUQWTk8/r9e8mlLYpiS/n5qq8YK4yW/WnKdfMKSKLDKXypFWFeFJ1CHluY8SSyyz18+RYjZxMoJ2ZklMcp1/nGe0D9XDgol8QwikUvw7ddLaNmZJfFEcb6kG+k69An5KCVxyK1E1JM1m6kcsGDMkk9TEsdo6hTKziyJdxSTHiQ0lOrj8nFKEgDFlyN4eLJEEidAQkvLhiRRyJB1CiWJRI0C0aGV6OINfcIqdSBxCIRgIb4TESsuUDA69MlcX4Tx33/GQGsKNnm5fZXr9373jCv3QaockoiiZBRFh/7nkCunlR1aElm4jKLIzeE0skNLIg4rN4Fa304TseL1SBKTszSH9u7Zp8miicz75StcR81SmzlS01sSB1TqnF9uAgP1EFPninDVDo0cx6EU87GSQd4OatYkSAbcTEnU8W4eRt6jvrzVDiacyXRFQmc0b62RwjzorM1T83PdrViaQzlLV2m2wXfkL9YXupEkDp4ameRlFa6ObQopW78IRzv0nOnvKVnkebo925m69+9huk+aTs2Y8cbb9MZrvoz2+FGgY4sSeUviH+SDhrUDpjynpLRjKgcqP/FlgFGPjy9hZhdUb23ZJF3dK5QUugypcsQo/ztFeataK21Tql2Fnxos0xErB6Qo68z1G6UoWUHD6czguorXKce5z1/kEyl0o13KFz8yZN1nf1Y4efyk7X0KDFwHdmqiJWwJzXeyjxbPp8pVKzvRLg3HjhzT5Ji2m8HfKQk9pNdgtSgQaonwhX8Cwd+jmK3eGi0wFe6fPXRA7QhPQtflKiCt3faNK50ZIPs/ylwwoiWpWWcG+sI4Zrw1bopmDYp5SjgcnmgJuUM/3KqDmkkfnbloscC17cIFNVv4Tg1LSiSBuqEH9QWD8eGc+Zot1q1eG9F2xwNJ1z+ptNKJiZaQOjRKif2w2ZdsvN/QPq53ZgY69cz5M5RvsIBEMuF5yct90fJlrymjLkOxzECcPXtOHVuwQvfvTJ0ZsTbHDRXa5bd0z/ywWh1Sh2Z18UDHrp0iettQLgyFiEC7tA4RO++wvr7KqHXq1lY7J3TqQBQtWkRZi+q7bdu1UT5bVVUKGkqxTYx3fpkW1pXb7tB8VdLNe3OjctuXrs1/NWFKPRLkLF2pnKXvsL5U9Zaqyudli5cHPDPTnxs1aagp3ilSXwo6nlv659+BY5tCvhu2OzQrtAkpmZTkidpjqFX3VuW/nWLvoYIC9Yzjf52gjHb3K99QHvrM6TOmR2X6c5dnu2j0bW9enuttjkcw0UKcz3QohDwoXLxmiYWt3GPWx9EpOgD7+LUVr1W/o66iCF5/9iQlafTtia/K3PIiPLdzFqEQI1psdegxQ0fn7xhF6aynVzfzqXUnGDXEV1QeurCejWvXi8/AmffxIyBuQMnUl2gBCxFMn3YL5LuOAxMttjr0nNkfKv/Z7F20gYWF/M5MbrJ2zUbl6Gmt7lH+syLzyj2ZOVd45vem+d4gvFWkafMm6ueDvx2M2t1jjmOheEK6TbgRLSGpHL0H9YnaBfNEwsLCD+D6ZeY7SNVr4CvOvjV3m3A/pj8/0jl/MMjvn3xtsivttQL8YkgpzF8m3EM5Dz/RsnmY7cOH1KFLX3VFBK8wuvz5e37NcV6qdn3uCfWz3mqBgSLTn9MfylCX8wPDMcNGU7SAkxem4Jd8G91xkBlJN/kEJvOXtrVvZJoYv0wckz+A46VqWe4z05EZHk/++IJ3leEHhtmLFhf0W2sOH8Gy217aRdmhg8BUimapTTQbJl+T36H10pbpzxhEXqqbRWWTMpDggUx+bODG/+mn+zFTytabDfDYet7vhi0L5D4gOr/oPH8d/YtGDMg0bDd57Jumx7aCOtHCQrUsIjt0AA7uz1cxegiCFJjVQy9tmf7MBpE8bMaQApj80CHYwA1RO+w8LOCBUaXazVStxs3KN9EAj7f+WPUlR5AGf349lW/Od0BbkvUFNbmtKX00z+h1OG3SDOU4ixd+Yem8ephfB7NNW0V26AD88P2WgOtZh+UDG3j7Mz8IZPAzhiJHJdZhMWCDnosQtFW5qzRup7xknbtonmFf8vvbMOtPvyG9LV0vJD6LOMLAEefU/3Xs9oiyfkX2MurXfaDyGT+4GfOmKetXb1mlvoVA/+cH0tZNWy2dX4WzQWts0xaQHToAr495Q11ZvlIFw4Z8h1WlOaczi1xF+WV6RyV+Gl80YJuf7eu8eumZsyF/Cp7NFTB/G3Q21gmDwfvGBJPovZ/up/yHtQc/uLp3+FSard9vMfirdO/a3dL5GXnfcNYrm1EsIXXoo38cCWW3uOPQ/sNKk6vXrCpsOm+1+N8//1X+Z32Y//rl7dWiZfoHP3ywbwInxW8S1AMVQ8QVV12hBB+Tf65gymuT1a3Q2ezCfjhmZC/4TF0z7YMZmq0aNmtk2AtvrI3fbrDeigunlX+eBvb0Zwq1Q08ZN9nCVu4zZ4b9C7YKL0l79BPPRPJWi3cmv6P8/3j+AuV/epv7TM9Uj+uwvMmP+ZevW7NROCDjVQq9Uxaf9mHqG9OV/8E6Jg8/C2z2w2F88J5vgu2BDhnC9VA/oHY83eMJ9Vq3bf3RUju83z2lfvYUtm+rt9WhEX0NPv4wNlILjBk+TvnPpJOTLFuU/8ovG2AShOmLX6/02UyZ1B0x4WXTfXgbtpOOSrzqQRY6Js/p06ctb3v06DHlf4VKFYXroX4gPO3pPs9QlVt8bdi98xdLx/ae2aX8Z7Zou9jq0Hwqgby82MmT7mRSGsa0ydPVz7yJTk+Xpx5XluC1igEhI5CLKP8DETkqjRw/XDgg4/9EWaZ4P3XSSV0nKVKksHK0C//+G/Sox47+pfwvVfryoNtqQrBCzKYU8qAwo3m6ha3co89T1kbuocDP9PEjdhFNW+QH7zKHfhJMtvDwPxCRo1LWAvs+3rzlg9enrXL3ffn+OUeCjJHuaemz7kx5fWrQo7M4zNtSxOMCHmaqY7nvQsF2h4b0AHt2/xbySZ1g+Re+COGnnu/m+LH5mT7ebiyCVxiebN9V+a+fhBHBe+6xKXXWEdf5naGsgqALZvmA2sG/sawGFDds1lD9nNbYXP8HTVN9UfTwB1+13Nxz8LOP8n+YjZobB4sa+BnBMCLzbXdo/lWXws0+RZLUeqnq2Z554VnHz8xm+sDdrQJ7FvJSmXnlZY7NDHoORLEw2JR6KB2RuKALTMJc4fez4fVpq26izLqCwWmL+ubXfX3lStT5SZ8psHuXnrRgzkeGbaDuDOrjC754+bWXgp6bzQiyGcJQCUnlYDcLv1DRxbhJXl6eGoJlZxRvh9nT8zu0yPSmR2/R+MuvNwaCHzTyU+eTZ01SP/NT1MhMxb7zZjksZ/B5ANGx0cHJP4sYTI0A0z+YoXriHTpwWGhlYdaVXoN6qxaMzIGvKOvQFgg5fGbqDjp+qweDROhzIVeaUKwQCKlD42axKVdczNkAPglOAlNaUpKvyRgY2RnFWwXnOO83n4kc+kUgzpBHNAmjhw/r4qfO8erHtbGORf6JFH428swpn0UC09RsOf9DYPAdXD9gNAMTKoHUuHVr8idcYIMeM2mk+h1tYfeucJFLaPxbY5SOHwwWcmV3mltEWJmT4PDCbKfImYE0A26Bjta0dvOQMg/ZyZyE8/DSrEq1KkGP//uBQ3TieH6Hs7IPKVPN+anBrO4Tq6xdtZYO7T9AhQpdQtdUKE/Va1W31FLv+YPkXeMbBDqROcnRVGDL1y2lq66+KtxGGYA0a9XUZ8T/cuMKS2oAj0zWGLvkfZXumxm8qBgl3ZkVbjvDT9bIS8y7UlKpV7eeAbe3y7jhY9XODDqkP+zo8SVRhk1z23RCMsMR5yRe54NdFVI73NwTf/z+h3Kcd2doY/YOH/zDdB9JfOFdne95GMo0twjHvO0wmGBT4wC5ndEhkcDcDnB8wX6Q9oz0Ns7V4JDEDiwQlgXGOoErNVYClaRAxHiDRvXV799vzKXPF36hjo55YGVg3mL8Me1m9Jc6dOyBaW51ZtDBGiuuFg1CxEQoKQZERYNg/+SzJNmxdsgOHXuozwSZR/lkjeHhbofmQYeEj8KuHT9rbKqQwjfedAOlt2kVtKxbqInDZYeOMXbPUmcGHZTO5FoVLBHorE7WIYSt+IoClE4hkXBqmltEXIVg8YlRRg429zeWxDAH8oN5w53mFhFXHbpj5/yYN7fTf0ncIW+HLyjDc+mNrhw/YiqHEyDY02rApyS28dwe3Jc6FCI2KJRIGPDfcGoiRYczdQolEju41JkV0KGlMipJFGajQ78uH6ckQdjr8avQUo+WxDuYrSvBdGipdkjiHSXezMMZOaSUlsQr+1iH5q0cNeXjlMQp5Vmz+Q4Nbx/puSOJN0ry7fUI5lUQc27MYC2RxB6G2oKiiZWF/g1PxuAFSCTgXVFnpiDOSSX8O4UdiiuROEQvf598zOxwIpXDDvC47+lXU6xlZZFIJJKCQZZf450d6tXaFdDl/TPl0U2lK5FIJPHHPr+2bLnWv1UBDaEsLjMikUgkErugYiTSyJ8IR0BDNX9U3nqJRCJxhZN+QS1MymI2qfKY3/NOCmeJRCJxD8zd5ZqZPUQaNDZ0voilRCKRSAJx0u94oSa51QtorDCvFSmRSCQSt6nAhDRv4lgohbNEIpFEnT1+v31VQD8mXeckEokkZlB8p5mJAzOIt8pnI5FIJDFDzSS/UVoKZ4lEIoktWicxW4dEIpEkMigXQYfjKxltXBUKkgSGFRVlyOKikgIPV9iV/MEdSf/2ISqXFhd3RtYJkkgkiUulzuQp3VBzeUp5zDjRpKWAlkgkCY2nRqahVnHej5lEp3bE/GVLAS2RSBIe1N72XFJWc5l565/x2aVjGCmgJRJJgcBz+xSii4ppLtX73TNE/zsVs5efEJOEq3NW07LPl9CPP2yjX3bttbCHNcqWK0N1UmrR3fe1oIbNGjpxSIlEEi3+7zJFSHvXdMpvwIXTipD2NJwTk48FgSpIdfdVDLTFEp9/vIiyFiyidWs2Rq0N199Ynro89Tjd17ZV1NogQnpxSCQWOLaJ8nL7arbzFK9JnjrjYu3uZca8gD7yxxEa2PNFSwK5cJFLKK3VPdTk7qZ0c7UqVPqqK2yf7+zpM/TT1p9o5fKvaMXSL+n3g38E3adajZtp8CuDqUq1m22fz0mkgJZILHIg2+fNweEpk0qeW/rH0h2MTQENodyzWw/6YfNPpttUqHQtvTCoLzW48w5KShIWEHWcLZu20OujxtOm9VtMDw3t+u250+mKEF4O4SIFtERiA52PNPAkZ5CnSvdYuYuxJaDnTH+P3hg3mf4+949hHbTjfoNfoDYdH4hK20TA9j34hcF0/Ji4AvpTz3ejZ154NmLtkQJaIrGH98dXyXt4qWafpOufJKrQLhbuZGwI6CmvTaapb0wXrus3tA917NpJuC6WgLB+4dkX6Lzg5ZLSoDZN/2CG662NNQH98/BDa5UAABKASURBVPZd9N7b7xmW335HCtWocxslX5vsyHn2/bqPvvg0mw4dOGRY1+XZLlS+UgVHziNJTLybh5H36GrNtSXdFBPRhtEV0NCYx4wYb1heslRx+uLrbCpa7NJoNCss/v33ArVNvZ9+/Xmf4TBua9SxJKCP/nmUOmZ0pEP7DxvWYTS0bsc6x871y87dlHFXW+G6ZqlNqOeLvei6ijLVucQc74Y+5D2Zq1mfVHMsUala0bxrmVHxg4aNuXHNxgbhDMG8dts3tCp3VVwKZ3DxxRfRwpws+v7XTVTxBq1QwCih7k0ptP0Hc9t6orBs0RKhcAYYZbw1bgqdOX0m7Ks9tP8QjXlptOn6nKUrpXCWBAUeHIZAlty+UQ9kibiAhtbcrM5dBrvtR4vnx7Vg1sME9eotKxWNkQH7eru0DjSk16AYaq2zQHt+b1Zgv9KsTxbR3+f/Dvu8//3nH1obxMNnSK/BdPC32I4Yk0SfWAxkiaiA7ta+q0Frvq1Oddr622aqXLVyJJsSMYqXLKEM5x/t+rDmlFkLsimjeeuEu15oxXrtuXrNqsoz5sH6jWvXh3UuaM+jhryiWYbzpLe5T7Msa8Hnjtm7JQmMP5BFgz+QJVpETEBDGOl9mYeNHESzFxgnkRKRPkP70sz52olCRD22qN8ioa7W4/HQtMnaCd/2jzyk/Ieg5pkzc64ywRcqeu25UmXfZGBGu/sNRxwzbLSi2UskAftv4WSf7ZnD+88hxUYdDSIioKE560OwJ8+aFFMuc5Ggdr3a9NnKLM2ZDh04nDCaNLTn96a9qzFfKcFDbVoqn+9teY9m+62528iblxfSuUTac9t2bZT/pa4spQprRvaixVT6ytIhnUtSwChVy+fFwYEJRHh7RBrXBfSYoaMNmvP4t8YU2NwWmLDSC2m8vPASi3egPX84Z77mKu6+5y7V/tuha0fDFU58daIibO2i157xImDHRwTp7fVTNEfES8OpiUlJAaBcms8fmgOuePCbjiSuCmh4K8yZ/aFmWafH21PztLsLdBeHkB41YYRmGV5imECNV5SJQZ32DPoO66vafyGI6zWorVkPL4uy15S1ddUi7Zl/ERQtWoT6ZQ4w7OfUxGQ8A3995LMpCJ5EYVOhnRJZyKMEteyeFbEmuCqgB/YaaFjW96WYinWPGhj231xNOzE6fco7cXs9MB/Mnv6uZhmE8V9H/1K/QxBnPGS0D8PLwo4tWuS5MWLCy5qJwL279xheBpiYXLd6reXzJBIIBqt+bQ16tnN3Gth7qOJJhO8Q2BJzEPaNHB08Snj4geyI3DXXBDQevN7uPGr8cLdOF5e8OmmMptnQPuNRi4b2jEk4fRRl1+eeMETx1a5Xl8peU0azbNni5ZZ9lSF49dozglH0Ah7nFb0M3pk6kw7uL3gud78fFJuRTh4/HvG2xBtIoIRsdzxKoqVjm1y/EtcENPIz60mLsfSc0QZCCcE5PIs/M963WAfa84L5n2paiUm6sgLXtsJFi1DT5k00y1jgilX02nOP/j2EAl70Mti9cw8dKoA+0SMmvKJMzCPtABJ6NUttTDkblsdcytxYJVqBLK4JaCTP50GHkBh5pIs2z8jPu36Jq7sEu69Ie0a+7ORrjALazD68fMnyoG5wIu1Zb8bgwcsg/X6jAJo4ZmJY7n3xCibmkRPm0xULacL0iVHJuBjPRCOQxbWKKnrzRq26UY1pj1nKlLlS0zRRJr9YBnbfObO0E8HQWlMa1jNtNYQjzBKYIGRAs0XgSov0ewNerV57fnHEINNkSHgZPN3nGXpr4tua5eG49zEwyfbZR4toy+atdO7cOc26W6pVtVSFB8dAHhE9drVamBP1porrK1cy5CfH5CBP8ZIlQ/amQtu/WvqVYjrRK2OlryhNZcpcRSkNUmxfy6plK+nMqVP027796rIiRYsoOW5uuOlGKnVFKap6a9WAx3CNKFRkiVjJq5IlS0TqVHFFxcqV4rbt0J6nTnjLsPyRzh0D+hzDHAGzBC+gyR+4UqVaVaG5QuS5gcAXT1LgQSBeBogsRDQhD9z7+g7tZ8uDpFc3tDl4uX4oJ4gUZZglyYIAhZDTZ3LEJB7MEcGEJ3LatG3R1uA50/Gxh4SCEcflganDqoDGS2D8qHGWSsqxbXAPcE6MnqGxi9i4diMtzsqmzxd+IcwEaQZMg091f4Kq3lqNqteqbnm/cEEgC5VuqMl+h0AWDyYNXch+FzEBffz4iUidKq74VaBBxQvQnvWCDz+c9Icygl4BBKsSAp6br30F0mxFnhs9+oltzzxY37V7N0M78XLIHJtp6U6LBHOhIpfQY10fMQheaJbjR47X+P5DAONPJHSx/wOdHqS0xvdpRk/wtkhvk6bYjkVAG9YLXLQpe9XnjpouzDJOkv9Z31a7hjI6LsEpYL/t3U8/79xF32/crLw8RMJ509qNNOiFwabZDpOvKUtVb/Fpyn8ePkxHjh5TRlkMHHfUS76IP5i5Wre7n+5pHXj05QRK/ugIpiZ1TUDj7cy/bTet30Qduz3i1unilsOH/4zLpkMznTHJmMP7oY7tELESdH8Izo6PP0z9umtdMd+Z/I4iUHnBa6Y9X3n1VZbbq38ZgLGZY+mpXk8HzNOBKE++H0MIvvvRLNPyZljOcn8/3KqDpioQhK5ISEOgrt+xTglW4gU7NNAN6zbRkm+1E8eiF0YgLTVU9NfOrn/c5NdCNo1s3bSVZk2daRg9Qcg+0PFB0xiJtavW0pOdnhavW7NR+Tvx13Fq//jDwm0cYfcsY3J/pPR1MW+0a5OEsMPxWBkaFkQ++/QzzVWjvmE8UPLyEgatFJoPbL6w/VrBqsudSHt+tvdzll3z2MtAT7AkSvoUBRBOEKRWa0/OXTRPqQzP88oQsUYMINhH6lxRkQqAT1ELoan/LUHoOy2cRekZ4AGC6w9VOG/bso1eGjBMI5zx/N+c+QZN+2CGqXBenfM1jX15jHAdDzTqyWPfDKltQUENQ315LPhHu5xv3TUBjQkCPV+v+Nqt08Ul0EL1if3vaRn7yZPQ7mF9jXkJ2rTLsJWQqFDhQgYvC9gh583In3DBuWAv5oEL37UVr7XVZtHLgAIkUYJA1KcogEnDLnVStJPjELiBgkNgO0ZGPl6wsxS1ENS80MQoFds6nTYB5hP9taM94VYFWrnsK42ZAs/jxWEDqFHzRgH3a9isEQ0YNkD4/KAU8Ol8p02aQdkLPjNsFxaiArOlG0akwKxrAhodDR2Ip+9zfYPtVqDo372f5nJh04sHMxC0Z/0QVakZmTnAVkKiS4tdqmjc/A8MfDx/geoGB+1Xf64nnusmdOELhJnLnVkSpXkz5xqWwY6M6Ds7f/xkIcNKcAjMGrBB8/A2akw8wl3ODdatMVa70b9o7AItOGdZjmav9PtbUuO7m1g6Ut07UmjJmiXKC2nyrDeUv1W5XympfBHmzwNN3TGObTIK5+I1yVPD2vxFuLg6Sdj7xT6K3Y0B7WjSqxOpe/8e7l9ZjIO3/E8/7NQ0stszXWK+3fBF1mu0xOXCsJt3GftgX95cAi2LmS/0ASzQnus2uN12u81c7lgSpU5PPKK8MAKBIT7cx8IlkAsiz6+/7DFdB7/xSBYkLlasmIWtAnPu3HlH2gKNmqdsuas13087lBALQSjeXK1SiWAVBK1EClcFNIZe0AJ4LWL65FlUo/ZtBTabHfmH7S/2GqJZhh9/vEyi6jVa8ufCCAUIdCRU0tuzYeZAdjoIIh4EwFxe+vKQzmXmcockSvCk4AU0THR67feGGypRv+HGIBungXnl0Qc6azRmmBhgHmHA1AGTR6AJy1ARCWP4e4cDhGqVDz/ReG1s3phLx48dp5KlSoZ85J3bdlDWJ1qTRvnry5tubxVFOK/RFau+qJhr/s5muJ5uFG5CKbpoL2jVWzZtcfvUMcmZU6epZZN0TdNgCopE1e9wEUXyAQi9cCLzkFBJHxG4Yd1GxTast1la1T5FQCtHlW89oiRKMNHpw/A//s+niu+xmyA9L+zNvHDG7wcmD4RmF4pA+TS8hArpzE7wRgn3PGmt79WYszDxO33iNE1CLTvAlDH+5dcM1Xvuurd5WO1EZKChispFxSjpjvfN9nCNiCTsh/DR26M7ZTxK2brIpkRn947dVP8W7cgBQsAtW6IbiOr/QQMOpzArIgGRWIkHWnrT2tofWrAAGCsw/2s9oiRKU9/TBuFAIKKeJjLDuQGq6+jT88LWzF7ezB1P7+kDTd/pyjzQzPWw84T6koKXxtBXBmuENK63Q3oHWpL1heXjQOv+YOZcerzd44aKOj3796RrK4anQSvC+cJpzTIlzPv/LgvruKHg8Xq9sNJ/FYmT6f08Qf1GKTR1zrRInD6qIA9xh1btNRohXlpOCue8FU013xUfTYfcgKAhjxw0wiCgEbLd88VeYVfOhnDs/vhzmvvDA+3502WfKJN94QJhoPe/Bu988DbVaVBXs8wsWo/8z++uFncp5hFRcAgLh87dlKv0+/nZ84TmCLOgk0DmC7wk9BGI5He5MzMfYtJS3/5A/Q/X3imjk8a0wgPNvnHTRpTa6h7N9cNL5YfcrbTm6zWK5g3Nn1+/8dsNNH3SNOHLHiOp+o0bUIVK11ORIoXp/PnzdFnxy+jIH3/Szp92KRONoj7yyrjhVL9JAyUUPBy8qzsqkYE8SgmsUlFJVZEZUQFN/iGcXksAqDKSiOXxkUMAFb55vvlyNW1cu4F6Durt6LncFNAb1qynLu2fMCz/evNKKnG5M2H8sDuPHv6acN3TPZ6wNJFnBZhOOmZ0NESxQbN+ZcJIYT+E0IEPs5mwsgIEmt6UJVJaYG/WB6eIENmqKUDQil0BzcB5ej3ZO+RrN4uIRN6N7zd8T7OmhZZiF6PPFwb2oTuaNgzLjs1A3UGUtuJJumUYUZmoJXqLvICmAFrJ1clXUfbqLwwCLR5hQmDwiEFKB+KBNg0fYKdxS0BDe17z5Wravm2HZnnZcmXpnvR7TJMV2eXsmbM0esgo4V4DRrxIRS8t6sx5zp6jlUty6LtvjO5kVic7ocFCMz565KgwPwWEX5EiRaji9RVMkwbhGPo8zZVvrmx7shhKz+nT2iH51cllDV4eehuyaBsrIPwbkcF79+wTRhoml7uayle4jm6ofKPp6EIPtOqjR47QyuUraXPuVsPLk4V/314vhW5LuY0qVKqoJIRyCiWEWx8l6GIIt0WiI6AZZsO0ijdcR3MXzqWiDmhLkUavncEu9slyX67kv//+mwoVcl4wM9zUoCWSRMW7fRJ5D2rzmcfIbyczIpOEZuDtDcdzTITwILquXtU7lCGZ41FBLoEJwJSbUpSJLf7tD3vZovm+YaSbwlkikYQA8mvohLNShzBGFJuoCmiGmaAG8BeGoIbwW5G9LFpNFAKhnFovVWnf/Xe3NU2XOLjvS7JIp0QSa5jk10AdwlghqiYOM2CjfuLhbgFzz9aqeyv1fLE33Vrr1oi1C7bYl/oNpU3rzX24ixUvSqdPnjUsF00QOY00cUgkFjm8ivJ+1IZrKyHcEYwStEB0bdBWgOb58qCXNWkbzcAk432t76VGzZsoky2hTMTB6wJVLlbnrKIVS3MM4dgiMCE0csJI1SVKP1vOsJKEPRykgJZILID8GqIQ7ghHCVog9gW0HviMIqjASmUHt4BAbtPuftPZdsyWi5LkIMAAKSjdQgpoiSQwohDuGBXOFJcCWgR8VD/58GPavm1nWH6qeuCPWqVqZaVihF3XJzMtGvl+3aqkLAW0RBKA/52ivG86aaMEWQh3FKIELZAZsZJXbgKzQawlX9IniWK8OX6KLHUvkUQakXCOYgi3VWLCiyMRMaslBw0fjv4SiSRyCPNrNHjfVwQ2hpEC2kUQciti+pR3EvOCJZIYRAnhFuTXiHXhTFJAu8vAlwcLj48Qd7cyokkkkny8m4cZ82sghDs6yY9skxCThBI/u3UpIktWj5uOKJG4xqkd5P0tS8m1EQP5NeyQGF4cEolEkoAoAhqX5ZVPVyKRSGKKO5kN2pg8ViKRSCTRAjXkVjINGpwgouLycUgkEknUySCihbwXRxP5TCQSiSTqIIuTkqOYF9CbiaimfDYSiUQSNSCcX2In500cjBJ+YZ14BQIlEokkdrkTdme+daJAFdiiUbdcZtmRSCQS93kXyrJeOFOQSMLZ/p2koJZIJBLnyUI4GRE9ZnZkkYnDjPJ+oR21GuQSiUQS55z0C+SFVi7DTi6OvX5PD49f6mf6TyaRSCQSc2DCqOCXnSWsCmeyqUFbAQK8hl/bFmesl0gkksQDc3dwrsAfbMn4Hh5E9P/2zymVYkm9KgAAAABJRU5ErkJggg==\"/>\n",
    "        </td>\n",
    "    </tr>\n",
    "</table>\n",
    "\n",
    "$ \\newcommand{\\bra}[1]{\\langle #1|} $\n",
    "$ \\newcommand{\\ket}[1]{|#1\\rangle} $\n",
    "$ \\newcommand{\\braket}[2]{\\langle #1|#2\\rangle} $"
   ]
  },
  {
   "cell_type": "markdown",
   "id": "invisible-stocks",
   "metadata": {},
   "source": [
    "<div align=\"center\" style=\"color: #EE2A6F; font-size: 30px; font-weight: bold;\">Qiskit Pulse</div>"
   ]
  },
  {
   "cell_type": "markdown",
   "id": "periodic-extreme",
   "metadata": {},
   "source": [
    "<div align=\"right\" style=\"font-size: 15px; font-weight: normal;\">Preparado por Diego Aguilar Muñoz</div>"
   ]
  },
  {
   "cell_type": "markdown",
   "id": "artistic-outline",
   "metadata": {},
   "source": [
    "<a href=\"https://opensource.org/licenses/Apache-2.0\"><img align=\"right\" src=\"data:image/png;base64,iVBORw0KGgoAAAANSUhEUgAAAHgAAAAUCAMAAABxjAnBAAACXlBMVEVVVVVWVlZXV1dYWFhZWVlaWlpgYGBhYWFiYmJkZGRlZWVmZmZnZ2doaGhqampubm5vb29wcHBycnJ1dXV3d3d4eHh6enp9fX1+fn6AgICBgYGCgoKIiIiJiYmKioqOjo6QkJCRkZGSkpKTk5OVlZWXygCXygGYygKYywOZywSZywWZywaaywebzAqczAyczQ2dzQ6ezhKfzhOgzxahzxii0Bui0Byj0B6k0B+k0SCl0SKl0SOm0SSn0ien0iio0ymo0yqpqamp0yup0yyr1DCr1DGt1TWt1Tat1Teu1jiv1jqw1z2w1z6x1z+x10Cy2EGy2EKy2EO12Um22ky32k632k+4uLi421G521O6urq63FW63Fa63Fe73Fi83Vq83Vu93Vy93l6+3l++3mDB32bB4GjG4nPG4nTH43bIyMjKysrK5H7L5YDM5YLN5YTN5oXQ54zT6ZPU1NTU6ZXV1dXV6ZfW1tbX19fX6pzX653Y2NjY66Da2tra7KTa7KXb7afc7ajd3d3d7qze3t7e7q3e7q7e7q/f39/f77Dg4ODg77Th4eHi4uLj4+Pk5OTk8bzk8b7l5eXl8r/l8sDm5ubn5+fn88Pn88To6Ojo88bo88fp6enp9Mjp9Mnp9Mrq9Mvq9Mzr9c3r9c/s9dHt9tLt9tPt9tTu7u7u9tXv99fv99jw8PDw99nw99rw+Nvx8fHx+Nzx+N3y8vLy+N7y+N/y+eDz+eH09PT0+eP0+eT0+uX1+ub2+uj2+un2++r3++v3++z4++34++74/O/5/PD6/PL7/fT7/fb8/vj///9NRvkXAAAAAWJLR0TJar1nXAAAAitJREFUSMdjYCANqFILMIxaPGoxrS0+ycx2koNoi61P1uEw7ySGSO2OPdOdIUy7mTtm2mJYzMBMvI9z6o7qE2txsp5q+hwIc2W0asx8TIuBSLpxdo+UZHlzjRhQJLKsT4GBOXLK7CIWBqgYzOINbhOSgJZUTFgRrao6adu6CaaqqoELNi8LUD2ZvWVvrKqq/7SFczzgdrtvA1NWR9RU1Q+bYbGYZ7UQA59MIzuDcC9QRJRBcDmDXBUDgzgzF1QMarHXBtWUfqDFDqrm+w1ULVVV8wpUTfc4q1q4qZ6M0/bdrWqywFDVZQXc4spCMOWzFkis9cBisVImkKW4vKSkZAYjw0kGBsaTTAKbIlU44WJQi0vzVY1OmIGDdZGnalTr3HX1qvEtsKDWOKkRt3vy5MkbnY4dO2YPFEtbqAexeCXIYm9cFitlQUUgopzKkZu4YWIQi7UP7tq69XgG2OJVLkFrnFVjG1Tjm+BxfFIzoQMpkrNnGkIYNgfUVNUOW2OxmG+9AAOnzHZJBlZ5mMUi/AxMU0R4oWIQi8NBaSV8qepJA9XgjVqJbaqquQ2qFvtsVY1doBabHfJT1YkGW6BV3aQLokNDgb4NV41YgzVxyXZO7JaSqpk6IwxmsUT7lG5HBgaoGMTi1lSQgftdT07bOs9VVbdrzuSuBlXVkMWrlgRALVYNmLNuQzHEmyd37dy500+1tlZV1WnW5llOVChATg5UyXVytKwetRgfAAAQgF5r4k2ujwAAAABJRU5ErkJggg==\"></a>"
   ]
  },
  {
   "cell_type": "markdown",
   "id": "collectible-insurance",
   "metadata": {},
   "source": [
    "# Contenido\n",
    "\n",
    "1. [Introducción](#intro)\n",
    "2. [Calibración de una compuerta de pulso](#secc1)\n",
    "3. [Compuerta personalizada](#secc2)\n",
    "4. [Referencias](#secc3)"
   ]
  },
  {
   "cell_type": "markdown",
   "id": "confidential-vertical",
   "metadata": {},
   "source": [
    "<a id=\"intro\"></a>\n",
    "# Introducción"
   ]
  },
  {
   "cell_type": "markdown",
   "id": "saving-letters",
   "metadata": {},
   "source": [
    "La gran mayoría de los algoritmos cuánticos se pueden implementar por medio de las compuertas lógicas que describimos anteriormente. Sin embargo, si queremos tener control sobre la implementación de bajo nivel de un algoritmo, podemos utilizar *Compuertas de pulso*. Las compuertas de pulso son calibradas para simular una compuerta lógica cuántica por medio de un programa de Qiskit Pulse conocido como `Schedule`. Una calibración con alta fidelidad va a implementar la operación lógica que se calibró, por ejemplo, si se calibra una compuerta X, al aplicar la compuerta de pulso lleva del estado $|0>$ a $|1>$.\n",
    "\n",
    "Un **Schedule** especifica la dinámica de la señal (amplitud, frecuencia y tamaño del pulso). Es importante notar que los pulsos operan sobre qubits físicos, por lo que la calibración sobre un qubit *a* no va a realizar la misma operación lógica sobre un qubit *b*, es decir, las compuertas de pulso no son intercambiables entre qubits. En el caso de las compuertas lógicas esto no es cierto, una compuerta *X* está bien definida independientemente del qubit sobre el cual se aplica. El propósito de este notebook será mostrar la implementación de una compuerta de pulso a un circuito."
   ]
  },
  {
   "cell_type": "code",
   "execution_count": null,
   "id": "developed-dressing",
   "metadata": {},
   "outputs": [],
   "source": [
    "from qiskit import QuantumCircuit, pulse\n",
    "from qiskit.circuit import Gate\n",
    "from qiskit.pulse.library import Gaussian\n",
    "from qiskit.test.mock import FakeValencia"
   ]
  },
  {
   "cell_type": "markdown",
   "id": "federal-tunisia",
   "metadata": {},
   "source": [
    "<a id=\"secc1\"></a>\n",
    "# Calibración de una compuerta de pulso"
   ]
  },
  {
   "cell_type": "markdown",
   "id": "based-entrepreneur",
   "metadata": {},
   "source": [
    "Podemos empezar por implementar la calibración de la compuerta Hadamard en un estado entrelazado, por lo que podemos empezar por definir nuestro circuito."
   ]
  },
  {
   "cell_type": "code",
   "execution_count": null,
   "id": "trained-valuable",
   "metadata": {},
   "outputs": [],
   "source": [
    "# Definimos nuestro circuito e implementamos un estado entrelazado\n",
    "circ = QuantumCircuit(2,2)\n",
    "circ.h(0)\n",
    "circ.cx(0,1)\n",
    "circ.measure(0,0)\n",
    "circ.measure(0,0)\n",
    "\n",
    "# Visualizamos el circuito\n",
    "circ.draw(output='mpl')"
   ]
  },
  {
   "cell_type": "markdown",
   "id": "literary-pound",
   "metadata": {},
   "source": [
    "Ahora que tenemos el circuito podemos empezar a definir la calibración para la compuerta Hadamard. En la práctica, la forma y los parámetros del pulso se optimizarían por medio de una serie de pruebas conocidas como experimentos de Rabi. Si quieres conocer con mayor detalle de estos experimentos, puedes consultar el siguiente <a href=\"https://qiskit.org/textbook/ch-quantum-hardware/calibrating-qubits-pulse.html\">enlace</a>.\n",
    "\n",
    "De la misma forma, la construucción del **Schedule** sale de los propósitos de este taller, pero si quieres conocer los tipos de pulsos que puedes implementar y sus parámetros, puedes obtener más información en el siguiente <a href=\"https://qiskit.org/documentation/tutorials/circuits_advanced/06_building_pulse_schedules.html\">enlace</a>."
   ]
  },
  {
   "cell_type": "code",
   "execution_count": null,
   "id": "curious-franklin",
   "metadata": {},
   "outputs": [],
   "source": [
    "# Definimos nuestro backend, en este caso simulamos el dispositivo de 5 qubits de IBM conocido como Valencia\n",
    "backend = FakeValencia()\n",
    "\n",
    "# Construimos un pulso gaussiano con amplitud de 0.1, desviación estándar de 16 y duracion de 128 y se guarda con el nombre h_q0\n",
    "with pulse.build(backend, name='hadamard') as h_q0:\n",
    "    pulse.play(Gaussian(duration=128, amp=0.1, sigma=16), pulse.drive_channel(0))\n",
    "\n",
    "h_q0.draw(0)"
   ]
  },
  {
   "cell_type": "markdown",
   "id": "current-footwear",
   "metadata": {},
   "source": [
    "Ya hemos creado nuestro pulso, el siguiente paso es implementarlo sobre nuestro circuito. Para esto se utiliza el método `add_calibration`, el cual toma como argumentos: la compuerta a calibrar, el qubit sobre el cual está aplicada, el **Schedule** y los parámetros de la compuerta. Se debe notar que la compuerta puede ser el método con el que se implementa o el nombre de la compuerta. Debemos notar que en este caso la compuerta Hadamard no toma parámetros, por lo tanto ese último argumento va a ser omitido."
   ]
  },
  {
   "cell_type": "code",
   "execution_count": null,
   "id": "detailed-apache",
   "metadata": {},
   "outputs": [],
   "source": [
    "circ.add_calibration('h', [0], h_q0)"
   ]
  },
  {
   "cell_type": "markdown",
   "id": "departmental-strengthening",
   "metadata": {},
   "source": [
    "Finalmente, es importante notar que si se aplica el transpilador al circuito, la compuerta definida va a mantener la calibración aplicada. Incluso se debe notar que al aplicar el transpilador, las compuertas calibradas no se van a descomponer en compuertas de rotación como normalmente lo haría."
   ]
  },
  {
   "cell_type": "markdown",
   "id": "animal-hawaii",
   "metadata": {},
   "source": [
    "<a id=\"secc2\"></a>\n",
    "# Compuertas personalizadas"
   ]
  },
  {
   "cell_type": "markdown",
   "id": "scenic-working",
   "metadata": {},
   "source": [
    "Ahora podemos realizar el mismo proceso para una compuerta personalizada, para esto se utiliza la función `Gate()` colocando los parámetros de la compuerta en el argumento"
   ]
  },
  {
   "cell_type": "code",
   "execution_count": null,
   "id": "thrown-uniform",
   "metadata": {},
   "outputs": [],
   "source": [
    "# Definimos al circuito\n",
    "circ = QuantumCircuit(1,1)\n",
    "\n",
    "# Definimos la compuerta personalizada\n",
    "compuerta = Gate('compuerta', 1, [3.14, 1])\n",
    "\n",
    "# Aplicamos la compuerta y una medicón\n",
    "circ.append(compuerta, [0])\n",
    "circ.measure(0,0)\n",
    "\n",
    "circ.draw(output='mpl')"
   ]
  },
  {
   "cell_type": "code",
   "execution_count": null,
   "id": "looking-bridges",
   "metadata": {},
   "outputs": [],
   "source": [
    "# Aplicamos un pulso gausiano con duración de 64, amplitud de 0.2 y desviación estándar de 8\n",
    "with pulse.build(backend, name='compuerta') as schedule:\n",
    "    pulse.play(Gaussian(duration=64, amp=0.2, sigma=8), pulse.drive_channel(0))\n",
    "\n",
    "# Aplicamos la calibración a la compuerta\n",
    "circ.add_calibration('compuerta', [0], schedule, [3.14,1])\n",
    "\n",
    "circ.draw(output='mpl')"
   ]
  },
  {
   "cell_type": "markdown",
   "id": "blank-accordance",
   "metadata": {},
   "source": [
    "<a id=\"secc3\"></a>\n",
    "# Referencias"
   ]
  },
  {
   "cell_type": "markdown",
   "id": "mediterranean-demonstration",
   "metadata": {},
   "source": [
    "[1] Marques, M. Pulse gates. (2021, Junio 8). Consultado el 29 de Julio de 2021 en https://qiskit.org/documentation/tutorials/circuits_advanced/05_pulse_gates.html "
   ]
  },
  {
   "cell_type": "markdown",
   "id": "bronze-mobile",
   "metadata": {},
   "source": [
    "<table width=\"100%\">\n",
    "    <tr style=\"background-color:white;\">\n",
    "        <td>\n",
    "            <div style=\"text-align: left;\">\n",
    "            <a href=\"02_transpilador.ipynb\" style=\"color: #EE2A6F; font-size: 15px; font-weight: normal;\">\n",
    "                &lt;&lt; Notebook anterior: Transpilador\n",
    "            </a>\n",
    "            </div>\n",
    "        </td>\n",
    "        <td>\n",
    "            <div style=\"text-align: right;\">\n",
    "            <a href=\"04_algoritmos.ipynb\" style=\"color: #EE2A6F; font-size: 15px; font-weight: normal;\">\n",
    "                Notebook siguiente: Implementación de algoritmos >>\n",
    "            </a>\n",
    "            </div>\n",
    "        </td>\n",
    "    </tr>\n",
    "</table>"
   ]
  }
 ],
 "metadata": {
  "kernelspec": {
   "display_name": "Python 3",
   "language": "python",
   "name": "python3"
  },
  "language_info": {
   "codemirror_mode": {
    "name": "ipython",
    "version": 3
   },
   "file_extension": ".py",
   "mimetype": "text/x-python",
   "name": "python",
   "nbconvert_exporter": "python",
   "pygments_lexer": "ipython3",
   "version": "3.8.10"
  }
 },
 "nbformat": 4,
 "nbformat_minor": 5
}
