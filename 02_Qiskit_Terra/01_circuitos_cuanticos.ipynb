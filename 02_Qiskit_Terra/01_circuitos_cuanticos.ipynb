{
 "cells": [
  {
   "cell_type": "markdown",
   "source": [
    "<table>\n",
    "    <tr style=\"background-color:white;\">\n",
    "        <td width=\"60%\">\n",
    "            <div style=\"height: 25px;\"></div>\n",
    "            <div align=\"left\" style=\"color: #4b324e; font-size: 40px; font-weight: bold;\">Taller de Qiskit</div>\n",
    "        </td>\n",
    "        <td>\n",
    "            <img align=\"right\" src=\"data:image/png;base64,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\"/>\n",
    "        </td>\n",
    "    </tr>\n",
    "</table>\n",
    "\n",
    "$ \\newcommand{\\bra}[1]{\\langle #1|} $\n",
    "$ \\newcommand{\\ket}[1]{|#1\\rangle} $\n",
    "$ \\newcommand{\\braket}[2]{\\langle #1|#2\\rangle} $"
   ],
   "metadata": {}
  },
  {
   "cell_type": "markdown",
   "source": [
    "<div align=\"center\" style=\"color: #EE2A6F; font-size: 30px; font-weight: bold;\">Circuitos y compuertas cuánticas</div>"
   ],
   "metadata": {}
  },
  {
   "cell_type": "markdown",
   "source": [
    "<div align=\"right\" style=\"font-size: 15px; font-weight: normal;\">Preparado por Diego Aguilar Muñoz</div>"
   ],
   "metadata": {}
  },
  {
   "cell_type": "markdown",
   "source": [
    "<a href=\"https://opensource.org/licenses/Apache-2.0\"><img align=\"right\" src=\"data:image/png;base64,iVBORw0KGgoAAAANSUhEUgAAAHgAAAAUCAMAAABxjAnBAAACXlBMVEVVVVVWVlZXV1dYWFhZWVlaWlpgYGBhYWFiYmJkZGRlZWVmZmZnZ2doaGhqampubm5vb29wcHBycnJ1dXV3d3d4eHh6enp9fX1+fn6AgICBgYGCgoKIiIiJiYmKioqOjo6QkJCRkZGSkpKTk5OVlZWXygCXygGYygKYywOZywSZywWZywaaywebzAqczAyczQ2dzQ6ezhKfzhOgzxahzxii0Bui0Byj0B6k0B+k0SCl0SKl0SOm0SSn0ien0iio0ymo0yqpqamp0yup0yyr1DCr1DGt1TWt1Tat1Teu1jiv1jqw1z2w1z6x1z+x10Cy2EGy2EKy2EO12Um22ky32k632k+4uLi421G521O6urq63FW63Fa63Fe73Fi83Vq83Vu93Vy93l6+3l++3mDB32bB4GjG4nPG4nTH43bIyMjKysrK5H7L5YDM5YLN5YTN5oXQ54zT6ZPU1NTU6ZXV1dXV6ZfW1tbX19fX6pzX653Y2NjY66Da2tra7KTa7KXb7afc7ajd3d3d7qze3t7e7q3e7q7e7q/f39/f77Dg4ODg77Th4eHi4uLj4+Pk5OTk8bzk8b7l5eXl8r/l8sDm5ubn5+fn88Pn88To6Ojo88bo88fp6enp9Mjp9Mnp9Mrq9Mvq9Mzr9c3r9c/s9dHt9tLt9tPt9tTu7u7u9tXv99fv99jw8PDw99nw99rw+Nvx8fHx+Nzx+N3y8vLy+N7y+N/y+eDz+eH09PT0+eP0+eT0+uX1+ub2+uj2+un2++r3++v3++z4++34++74/O/5/PD6/PL7/fT7/fb8/vj///9NRvkXAAAAAWJLR0TJar1nXAAAAitJREFUSMdjYCANqFILMIxaPGoxrS0+ycx2koNoi61P1uEw7ySGSO2OPdOdIUy7mTtm2mJYzMBMvI9z6o7qE2txsp5q+hwIc2W0asx8TIuBSLpxdo+UZHlzjRhQJLKsT4GBOXLK7CIWBqgYzOINbhOSgJZUTFgRrao6adu6CaaqqoELNi8LUD2ZvWVvrKqq/7SFczzgdrtvA1NWR9RU1Q+bYbGYZ7UQA59MIzuDcC9QRJRBcDmDXBUDgzgzF1QMarHXBtWUfqDFDqrm+w1ULVVV8wpUTfc4q1q4qZ6M0/bdrWqywFDVZQXc4spCMOWzFkis9cBisVImkKW4vKSkZAYjw0kGBsaTTAKbIlU44WJQi0vzVY1OmIGDdZGnalTr3HX1qvEtsKDWOKkRt3vy5MkbnY4dO2YPFEtbqAexeCXIYm9cFitlQUUgopzKkZu4YWIQi7UP7tq69XgG2OJVLkFrnFVjG1Tjm+BxfFIzoQMpkrNnGkIYNgfUVNUOW2OxmG+9AAOnzHZJBlZ5mMUi/AxMU0R4oWIQi8NBaSV8qepJA9XgjVqJbaqquQ2qFvtsVY1doBabHfJT1YkGW6BV3aQLokNDgb4NV41YgzVxyXZO7JaSqpk6IwxmsUT7lG5HBgaoGMTi1lSQgftdT07bOs9VVbdrzuSuBlXVkMWrlgRALVYNmLNuQzHEmyd37dy500+1tlZV1WnW5llOVChATg5UyXVytKwetRgfAAAQgF5r4k2ujwAAAABJRU5ErkJggg==\"></a>"
   ],
   "metadata": {}
  },
  {
   "cell_type": "markdown",
   "source": [
    "# Contenido\n",
    "\n",
    "1. [Introducción](#intro)\n",
    "2. [Circuitos cuánticos](#secc1)\n",
    "   1. [Implementación en Qiskit](#secc1.1)\n",
    "   2. [Visalización de un circiuto](#secc1.2)\n",
    "3. [Compuertas unitarias](#secc2)\n",
    "   1. [Compuerta *X*](#secc2.1)\n",
    "   2. [Compuerta *Z*](#secc2.2)\n",
    "   3. [Compuerta *Y*](#secc2.3)\n",
    "   4. [Compuerta *H*](#secc2.4)\n",
    "4. [Compuertas de múltiples qubits](#secc3)\n",
    "   1. [Compuerta *CNOT*](#secc3.1)\n",
    "   2. [Compuertas controladas](#secc3.2)\n",
    "   3. [Compuerta *Swap*](#secc3.3)\n",
    "   4. [Compuerta *Toffoli*](#secc3.4)\n",
    "5. [Compuertas no unitarias](#secc4)\n",
    "   1. [Mediciones](#secc4.1)\n",
    "   1. [Reset](#secc4.2)\n",
    "   2. [Operadores condicionales](#secc4.3)\n",
    "6. [Referencias](#ref)\n"
   ],
   "metadata": {}
  },
  {
   "cell_type": "markdown",
   "source": [
    "<a id=\"intro\"></a>\n",
    "# Introducción"
   ],
   "metadata": {}
  },
  {
   "cell_type": "markdown",
   "source": [
    "En computación clásica, la unidad fundamental de información se conoce como *bit* y puede tomar 2 valores: 0 y 1. En el caso de la computación cuántica se tiene un concepto análogo conocido como **Qubit**. El qubit es un sistema cuántico que tiene 2 estados: $|0>$ y $|1>$. Sin embargo, la principal diferencia con el bit es que el qubit puede encontrarse como una combinación lineal de los estados, es decir:\n",
    "\n",
    "$$|\\psi> = \\alpha |0> + \\beta |1>$$\n",
    "\n",
    "donde $\\alpha$ y $\\beta$ son números complejos cualesquiera tales que $|\\alpha|^2 = |\\beta|^2 = 1$. Esta combinación lineal es conocida como superposición de estados. Es importante recalcar que $\\alpha$ y $\\beta$ tienen significado físico, el módulo al cuadrado de cada unos de estos valores representa la probabilidad de obtener el valor correspondiente a ese estado. En otras palabras, si nos tomamos el estado mencionado anteriormente, al medir tendremos una probabilidad de $|\\alpha|^2$ de medir $|0>$ y una probabilidad de $|\\beta|^2$ de medir $|1>$."
   ],
   "metadata": {}
  },
  {
   "cell_type": "code",
   "execution_count": null,
   "source": [
    "# Importamos las herramientas necesarias para este notebook\n",
    "import qiskit\n",
    "from qiskit import QuantumRegister, ClassicalRegister, QuantumCircuit\n",
    "from qiskit.tools.visualization import circuit_drawer\n",
    "\n",
    "import matplotlib.pyplot as plt"
   ],
   "outputs": [],
   "metadata": {}
  },
  {
   "cell_type": "markdown",
   "source": [
    "<a id=\"secc1\"></a>\n",
    "# Circuitos cuánticos"
   ],
   "metadata": {}
  },
  {
   "cell_type": "markdown",
   "source": [
    "Para poder realizar operaciones en computación clásica, fundamentalmente se cuenta con una serie de cables y compuertas lógicas, esto es conocido como circuito. De la misma forma, en computación cuántica se utilizan circuitos para poder realizar operaciones e implementar algoritmos, esto por medio de compuertas aplicadas a algoritmos. En general un circuito cuántico se conforma por 2 partes principales, un grupo de qubits sobre los que se aplicarán las mediciones y un grupo de bits clásicos donde se almacenarán las mediciones de cada uno de los qubits, incluso se puede condicionar la aplicación de ciertas compuertas cuánticas al valor de algún bit clásico."
   ],
   "metadata": {}
  },
  {
   "cell_type": "markdown",
   "source": [
    "<a id=\"secc1.1\"></a>\n",
    "## Implementación en Qiskit"
   ],
   "metadata": {}
  },
  {
   "cell_type": "markdown",
   "source": [
    "Para definir un circuito cuántico se utiliza la clase `QuantumCircuit()`. En el argumento definimos el número de qubits y bits clásicos a utilizar. Existen 2 formas de definir los registros, ya sea escribiendo el número de qubits seguido por el número de bits, por ejemplo `QuantumCircuit(2,2)` define un circuito de 2 qubits y 2 bits.\n",
    "Otra forma es definiendo por separado los registros utilizando `QuantumRegister()` y `ClassicalRegister()` donde el argumento es el número de qubits y bits respectivamente. Si se agrega un segundo argumento es el nombre de los qubits en ese registro. Es importante que notes que cada uno de los qubits y bits clásicos asociados tienen una posición definida empezando por 0. Esto es útil para designar el qubit sobre el cual se va a aplicar alguna compuerta. \n",
    "\n",
    "Finalmente, por defecto todos los qubits están inicializados en el estado $|0>$. Sin embargo, se puede utilizar el método `initialize()` para cambiar este estado. Este método toma 2 argumentos, el primero es el estado que con el cual se quiere inicializar el qubit y el segundo argumento es el qubit que se busca inicializar. El estado inicial se define como un vector de 2 entradas. Recordando que $|0> = \\left( \\begin{matrix} 1 \\\\ 0 \\\\\\end{matrix} \\right)$ y $|1> = \\left( \\begin{matrix} 0 \\\\ 1 \\\\\\end{matrix} \\right)$.\n",
    "\n",
    "A continuación realizamos un ejemplo de un circuito de 2 qubits y 2 bits clásicos con el segundo qubit inicializado en $|1>$"
   ],
   "metadata": {}
  },
  {
   "cell_type": "code",
   "execution_count": null,
   "source": [
    "# Definimos un registro cuántico de 2 qubits con nombre 'qubit' y un registro clásico de 2 bits\n",
    "q = QuantumRegister(2, name='qubit')\n",
    "c = ClassicalRegister(2, name='bit')\n",
    "\n",
    "\n",
    "# Definimos como qc al circuito cuántico con los registros definidos anteriormente.\n",
    "qc = QuantumCircuit(q,c, name='Circuito') \n",
    "\n",
    "#Definimos el estado |1>\n",
    "init = [0,1]\n",
    "\n",
    "#Inicializamos el segundo qubit en el estado |1>\n",
    "qc.initialize(init, 1)"
   ],
   "outputs": [],
   "metadata": {}
  },
  {
   "cell_type": "markdown",
   "source": [
    "<a id=\"secc1.2\"></a>\n",
    "## Visualización de un circiuto"
   ],
   "metadata": {}
  },
  {
   "cell_type": "markdown",
   "source": [
    "Para facilitar la construcción de un circuito cuántico, se tienen diferentes herramientas de visualización. La más básica es utilizando la función `print()` y toma como argumento el nombre del circuito qe se busca visualizar. Este circuito se mostrará como un archivo de texto en código ASCII. Por ejemplo, podemos utilizarla para visualizar el circuito definido en el ejemplo anterior."
   ],
   "metadata": {}
  },
  {
   "cell_type": "code",
   "execution_count": null,
   "source": [
    "print(qc)"
   ],
   "outputs": [],
   "metadata": {}
  },
  {
   "cell_type": "markdown",
   "source": [
    "Otra forma de visualizar el circuito es utilizando el método `draw()` sobre el circuito que se quiere observar. Si no se coloca un argumento, el circuito se visualizará como un archivo de texto. Sin embargo, existen 2 opciones de salida alternativos que pueden ser de gran utilidad. La primera es utilizando la biblioteca de Python **matplotlib** y la segnda ocupa el sistema de composición de textos **LaTeX**. Para decidir cual utilizar se pueden definir los valores `mpl` y `latex` para el parámetro `output`. Si se quiere el código de LaTeX que genera el circuito se utiliza `latex_source`.\n",
    "\n",
    "Existen diferentes parámetros que se pueden modificar en el argmento del método `draw()` para cambiar el aspecto de la salida. Por ejemplo el parámetro `scale` que funciona para reducir o aumentar el tamaño de la imagen de salida, o `reverse_bits` para invertir el orden de los qubits. Si quieres obtener más información de todos los parámetros que se pueden utilizar puedes consultar la <a href=\"https://qiskit.org/documentation/stubs/qiskit.visualization.circuit_drawer.html\">documentación de Qiskit</a>. Si se prefiere utilizar una función en lugar de un método, `qiskit.tools.visualization` nos ofrece la función `circuit_drawer()`, la cual funciona igual que el método `draw()`, donde toma como argumento principal el circuito que se quiere visualizar y se agregan los mismos parámetros que `draw()`.\n",
    "\n",
    "Uno de los parámetros más interesantes es `style` ya que cuenta con diferentes opciones para poder personalizar la imagen de salida, por ejemplo `backgroundcolor` define el color de fondo del archivo, por defecto el color es blanco. También se puede modificar el color del texto utilizando `textcolor`, si se quuuieren conocer todos los detalles que se pueden personalizar puedes consultar el siguiente <a href=\"https://qiskit.org/documentation/stubs/qiskit.visualization.qcstyle.DefaultStyle.html#qiskit.visualization.qcstyle.DefaultStyle\">enlace</a>.\n",
    "\n",
    "Un ejemplo de personalización de la salida de un circuito es:"
   ],
   "metadata": {}
  },
  {
   "cell_type": "code",
   "execution_count": null,
   "source": [
    "#Definimos la variable style donde se marcan los aspectos estéticos que se quieren cambiar\n",
    "style = {'backgroundcolor': 'pink', 'textcolor': '#3B3131'}\n",
    "\n",
    "#Dibujamos el circuito utilizando Matplotlib y el estilo definido anteriormente\n",
    "qc.draw(output='mpl', style=style)"
   ],
   "outputs": [],
   "metadata": {}
  },
  {
   "cell_type": "markdown",
   "source": [
    "<a id=\"secc2\"></a>\n",
    "# Compuertas unitarias"
   ],
   "metadata": {}
  },
  {
   "cell_type": "markdown",
   "source": [
    "En computación clásica se ocupan compuertas lógicas con la intención de modificar el valor del bit y así poder implementar diferentes algoritmos, existen 2 tipos de compuertas: las de un solo bit y las compuertas múltiples. Un ejemplo es la compuerta *NOT*, la cual convierte un bit 0 en 1 y viceversa.\n",
    "\n",
    "En el caso de computación cuántica se tiene un análogo, a continuación conoceremos las compuertas unitarias más utilizadas."
   ],
   "metadata": {}
  },
  {
   "cell_type": "markdown",
   "source": [
    "<a id=\"secc2.1\"></a>\n",
    "## Compuerta *X*"
   ],
   "metadata": {}
  },
  {
   "cell_type": "markdown",
   "source": [
    "La compuerta *X* es una de las 3 matrices de Pauli (*X*, *Y* y *Z*), su representación matemática está dada por:\n",
    "\n",
    "$$ X = \\begin{pmatrix}\n",
    "        0 & 1 \\\\\n",
    "        1 & 0 \\\\\n",
    "        \\end {pmatrix} = |0><1| + |1><0| $$\n",
    "\n",
    "Podemos observar que al aplicarla a los estados $|0>$ y $|1>$ se obtiene:\n",
    "\n",
    "$$\\begin{align*} X|0> & = |1> \\\\\n",
    "X|1> & = |0> \\end{align*}$$\n",
    "\n",
    "Podemos notar que la compuerta cambia el estado $|0>$ a $|1>$ y viceversa, es por esto que esta compuerta también se conoce como **bit-flip gate**.\n",
    "\n",
    "Su implementación en Qiskit está dada por el método `x()` donde el argumento es el qubit sobre el cual se quiere implementar la compuerta, por ejemplo:"
   ],
   "metadata": {}
  },
  {
   "cell_type": "code",
   "execution_count": null,
   "source": [
    "#Definimos un circuito de 1 qubit\n",
    "qc = QuantumCircuit(1)\n",
    "\n",
    "#Aplicamos la compuerta X al qubit\n",
    "qc.x(0)\n",
    "\n",
    "#Dibujamos el circuito\n",
    "qc.draw('latex')"
   ],
   "outputs": [],
   "metadata": {}
  },
  {
   "cell_type": "markdown",
   "source": [
    "<a id=\"secc2.2\"></a>\n",
    "## Compuerta *Z*"
   ],
   "metadata": {}
  },
  {
   "cell_type": "markdown",
   "source": [
    "La representación matemática de la compuerta *Z*, también conocida como *phase-flip gate* está dada por:\n",
    "\n",
    "$$ Z = \\begin{pmatrix}\n",
    "        1 & 0 \\\\\n",
    "        0 & -1 \\\\\n",
    "        \\end {pmatrix} = |0><0| - |1><1| $$\n",
    "\n",
    "Podemos observar que al aplicarla a los estados $|0>$ y $|1>$ se obtiene:\n",
    "\n",
    "\n",
    "$$\\begin{align*} Z|0> & = |0> \\\\\n",
    "Z|1> & = -|1> \\end{align*}$$\n",
    "\n",
    "De manera análoga a la compuerta *X*, se implementa en Qiskit por medio del método `z()` donde el argumento es el qubit sobre el cual se quiere implementar la compuerta.\n"
   ],
   "metadata": {}
  },
  {
   "cell_type": "code",
   "execution_count": null,
   "source": [
    "# Aplicamos la compuerta Z en el circuito definido en el ejemplo anterior\n",
    "qc.z(0)\n",
    "\n",
    "# Dibujamos el circuito\n",
    "qc.draw('mpl')"
   ],
   "outputs": [],
   "metadata": {}
  },
  {
   "cell_type": "markdown",
   "source": [
    "<a id=\"secc2.3\"></a>\n",
    "## Compuerta *Y*"
   ],
   "metadata": {}
  },
  {
   "cell_type": "markdown",
   "source": [
    "Finalmente la última de las compuertas de Pauli es la compuerta *Y* también conocida como *bit- and phase-flip gate*, esto se debe a que realiza la misma operación que si se aplicaran las 2 compuertas anteriores. Su representación matemática está dada por:\n",
    "\n",
    "$$ Y = \\begin{pmatrix}\n",
    "        0 & -i \\\\\n",
    "        i & 0 \\\\\n",
    "        \\end {pmatrix} = -i|0><1| + i|1><0| $$\n",
    "\n",
    "Al aplicarla a los estados $|0>$ y $|1>$ se obtiene:\n",
    "\n",
    "\n",
    "$$\\begin{align*} Y|0> & = -i|1> \\\\\n",
    "Y|1> & = i|0> \\end{align*}$$\n",
    "\n",
    "Se implementa en Qiskit por medio del método `Y()` donde el argumento es el qubit sobre el cual se quiere implementar la compuerta."
   ],
   "metadata": {}
  },
  {
   "cell_type": "code",
   "execution_count": null,
   "source": [
    "# Aplicamos la compuerta Y en el circuito definido en el ejemplo anterior\n",
    "qc.y(0)\n",
    "\n",
    "# Dibujamos el circuito\n",
    "qc.draw('mpl')"
   ],
   "outputs": [],
   "metadata": {}
  },
  {
   "cell_type": "markdown",
   "source": [
    "<a id=\"secc2.4\"></a>\n",
    "## Compuerta Hadamard"
   ],
   "metadata": {}
  },
  {
   "cell_type": "markdown",
   "source": [
    "La compuerta Hadamard es una de las compuertas funamentales de la computación cuántica. Esta compuerta genera una superposición entre los 2 estados. Su representación matemática está dada por:\n",
    "\n",
    "$$ H = \\frac{1}{\\sqrt{2}} \\begin{pmatrix}\n",
    "        1 & 1 \\\\\n",
    "        1 & -1 \\\\\n",
    "        \\end {pmatrix}$$\n",
    "\n",
    "Al aplicarla sobre los estados $|0>$ y $|1>$ se obtienen los estados $|+>$ y $|->$ respectivamente:\n",
    "\n",
    "$$ \\begin{align*} H|0> & = \\frac{1}{\\sqrt{2}} \\left( |0> + |1> \\right) = |+> \\\\\n",
    "                H|1> & = \\frac{1}{\\sqrt{2}} \\left( |0> - |1> \\right) = |-> \\end{align*} $$\n",
    "\n",
    "Su implementación en Qiskit está dada por el método `h()` y, al igual que las compuertas anteriores, su argumento está dado por el número de qubit sobre el cual se aplica la compuerta."
   ],
   "metadata": {}
  },
  {
   "cell_type": "code",
   "execution_count": null,
   "source": [
    "# Aplicamos la compuerta Y en el circuito definido en el ejemplo anterior\n",
    "qc.h(0)\n",
    "\n",
    "# Dibujamos el circuito\n",
    "qc.draw('mpl')"
   ],
   "outputs": [],
   "metadata": {}
  },
  {
   "cell_type": "markdown",
   "source": [
    "<a id=\"secc3\"></a>\n",
    "# Compuertas de múltiples qubits"
   ],
   "metadata": {}
  },
  {
   "cell_type": "markdown",
   "source": [
    "Un sistema de múltiples qubits se representa por el producto tensorial de cada uno de los estados, por lo que se tendrían $2^n$ estados, donde $n$ es el número de qubits. Por ejemplo, si se tiene un estado de 2 qubits, se tienen 4 estados dados por:\n",
    "\n",
    " $$\\begin{align*} |00> & = |0> \\otimes |0> = \\begin{pmatrix} 1 \\begin{pmatrix} 1 \\\\ 0 \\end{pmatrix} \\\\ 0 \\begin{pmatrix} 1 \\\\ 0 \\end{pmatrix}  \\end{pmatrix} = \\begin{pmatrix} 1 \\\\ 0 \\\\ 0 \\\\ 0 \\end{pmatrix} \\\\\n",
    " |01> & = |0> \\otimes |1> = \\begin{pmatrix} 1 \\begin{pmatrix} 0 \\\\ 1 \\end{pmatrix} \\\\ 0 \\begin{pmatrix} 0 \\\\ 1 \\end{pmatrix}  \\end{pmatrix} = \\begin{pmatrix} 0 \\\\ 1 \\\\ 0 \\\\ 0 \\end{pmatrix} \\\\ \n",
    " |10> & = |1> \\otimes |0> = \\begin{pmatrix} 0 \\begin{pmatrix} 1 \\\\ 0 \\end{pmatrix} \\\\ 1 \\begin{pmatrix} 1 \\\\ 0 \\end{pmatrix}  \\end{pmatrix} = \\begin{pmatrix} 0 \\\\ 0 \\\\ 1 \\\\ 0 \\end{pmatrix} \\\\\n",
    "|11> & = |1> \\otimes |1> = \\begin{pmatrix} 0 \\begin{pmatrix} 0 \\\\ 1 \\end{pmatrix} \\\\ 1 \\begin{pmatrix} 0 \\\\ 1 \\end{pmatrix}  \\end{pmatrix} = \\begin{pmatrix} 0 \\\\ 0 \\\\ 0 \\\\ 0 \\end{pmatrix} \\\\  \\end{align*} $$\n",
    "\n",
    "De manera análoga una compuerta de 2 qubits está dada por:\n",
    "\n",
    "$$ A \\otimes B = \\begin{pmatrix} A_{00} \\begin{pmatrix} B_{00} && B_{01} \\\\ B_{10} && B_{11} \\end{pmatrix} && A_{01} \\begin{pmatrix} B_{00} && B_{01} \\\\ B_{10} && B_{11} \\end{pmatrix} \\\\ A_{10} \\begin{pmatrix} B_{00} && B_{01} \\\\ B_{10} && B_{11} \\end{pmatrix} && A_{11} \\begin{pmatrix} B_{00} && B_{01} \\\\ B_{10} && B_{11} \\end{pmatrix} \\end{pmatrix}$$"
   ],
   "metadata": {}
  },
  {
   "cell_type": "markdown",
   "source": [
    "<a id=\"secc3.1\"></a>\n",
    "## Compuerta *CNOT*"
   ],
   "metadata": {}
  },
  {
   "cell_type": "markdown",
   "source": [
    "La gran mayoría de las compuertas de 2 qubits son controladas, estas se componen de 2 partes, un qubit de control y un objetivo. Si el qubit de control se encuentra en el estado $ |1> $ se aplica la compuerta unitaria sobre el qubit objetivo. Si el wubit de control se encuentra en el estado |0>, no se aplica ninguna compuerta unitaria sobre el qubit objetivo. \n",
    "\n",
    "Uno de los principales es la compuerta *CNOT*, la cual niega el qubit objetivo si el qubit control se encuentra en el estado $|1>$, es decir aplica una compuerta *X*. Es decir: $$ |00> \\Rightarrow |00> \\text{    } |01> \\Rightarrow |01> \\text{   } |10> \\Rightarrow |01> \\text{   } |11> \\Rightarrow |10> $$\n",
    "\n",
    "Su representación matemática está dada por:\n",
    "\n",
    "$$ C_X = \\begin{pmatrix} 1 && 0 && 0 && 0 \\\\ 0 && 1 && 0 && 0 \\\\ 0 && 0 && 0 && 1 \\\\ 0 && 0 && 1 && 0 \\end{pmatrix} $$\n",
    "\n",
    "Su implementación en qiskit está dada por el método `cx()` donde el primer argumento es el qubit de control y el segundo argumento es el qubit objetivo, por ejemplo:"
   ],
   "metadata": {}
  },
  {
   "cell_type": "code",
   "execution_count": null,
   "source": [
    "#Definimos el circuito de 2 qubits\n",
    "circuito = QuantumCircuit(q)\n",
    "\n",
    "#Aplicamos la compuerta CNOT con el primer qubit de control y el segundo objetivo\n",
    "circuito.cx(0,1)\n",
    "\n",
    "#Dibujamos el circuito\n",
    "circuito.draw(output='mpl')"
   ],
   "outputs": [],
   "metadata": {}
  },
  {
   "cell_type": "markdown",
   "source": [
    "<a id=\"secc3.2\"></a>\n",
    "## Compuertas controladas"
   ],
   "metadata": {}
  },
  {
   "cell_type": "markdown",
   "source": [
    "De manera análoga a la compuerta CNOT, el resto de las compuertas unitarias también tienen un análogo controlado: *CY*, *CZ* y *C-Hadamard*. Su representación matemática está dada por:\n",
    "\n",
    "$$\\begin{align*} C_Y & = \\begin{pmatrix} 1 && 0 && 0 && 0 \\\\ 0 && 1 && 0 && 0 \\\\ 0 && 0 && 0 && -i \\\\ 0 && 0 && i && 0 \\end{pmatrix} \\\\\n",
    "C_Z & = \\begin{pmatrix} 1 && 0 && 0 && 0 \\\\ 0 && 1 && 0 && 0 \\\\ 0 && 0 && 1 && 0 \\\\ 0 && 0 && 0 && -1 \\end{pmatrix} \\\\\n",
    "C_H &= \\begin{pmatrix} 1 && 0 && 0 && 0 \\\\ 0 && 1 && 0 && 0 \\\\ 0 && 0 && \\frac{1}{\\sqrt{2}} && \\frac{1}{\\sqrt{2}} \\\\ 0 && 0 && \\frac{1}{\\sqrt{2}} && -\\frac{1}{\\sqrt{2}} \\end{pmatrix} \\end{align*}$$\n",
    "\n",
    "Su implementación en qiskit está dado por los métodos `cy()`, `cz()` y `ch()` respectivamente. El primer argumento, al igual con la compuerta *CNOT*, representa el qubit de control y el segundo el qubit objetivo."
   ],
   "metadata": {}
  },
  {
   "cell_type": "code",
   "execution_count": null,
   "source": [
    "#De manera análoga a la compuerta CNOT aplicamos las compuerta CY, CZ y C-Hadamard\n",
    "circuito.cy(0,1)\n",
    "circuito.cz(0,1)\n",
    "circuito.ch(0,1)\n",
    "\n",
    "#Dibujamos el circuito\n",
    "circuito.draw(output='latex')"
   ],
   "outputs": [],
   "metadata": {}
  },
  {
   "cell_type": "markdown",
   "source": [
    "<a id=\"secc3.3\"></a>\n",
    "## Compuerta *Swap*"
   ],
   "metadata": {}
  },
  {
   "cell_type": "markdown",
   "source": [
    "La compuerta *Swap* consiste en intercambiar los 2 qubits, es decir:\n",
    "$$ |00> \\Rightarrow |00> \\text{    } |01> \\Rightarrow |10> \\text{   } |10> \\Rightarrow |01> \\text{   } |11> \\Rightarrow |11> $$\n",
    "\n",
    "Y su representación matemática está dada por: $$ SWAP = \\begin{pmatrix} 1 && 0 && 0 && 0 \\\\ 0 && 0 && 1 && 0 \\\\ 0 && 1 && 0 && 0 \\\\ 0 && 0 && 0 && 1 \\end{pmatrix}$$\n",
    "\n",
    "Su implementación en qiskit está dada por el método `swap()`, donde los argumentos son los qubits a intercambiar"
   ],
   "metadata": {}
  },
  {
   "cell_type": "code",
   "execution_count": null,
   "source": [
    "# Implementamos la compuerta Swap\n",
    "circuito.swap(0,1)\n",
    "\n",
    "#Dibujamos el circuito\n",
    "circuito.draw(output='mpl')"
   ],
   "outputs": [],
   "metadata": {}
  },
  {
   "cell_type": "markdown",
   "source": [
    "<a id=\"secc3.4\"></a>\n",
    "## Compuerta *Toffoli*"
   ],
   "metadata": {}
  },
  {
   "cell_type": "markdown",
   "source": [
    "Si se cuenta con 3 qubits, la representación matemática de una compuerta será una matriz de 8x8. La compuerta de 3 qubits más utilizada es una compuerta *X* con 2 qubits de control, esta es conocida como compuerta *Toffoli* y su representación matemática está dada por:\n",
    "\n",
    "$$ C_{C_X} = \\begin{pmatrix} 1 && 0 && 0 && 0 && 0 && 0 && 0 && 0 \\\\\n",
    "0 && 1 && 0 && 0 && 0 && 0 && 0 && 0  \\\\ 0 && 0 && 1 && 0 && 0 && 0 && 0&& 0 \\\\ 0 && 0 && 0 && 1 && 0 && 0 && 0 && 0  \\\\ 0 && 0 && 0 && 0 && 1 && 0 && 0 && 0 \\\\ 0 && 0 && 0 && 0 && 0 && 1 && 0 && 0 \\\\ 0 && 0 && 0 && 0 && 0 && 0 && 0 && 1 \\\\ 0&& 0 && 0 && 0 && 0 && 0 && 1 && 0\\end{pmatrix} $$\n",
    "\n",
    "Su implementación en qiskit es utilizando el método `ccx()` que toma 3 argumentos, los primeros 2 son los qubits de control y el tercero es el qubit objetivo."
   ],
   "metadata": {}
  },
  {
   "cell_type": "code",
   "execution_count": null,
   "source": [
    "#Definimos un registro de 3 qubits\n",
    "q = QuantumRegister(3, name='qubit')\n",
    "\n",
    "#Definimos un circuito de 3 qubits\n",
    "circ = QuantumCircuit(q)\n",
    "\n",
    "#Aplicamos la compuerta Toffoli\n",
    "circ.ccx(0,1,2)\n",
    "\n",
    "#Dibujamos el circuito\n",
    "circ.draw(output='latex')"
   ],
   "outputs": [],
   "metadata": {}
  },
  {
   "cell_type": "markdown",
   "source": [
    "<a id=\"secc4\"></a>\n",
    "# Compuertas no unitarias"
   ],
   "metadata": {}
  },
  {
   "cell_type": "markdown",
   "source": [
    "<a id=\"secc4.1\"></a>\n",
    "## Mediciones"
   ],
   "metadata": {}
  },
  {
   "cell_type": "markdown",
   "source": [
    "Ya hemos visto diferentes compuertas con las que podemos manipular nuestros qubits y así generar superposiciones, sin embargo, físicamente nosotros no podemos observar esta superposisción lo que nosotros podemos hacer es tomar una medición múltiples veces para así poder conocer las probabilidades de obtener cada uno de los estados. \n",
    "\n",
    "Para tomar una medición en qiskit se utiliza el método `measure()` donde el primer argumento es el qubit que se busca medir y el segundo es el bit sobre el cual se almacena la medición, por ejemplo:"
   ],
   "metadata": {}
  },
  {
   "cell_type": "code",
   "execution_count": null,
   "source": [
    "#Definimos un circuito de 1 qubit y 1 bit\n",
    "qc = QuantumCircuit(1,1)\n",
    "\n",
    "#Medimos el qubit 0 y se almacena en el bit 0\n",
    "qc.measure(0,0)\n",
    "\n",
    "#Dibujamos el circuito\n",
    "qc.draw(output='mpl')"
   ],
   "outputs": [],
   "metadata": {}
  },
  {
   "cell_type": "markdown",
   "source": [
    "<a id=\"secc4.2\"></a>\n",
    "## Reset"
   ],
   "metadata": {}
  },
  {
   "cell_type": "markdown",
   "source": [
    "Es importante recordar que al tomar una medición, ese qubit va a colapsar en cierto estado ($|0>$ o $|1>$), por lo que si se quiere seguir operando con él, no se puuede estar completamente seguro con que estado base se está trabajando si se contaba con una superposición antes de la medición. Es por esto que puede resultar útil reiniciar el qubit al estado $|0>$ después de una medici´on, esto es posible en qiskit utilizando el método `reset()` que toma como argumento el qubit que se busca reiniciar. Por ejemplo, podemos aplicarla al circuito anterior después de la medición:"
   ],
   "metadata": {}
  },
  {
   "cell_type": "code",
   "execution_count": null,
   "source": [
    "##Reiniciamos el qubit en el estado 0\n",
    "qc.reset(0)\n",
    "\n",
    "##Dibujamos el circuito\n",
    "qc.draw(output='mpl')"
   ],
   "outputs": [],
   "metadata": {}
  },
  {
   "cell_type": "markdown",
   "source": [
    "<a id=\"secc4.3\"></a>\n",
    "## Operadores condicionales"
   ],
   "metadata": {}
  },
  {
   "cell_type": "markdown",
   "source": [
    "Anteriormente hablamos de las compuertas controladas y cómo podemos condicionar la aplicación de una compuerta al estado de un qubit. Sin embargo, también se pueden condicionar compuertas unitarias a los valores almacenados en los bits clásicos, para implementarlo en qiskit se ocupa el método `c_if()` donde el argumento contiene primero el registro clásico sobre el cual se va a condicionar y el segundo argumento representa el valor que debe tener el bit. Por ejemplo:"
   ],
   "metadata": {}
  },
  {
   "cell_type": "code",
   "execution_count": null,
   "source": [
    "#Definimos los registros\n",
    "q = QuantumRegister(1, name='qubit')\n",
    "c = ClassicalRegister(1, name='bit')\n",
    "\n",
    "#Definimos un registro de 1 qubit y 1 bit\n",
    "qc = QuantumCircuit(q, c)\n",
    "\n",
    "#Condicionamos una compuerta X si el bit tiene valor 1\n",
    "qc.x(q[0]).c_if(c, 1)\n",
    "\n",
    "#Dibujamos el circuito\n",
    "qc.draw(output='mpl')"
   ],
   "outputs": [],
   "metadata": {}
  },
  {
   "cell_type": "markdown",
   "source": [
    "<a id=\"secc5\"></a>\n",
    "# Referencias"
   ],
   "metadata": {}
  },
  {
   "cell_type": "markdown",
   "source": [
    "* [1] Singh, D. Summary of Quantum Operations. (2021, July 9). Consultado 25 de julio de 2021, en https://qiskit.org/documentation/tutorials/circuits/3_summary_of_quantum_operations.html \n",
    "* [2] Singh, D. Visualizing a Quantum Circuit Consultado 23 de julio de 2021, en https://qiskit.org/documentation/tutorials/circuits_advanced/03_advanced_circuit_visualization.html\n",
    "* [3] Nielsen, M. A., & Chuang, I. L. (2019). Quantum computation and quantum information. Cambridge: Cambridge University Press."
   ],
   "metadata": {}
  },
  {
   "cell_type": "markdown",
   "source": [
    "<table width=\"100%\">\n",
    "    <tr style=\"background-color:white;\">\n",
    "        <td>\n",
    "            <div style=\"text-align: right;\">\n",
    "            <a href=\"02_visualizacion_estados.ipynb\" style=\"color: #EE2A6F; font-size: 15px; font-weight: normal;\">\n",
    "                Notebook siguiente: Visualización de estados >>\n",
    "            </a>\n",
    "            </div>\n",
    "        </td>\n",
    "    </tr>\n",
    "</table>"
   ],
   "metadata": {}
  }
 ],
 "metadata": {
  "kernelspec": {
   "display_name": "Python 3",
   "language": "python",
   "name": "python3"
  }
 },
 "nbformat": 4,
 "nbformat_minor": 5
}